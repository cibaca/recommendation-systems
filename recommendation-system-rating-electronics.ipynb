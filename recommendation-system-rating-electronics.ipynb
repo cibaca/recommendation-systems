{
 "cells": [
  {
   "cell_type": "markdown",
   "metadata": {},
   "source": [
    "# Data Description:\n",
    "Amazon Reviews data ( data source ) The repository has several datasets. For this case study, we are using the Electronics dataset.\n",
    "\n",
    "# Domain:\n",
    "E-commerce\n",
    "\n",
    "# Context:\n",
    "Online E-commerce websites like Amazon, Flipkart uses different recommendation models to provide different suggestions to different users. Amazon currently uses item-to-item collaborative filtering, which scales to massive data sets and produces high-quality recommendations in real-time.\n",
    "\n",
    "# Attribute Information:\n",
    "- userId : Every user identified with a unique id\n",
    "- productId : Every product identified with a unique id\n",
    "- Rating : Rating of the corresponding product by the corresponding user\n",
    "- timestamp : Time of the rating ( ignore this column for this exercise)\n",
    "\n",
    "# Learning Outcomes:\n",
    "- Exploratory Data Analysis\n",
    "- Creating a Recommendation system using real data\n",
    "- Collaborative filtering\n",
    "\n",
    "# Objective:\n",
    "Build a recommendation system to recommend products to customers based on the their previous ratings for other products.\n"
   ]
  },
  {
   "cell_type": "markdown",
   "metadata": {},
   "source": [
    "# Steps and tasks:\n",
    "\n",
    "## 1. Read and explore the given dataset. \n",
    "(Rename column/add headers, plot histograms, find data characteristics) "
   ]
  },
  {
   "cell_type": "code",
   "execution_count": 1,
   "metadata": {},
   "outputs": [
    {
     "name": "stdout",
     "output_type": "stream",
     "text": [
      "Requirement already satisfied: scikit-surprise in /Users/cibaca/opt/anaconda3/lib/python3.8/site-packages (1.1.1)\r\n",
      "Requirement already satisfied: joblib>=0.11 in /Users/cibaca/opt/anaconda3/lib/python3.8/site-packages (from scikit-surprise) (1.1.0)\r\n",
      "Requirement already satisfied: scipy>=1.0.0 in /Users/cibaca/opt/anaconda3/lib/python3.8/site-packages (from scikit-surprise) (1.7.1)\r\n",
      "Requirement already satisfied: six>=1.10.0 in /Users/cibaca/opt/anaconda3/lib/python3.8/site-packages (from scikit-surprise) (1.16.0)\r\n",
      "Requirement already satisfied: numpy>=1.11.2 in /Users/cibaca/opt/anaconda3/lib/python3.8/site-packages (from scikit-surprise) (1.21.2)\r\n"
     ]
    }
   ],
   "source": [
    "!pip install scikit-surprise"
   ]
  },
  {
   "cell_type": "code",
   "execution_count": 2,
   "metadata": {},
   "outputs": [],
   "source": [
    "import pandas as pd\n",
    "import numpy as np\n",
    "import os\n",
    "from surprise import KNNWithMeans\n",
    "from surprise import Dataset\n",
    "from surprise import accuracy\n",
    "from surprise.model_selection import train_test_split\n",
    "from surprise import Reader\n",
    "from sklearn.metrics.pairwise import cosine_similarity\n",
    "from sklearn.feature_extraction.text import CountVectorizer"
   ]
  },
  {
   "cell_type": "code",
   "execution_count": null,
   "metadata": {},
   "outputs": [],
   "source": []
  },
  {
   "cell_type": "code",
   "execution_count": 3,
   "metadata": {},
   "outputs": [
    {
     "data": {
      "text/html": [
       "<div>\n",
       "<style scoped>\n",
       "    .dataframe tbody tr th:only-of-type {\n",
       "        vertical-align: middle;\n",
       "    }\n",
       "\n",
       "    .dataframe tbody tr th {\n",
       "        vertical-align: top;\n",
       "    }\n",
       "\n",
       "    .dataframe thead th {\n",
       "        text-align: right;\n",
       "    }\n",
       "</style>\n",
       "<table border=\"1\" class=\"dataframe\">\n",
       "  <thead>\n",
       "    <tr style=\"text-align: right;\">\n",
       "      <th></th>\n",
       "      <th>AKM1MP6P0OYPR</th>\n",
       "      <th>0132793040</th>\n",
       "      <th>5.0</th>\n",
       "      <th>1365811200</th>\n",
       "    </tr>\n",
       "  </thead>\n",
       "  <tbody>\n",
       "    <tr>\n",
       "      <th>0</th>\n",
       "      <td>A2CX7LUOHB2NDG</td>\n",
       "      <td>0321732944</td>\n",
       "      <td>5.0</td>\n",
       "      <td>1341100800</td>\n",
       "    </tr>\n",
       "    <tr>\n",
       "      <th>1</th>\n",
       "      <td>A2NWSAGRHCP8N5</td>\n",
       "      <td>0439886341</td>\n",
       "      <td>1.0</td>\n",
       "      <td>1367193600</td>\n",
       "    </tr>\n",
       "    <tr>\n",
       "      <th>2</th>\n",
       "      <td>A2WNBOD3WNDNKT</td>\n",
       "      <td>0439886341</td>\n",
       "      <td>3.0</td>\n",
       "      <td>1374451200</td>\n",
       "    </tr>\n",
       "    <tr>\n",
       "      <th>3</th>\n",
       "      <td>A1GI0U4ZRJA8WN</td>\n",
       "      <td>0439886341</td>\n",
       "      <td>1.0</td>\n",
       "      <td>1334707200</td>\n",
       "    </tr>\n",
       "    <tr>\n",
       "      <th>4</th>\n",
       "      <td>A1QGNMC6O1VW39</td>\n",
       "      <td>0511189877</td>\n",
       "      <td>5.0</td>\n",
       "      <td>1397433600</td>\n",
       "    </tr>\n",
       "  </tbody>\n",
       "</table>\n",
       "</div>"
      ],
      "text/plain": [
       "    AKM1MP6P0OYPR  0132793040  5.0  1365811200\n",
       "0  A2CX7LUOHB2NDG  0321732944  5.0  1341100800\n",
       "1  A2NWSAGRHCP8N5  0439886341  1.0  1367193600\n",
       "2  A2WNBOD3WNDNKT  0439886341  3.0  1374451200\n",
       "3  A1GI0U4ZRJA8WN  0439886341  1.0  1334707200\n",
       "4  A1QGNMC6O1VW39  0511189877  5.0  1397433600"
      ]
     },
     "execution_count": 3,
     "metadata": {},
     "output_type": "execute_result"
    }
   ],
   "source": [
    "ratings_raw = pd.read_csv(\"dataset/ratings_Electronics.csv\")  \n",
    "ratings_raw.head() "
   ]
  },
  {
   "cell_type": "code",
   "execution_count": 4,
   "metadata": {},
   "outputs": [
    {
     "data": {
      "text/plain": [
       "(7824481, 4)"
      ]
     },
     "execution_count": 4,
     "metadata": {},
     "output_type": "execute_result"
    }
   ],
   "source": [
    "ratings_raw.shape"
   ]
  },
  {
   "cell_type": "code",
   "execution_count": 5,
   "metadata": {},
   "outputs": [],
   "source": [
    "df = pd.read_csv(\"dataset/ratings_Electronics.csv\",  sep=\",\",  names=[\"user_id\", \"product_id\", \"rating\", \"timestamp\"])"
   ]
  },
  {
   "cell_type": "code",
   "execution_count": 6,
   "metadata": {},
   "outputs": [
    {
     "data": {
      "text/html": [
       "<div>\n",
       "<style scoped>\n",
       "    .dataframe tbody tr th:only-of-type {\n",
       "        vertical-align: middle;\n",
       "    }\n",
       "\n",
       "    .dataframe tbody tr th {\n",
       "        vertical-align: top;\n",
       "    }\n",
       "\n",
       "    .dataframe thead th {\n",
       "        text-align: right;\n",
       "    }\n",
       "</style>\n",
       "<table border=\"1\" class=\"dataframe\">\n",
       "  <thead>\n",
       "    <tr style=\"text-align: right;\">\n",
       "      <th></th>\n",
       "      <th>user_id</th>\n",
       "      <th>product_id</th>\n",
       "      <th>rating</th>\n",
       "      <th>timestamp</th>\n",
       "    </tr>\n",
       "  </thead>\n",
       "  <tbody>\n",
       "    <tr>\n",
       "      <th>0</th>\n",
       "      <td>AKM1MP6P0OYPR</td>\n",
       "      <td>0132793040</td>\n",
       "      <td>5.0</td>\n",
       "      <td>1365811200</td>\n",
       "    </tr>\n",
       "    <tr>\n",
       "      <th>1</th>\n",
       "      <td>A2CX7LUOHB2NDG</td>\n",
       "      <td>0321732944</td>\n",
       "      <td>5.0</td>\n",
       "      <td>1341100800</td>\n",
       "    </tr>\n",
       "    <tr>\n",
       "      <th>2</th>\n",
       "      <td>A2NWSAGRHCP8N5</td>\n",
       "      <td>0439886341</td>\n",
       "      <td>1.0</td>\n",
       "      <td>1367193600</td>\n",
       "    </tr>\n",
       "    <tr>\n",
       "      <th>3</th>\n",
       "      <td>A2WNBOD3WNDNKT</td>\n",
       "      <td>0439886341</td>\n",
       "      <td>3.0</td>\n",
       "      <td>1374451200</td>\n",
       "    </tr>\n",
       "    <tr>\n",
       "      <th>4</th>\n",
       "      <td>A1GI0U4ZRJA8WN</td>\n",
       "      <td>0439886341</td>\n",
       "      <td>1.0</td>\n",
       "      <td>1334707200</td>\n",
       "    </tr>\n",
       "  </tbody>\n",
       "</table>\n",
       "</div>"
      ],
      "text/plain": [
       "          user_id  product_id  rating   timestamp\n",
       "0   AKM1MP6P0OYPR  0132793040     5.0  1365811200\n",
       "1  A2CX7LUOHB2NDG  0321732944     5.0  1341100800\n",
       "2  A2NWSAGRHCP8N5  0439886341     1.0  1367193600\n",
       "3  A2WNBOD3WNDNKT  0439886341     3.0  1374451200\n",
       "4  A1GI0U4ZRJA8WN  0439886341     1.0  1334707200"
      ]
     },
     "execution_count": 6,
     "metadata": {},
     "output_type": "execute_result"
    }
   ],
   "source": [
    "df.head()"
   ]
  },
  {
   "cell_type": "code",
   "execution_count": 7,
   "metadata": {},
   "outputs": [
    {
     "data": {
      "text/plain": [
       "(7824482, 4)"
      ]
     },
     "execution_count": 7,
     "metadata": {},
     "output_type": "execute_result"
    }
   ],
   "source": [
    "df.shape"
   ]
  },
  {
   "cell_type": "code",
   "execution_count": 8,
   "metadata": {},
   "outputs": [],
   "source": [
    "df.drop(['timestamp'], axis=1, inplace=True)"
   ]
  },
  {
   "cell_type": "code",
   "execution_count": 9,
   "metadata": {},
   "outputs": [
    {
     "data": {
      "text/plain": [
       "(7824482, 3)"
      ]
     },
     "execution_count": 9,
     "metadata": {},
     "output_type": "execute_result"
    }
   ],
   "source": [
    "df.shape"
   ]
  },
  {
   "cell_type": "code",
   "execution_count": 10,
   "metadata": {},
   "outputs": [
    {
     "data": {
      "text/html": [
       "<div>\n",
       "<style scoped>\n",
       "    .dataframe tbody tr th:only-of-type {\n",
       "        vertical-align: middle;\n",
       "    }\n",
       "\n",
       "    .dataframe tbody tr th {\n",
       "        vertical-align: top;\n",
       "    }\n",
       "\n",
       "    .dataframe thead th {\n",
       "        text-align: right;\n",
       "    }\n",
       "</style>\n",
       "<table border=\"1\" class=\"dataframe\">\n",
       "  <thead>\n",
       "    <tr style=\"text-align: right;\">\n",
       "      <th></th>\n",
       "      <th>rating</th>\n",
       "    </tr>\n",
       "  </thead>\n",
       "  <tbody>\n",
       "    <tr>\n",
       "      <th>count</th>\n",
       "      <td>7.824482e+06</td>\n",
       "    </tr>\n",
       "    <tr>\n",
       "      <th>mean</th>\n",
       "      <td>4.012337e+00</td>\n",
       "    </tr>\n",
       "    <tr>\n",
       "      <th>std</th>\n",
       "      <td>1.380910e+00</td>\n",
       "    </tr>\n",
       "    <tr>\n",
       "      <th>min</th>\n",
       "      <td>1.000000e+00</td>\n",
       "    </tr>\n",
       "    <tr>\n",
       "      <th>25%</th>\n",
       "      <td>3.000000e+00</td>\n",
       "    </tr>\n",
       "    <tr>\n",
       "      <th>50%</th>\n",
       "      <td>5.000000e+00</td>\n",
       "    </tr>\n",
       "    <tr>\n",
       "      <th>75%</th>\n",
       "      <td>5.000000e+00</td>\n",
       "    </tr>\n",
       "    <tr>\n",
       "      <th>max</th>\n",
       "      <td>5.000000e+00</td>\n",
       "    </tr>\n",
       "  </tbody>\n",
       "</table>\n",
       "</div>"
      ],
      "text/plain": [
       "             rating\n",
       "count  7.824482e+06\n",
       "mean   4.012337e+00\n",
       "std    1.380910e+00\n",
       "min    1.000000e+00\n",
       "25%    3.000000e+00\n",
       "50%    5.000000e+00\n",
       "75%    5.000000e+00\n",
       "max    5.000000e+00"
      ]
     },
     "execution_count": 10,
     "metadata": {},
     "output_type": "execute_result"
    }
   ],
   "source": [
    "df.describe()"
   ]
  },
  {
   "cell_type": "code",
   "execution_count": 11,
   "metadata": {},
   "outputs": [
    {
     "name": "stdout",
     "output_type": "stream",
     "text": [
      "<class 'pandas.core.frame.DataFrame'>\n",
      "RangeIndex: 7824482 entries, 0 to 7824481\n",
      "Data columns (total 3 columns):\n",
      " #   Column      Dtype  \n",
      "---  ------      -----  \n",
      " 0   user_id     object \n",
      " 1   product_id  object \n",
      " 2   rating      float64\n",
      "dtypes: float64(1), object(2)\n",
      "memory usage: 179.1+ MB\n"
     ]
    }
   ],
   "source": [
    "df.info()"
   ]
  },
  {
   "cell_type": "code",
   "execution_count": 12,
   "metadata": {},
   "outputs": [
    {
     "data": {
      "text/plain": [
       "<AxesSubplot:>"
      ]
     },
     "execution_count": 12,
     "metadata": {},
     "output_type": "execute_result"
    },
    {
     "data": {
      "image/png": "[encoded data removed]",
      "text/plain": [
       "<Figure size 432x288 with 1 Axes>"
      ]
     },
     "metadata": {
      "needs_background": "light"
     },
     "output_type": "display_data"
    }
   ],
   "source": [
    "import matplotlib.pyplot as plt\n",
    "%matplotlib inline\n",
    "df['rating'].hist(bins=50)\n",
    "#ratings['number_of_ratings'].hist(bins=60)"
   ]
  },
  {
   "cell_type": "markdown",
   "metadata": {},
   "source": [
    "We can see that the max rating is 5 and mean is 4.01 as per described in the info. "
   ]
  },
  {
   "cell_type": "markdown",
   "metadata": {},
   "source": [
    "\n",
    "## 2. Take a subset of the dataset to make it less sparse/ denser. \n",
    "( For example, keep the users only who has given 50 or more number of ratings )"
   ]
  },
  {
   "cell_type": "code",
   "execution_count": 13,
   "metadata": {},
   "outputs": [
    {
     "name": "stdout",
     "output_type": "stream",
     "text": [
      "The original data frame shape:\t(7824482, 3)\n",
      "The new data frame shape:\t(122171, 3)\n"
     ]
    }
   ],
   "source": [
    "min_user_ratings = 50\n",
    "filter_users = df['user_id'].value_counts() > min_user_ratings\n",
    "filter_users = filter_users[filter_users].index.tolist()\n",
    "\n",
    "df_new = df[(df['user_id'].isin(filter_users))]\n",
    "print('The original data frame shape:\\t{}'.format(df.shape))\n",
    "print('The new data frame shape:\\t{}'.format(df_new.shape))"
   ]
  },
  {
   "cell_type": "markdown",
   "metadata": {},
   "source": [
    "\n",
    "## 3. Split the data randomly into train and test dataset. \n",
    "( For example, split it in 70/30 ratio)"
   ]
  },
  {
   "cell_type": "code",
   "execution_count": 14,
   "metadata": {},
   "outputs": [],
   "source": [
    "from sklearn.model_selection import train_test_split\n",
    "trainset, testset = train_test_split(df_new, test_size = 0.3, random_state = 11)"
   ]
  },
  {
   "cell_type": "code",
   "execution_count": 15,
   "metadata": {},
   "outputs": [
    {
     "name": "stdout",
     "output_type": "stream",
     "text": [
      "dimension of  train data: (85519, 3)\n",
      "dimension of test data: (36652, 3)\n"
     ]
    }
   ],
   "source": [
    "print(\"dimension of  train data: {}\".format(trainset.shape))\n",
    "print(\"dimension of test data: {}\".format(testset.shape))"
   ]
  },
  {
   "cell_type": "markdown",
   "metadata": {},
   "source": [
    "\n",
    "## 4. Build Popularity Recommender model."
   ]
  },
  {
   "cell_type": "code",
   "execution_count": 16,
   "metadata": {},
   "outputs": [
    {
     "data": {
      "text/plain": [
       "product_id\n",
       "0594481813    3.0\n",
       "0970407998    2.5\n",
       "0972683275    5.0\n",
       "1400501466    3.0\n",
       "1400501520    5.0\n",
       "Name: rating, dtype: float64"
      ]
     },
     "execution_count": 16,
     "metadata": {},
     "output_type": "execute_result"
    }
   ],
   "source": [
    "trainset.groupby('product_id')['rating'].mean().head()  "
   ]
  },
  {
   "cell_type": "code",
   "execution_count": 17,
   "metadata": {},
   "outputs": [
    {
     "data": {
      "text/plain": [
       "product_id\n",
       "B003B3N258    5.0\n",
       "B001E7498C    5.0\n",
       "B001E96JBK    5.0\n",
       "B001E96INY    5.0\n",
       "B005MLYHWY    5.0\n",
       "Name: rating, dtype: float64"
      ]
     },
     "execution_count": 17,
     "metadata": {},
     "output_type": "execute_result"
    }
   ],
   "source": [
    "trainset.groupby('product_id')['rating'].mean().sort_values(ascending=False).head()  "
   ]
  },
  {
   "cell_type": "code",
   "execution_count": 18,
   "metadata": {},
   "outputs": [
    {
     "data": {
      "text/plain": [
       "product_id\n",
       "B0088CJT4U    134\n",
       "B003ES5ZUU    129\n",
       "B000N99BBC    124\n",
       "B007WTAJTO    103\n",
       "B008DWCRQW    102\n",
       "Name: rating, dtype: int64"
      ]
     },
     "execution_count": 18,
     "metadata": {},
     "output_type": "execute_result"
    }
   ],
   "source": [
    "trainset.groupby('product_id')['rating'].count().sort_values(ascending=False).head()  "
   ]
  },
  {
   "cell_type": "code",
   "execution_count": 19,
   "metadata": {},
   "outputs": [],
   "source": [
    "ratings_mean_count = pd.DataFrame(trainset.groupby('product_id')['rating'].mean()) "
   ]
  },
  {
   "cell_type": "code",
   "execution_count": 20,
   "metadata": {},
   "outputs": [],
   "source": [
    "ratings_mean_count['rating_counts'] = pd.DataFrame(trainset.groupby('product_id')['rating'].count())  "
   ]
  },
  {
   "cell_type": "code",
   "execution_count": 21,
   "metadata": {},
   "outputs": [
    {
     "data": {
      "text/html": [
       "<div>\n",
       "<style scoped>\n",
       "    .dataframe tbody tr th:only-of-type {\n",
       "        vertical-align: middle;\n",
       "    }\n",
       "\n",
       "    .dataframe tbody tr th {\n",
       "        vertical-align: top;\n",
       "    }\n",
       "\n",
       "    .dataframe thead th {\n",
       "        text-align: right;\n",
       "    }\n",
       "</style>\n",
       "<table border=\"1\" class=\"dataframe\">\n",
       "  <thead>\n",
       "    <tr style=\"text-align: right;\">\n",
       "      <th></th>\n",
       "      <th>rating</th>\n",
       "      <th>rating_counts</th>\n",
       "    </tr>\n",
       "    <tr>\n",
       "      <th>product_id</th>\n",
       "      <th></th>\n",
       "      <th></th>\n",
       "    </tr>\n",
       "  </thead>\n",
       "  <tbody>\n",
       "    <tr>\n",
       "      <th>0594481813</th>\n",
       "      <td>3.0</td>\n",
       "      <td>1</td>\n",
       "    </tr>\n",
       "    <tr>\n",
       "      <th>0970407998</th>\n",
       "      <td>2.5</td>\n",
       "      <td>2</td>\n",
       "    </tr>\n",
       "    <tr>\n",
       "      <th>0972683275</th>\n",
       "      <td>5.0</td>\n",
       "      <td>2</td>\n",
       "    </tr>\n",
       "    <tr>\n",
       "      <th>1400501466</th>\n",
       "      <td>3.0</td>\n",
       "      <td>3</td>\n",
       "    </tr>\n",
       "    <tr>\n",
       "      <th>1400501520</th>\n",
       "      <td>5.0</td>\n",
       "      <td>1</td>\n",
       "    </tr>\n",
       "  </tbody>\n",
       "</table>\n",
       "</div>"
      ],
      "text/plain": [
       "            rating  rating_counts\n",
       "product_id                       \n",
       "0594481813     3.0              1\n",
       "0970407998     2.5              2\n",
       "0972683275     5.0              2\n",
       "1400501466     3.0              3\n",
       "1400501520     5.0              1"
      ]
     },
     "execution_count": 21,
     "metadata": {},
     "output_type": "execute_result"
    }
   ],
   "source": [
    "ratings_mean_count.head()  "
   ]
  },
  {
   "cell_type": "code",
   "execution_count": 22,
   "metadata": {},
   "outputs": [
    {
     "data": {
      "text/plain": [
       "product_id\n",
       "B0088CJT4U    70\n",
       "B007WTAJTO    53\n",
       "B003ES5ZUU    48\n",
       "B00829TIEK    48\n",
       "B00829THK0    44\n",
       "Name: rating, dtype: int64"
      ]
     },
     "execution_count": 22,
     "metadata": {},
     "output_type": "execute_result"
    }
   ],
   "source": [
    "testset.groupby('product_id')['rating'].count().sort_values(ascending=False).head()  "
   ]
  },
  {
   "cell_type": "code",
   "execution_count": 23,
   "metadata": {},
   "outputs": [
    {
     "data": {
      "text/plain": [
       "product_id\n",
       "0972683275    5.0\n",
       "B003YNRWQA    5.0\n",
       "B003ZSHKIO    5.0\n",
       "B003ZSHNEA    5.0\n",
       "B003ZSHNFO    5.0\n",
       "Name: rating, dtype: float64"
      ]
     },
     "execution_count": 23,
     "metadata": {},
     "output_type": "execute_result"
    }
   ],
   "source": [
    "testset.groupby('product_id')['rating'].mean().sort_values(ascending=False).head()  "
   ]
  },
  {
   "cell_type": "code",
   "execution_count": 24,
   "metadata": {},
   "outputs": [],
   "source": [
    "ratings_mean_count_test = pd.DataFrame(testset.groupby('product_id')['rating'].mean()) "
   ]
  },
  {
   "cell_type": "code",
   "execution_count": 25,
   "metadata": {},
   "outputs": [],
   "source": [
    "ratings_mean_count_test['rating_counts'] = pd.DataFrame(testset.groupby('product_id')['rating'].count())  "
   ]
  },
  {
   "cell_type": "code",
   "execution_count": 26,
   "metadata": {},
   "outputs": [
    {
     "data": {
      "text/html": [
       "<div>\n",
       "<style scoped>\n",
       "    .dataframe tbody tr th:only-of-type {\n",
       "        vertical-align: middle;\n",
       "    }\n",
       "\n",
       "    .dataframe tbody tr th {\n",
       "        vertical-align: top;\n",
       "    }\n",
       "\n",
       "    .dataframe thead th {\n",
       "        text-align: right;\n",
       "    }\n",
       "</style>\n",
       "<table border=\"1\" class=\"dataframe\">\n",
       "  <thead>\n",
       "    <tr style=\"text-align: right;\">\n",
       "      <th></th>\n",
       "      <th>rating</th>\n",
       "      <th>rating_counts</th>\n",
       "    </tr>\n",
       "    <tr>\n",
       "      <th>product_id</th>\n",
       "      <th></th>\n",
       "      <th></th>\n",
       "    </tr>\n",
       "  </thead>\n",
       "  <tbody>\n",
       "    <tr>\n",
       "      <th>0972683275</th>\n",
       "      <td>5.0</td>\n",
       "      <td>1</td>\n",
       "    </tr>\n",
       "    <tr>\n",
       "      <th>1400501466</th>\n",
       "      <td>3.0</td>\n",
       "      <td>2</td>\n",
       "    </tr>\n",
       "    <tr>\n",
       "      <th>1400599997</th>\n",
       "      <td>5.0</td>\n",
       "      <td>1</td>\n",
       "    </tr>\n",
       "    <tr>\n",
       "      <th>1685560148</th>\n",
       "      <td>5.0</td>\n",
       "      <td>1</td>\n",
       "    </tr>\n",
       "    <tr>\n",
       "      <th>3744295508</th>\n",
       "      <td>5.0</td>\n",
       "      <td>1</td>\n",
       "    </tr>\n",
       "  </tbody>\n",
       "</table>\n",
       "</div>"
      ],
      "text/plain": [
       "            rating  rating_counts\n",
       "product_id                       \n",
       "0972683275     5.0              1\n",
       "1400501466     3.0              2\n",
       "1400599997     5.0              1\n",
       "1685560148     5.0              1\n",
       "3744295508     5.0              1"
      ]
     },
     "execution_count": 26,
     "metadata": {},
     "output_type": "execute_result"
    }
   ],
   "source": [
    "ratings_mean_count_test.head()  "
   ]
  },
  {
   "cell_type": "code",
   "execution_count": null,
   "metadata": {},
   "outputs": [],
   "source": []
  },
  {
   "cell_type": "markdown",
   "metadata": {},
   "source": [
    "\n",
    "## 5. Build Collaborative Filtering model. "
   ]
  },
  {
   "cell_type": "code",
   "execution_count": 27,
   "metadata": {},
   "outputs": [],
   "source": [
    "reader = Reader()\n",
    "data = Dataset.load_from_df(df_new[['user_id', 'product_id', 'rating']], reader)"
   ]
  },
  {
   "cell_type": "code",
   "execution_count": 28,
   "metadata": {},
   "outputs": [],
   "source": [
    "from surprise.model_selection import train_test_split\n",
    "\n",
    "trainset2, testset2 = train_test_split(data, test_size=0.30, random_state=11)"
   ]
  },
  {
   "cell_type": "code",
   "execution_count": 29,
   "metadata": {},
   "outputs": [
    {
     "name": "stdout",
     "output_type": "stream",
     "text": [
      "Estimating biases using als...\n",
      "Computing the pearson_baseline similarity matrix...\n",
      "Done computing similarity matrix.\n"
     ]
    },
    {
     "data": {
      "text/plain": [
       "<surprise.prediction_algorithms.knns.KNNWithMeans at 0x7fbd4b7746a0>"
      ]
     },
     "execution_count": 29,
     "metadata": {},
     "output_type": "execute_result"
    }
   ],
   "source": [
    "# Use user_based true/false to switch between user-based or item-based collaborative filtering\n",
    "algo = KNNWithMeans(k=5, sim_options={'name': 'pearson_baseline', 'user_based': True})\n",
    "algo.fit(trainset2)"
   ]
  },
  {
   "cell_type": "code",
   "execution_count": 30,
   "metadata": {},
   "outputs": [],
   "source": [
    "# we can now query for specific predicions\n",
    "uid = str(196)  # raw user id\n",
    "iid = str(302)  # raw item id"
   ]
  },
  {
   "cell_type": "code",
   "execution_count": 31,
   "metadata": {},
   "outputs": [
    {
     "name": "stdout",
     "output_type": "stream",
     "text": [
      "user: 196        item: 302        r_ui = None   est = 4.27   {'was_impossible': True, 'reason': 'User and/or item is unknown.'}\n"
     ]
    }
   ],
   "source": [
    "# get a prediction for specific users and items.\n",
    "pred = algo.predict(uid, iid, verbose=True)"
   ]
  },
  {
   "cell_type": "code",
   "execution_count": 32,
   "metadata": {},
   "outputs": [],
   "source": [
    "# run the trained model against the testset\n",
    "test_pred = algo.test(testset2)"
   ]
  },
  {
   "cell_type": "code",
   "execution_count": 33,
   "metadata": {},
   "outputs": [
    {
     "data": {
      "text/plain": [
       "[Prediction(uid='A2V2URLB31HG59', iid='B00COEBCXY', r_ui=5.0, est=4.739130434782608, details={'actual_k': 1, 'was_impossible': False}),\n",
       " Prediction(uid='A2VODABWSVHV8E', iid='B0019UEY66', r_ui=5.0, est=4.265800582326734, details={'was_impossible': True, 'reason': 'User and/or item is unknown.'}),\n",
       " Prediction(uid='A376OJHLE6SU9Q', iid='B002N8A098', r_ui=5.0, est=4.391752577319588, details={'actual_k': 0, 'was_impossible': False}),\n",
       " Prediction(uid='A203OCQQ12MAVT', iid='B000MSZQ4K', r_ui=5.0, est=4.265800582326734, details={'was_impossible': True, 'reason': 'User and/or item is unknown.'}),\n",
       " Prediction(uid='A11ULAZ4B5ZXC8', iid='B00005A1K1', r_ui=5.0, est=4.909090909090909, details={'actual_k': 0, 'was_impossible': False}),\n",
       " Prediction(uid='A1F1A0QQP2XVH5', iid='B0079TOEQQ', r_ui=5.0, est=3.9597563526555715, details={'actual_k': 5, 'was_impossible': False}),\n",
       " Prediction(uid='A3D822N1K2IAQD', iid='B0093H4WT6', r_ui=5.0, est=3.7123119521573065, details={'actual_k': 2, 'was_impossible': False}),\n",
       " Prediction(uid='A3DQWFWINN3V5A', iid='B008O515CK', r_ui=4.0, est=4.1891891891891895, details={'actual_k': 0, 'was_impossible': False}),\n",
       " Prediction(uid='AU2UJF4I7KAWL', iid='B000OPB4U6', r_ui=5.0, est=4.265800582326734, details={'was_impossible': True, 'reason': 'User and/or item is unknown.'}),\n",
       " Prediction(uid='A3RGHO0Q938FRS', iid='B008FQKKB0', r_ui=5.0, est=4.4495013878444, details={'actual_k': 2, 'was_impossible': False}),\n",
       " Prediction(uid='A1PV5T5S4D5NPI', iid='B000IAPEIK', r_ui=2.0, est=4.265800582326734, details={'was_impossible': True, 'reason': 'User and/or item is unknown.'}),\n",
       " Prediction(uid='A1435P5AMCPB3X', iid='B000GIQR0S', r_ui=3.0, est=4.265800582326734, details={'was_impossible': True, 'reason': 'User and/or item is unknown.'}),\n",
       " Prediction(uid='A2MOD50IHEDH3G', iid='B00FZ9SM4M', r_ui=5.0, est=4.479166666666667, details={'actual_k': 0, 'was_impossible': False}),\n",
       " Prediction(uid='A28BX3MM90A6FI', iid='B002OCF57K', r_ui=5.0, est=4.265800582326734, details={'was_impossible': True, 'reason': 'User and/or item is unknown.'}),\n",
       " Prediction(uid='A34UVV757IKPVB', iid='B00AGBVVI8', r_ui=4.0, est=3.7260273972602738, details={'actual_k': 0, 'was_impossible': False}),\n",
       " Prediction(uid='AOMEH9W6LHC4S', iid='B007BY0MIS', r_ui=3.0, est=3.0386294018148168, details={'actual_k': 5, 'was_impossible': False}),\n",
       " Prediction(uid='A33PVCHCQ2BTN0', iid='B00009EFQT', r_ui=5.0, est=4.265800582326734, details={'was_impossible': True, 'reason': 'User and/or item is unknown.'}),\n",
       " Prediction(uid='A1VQHH85U7PX0', iid='B000VX6XL6', r_ui=5.0, est=3.542938396218857, details={'actual_k': 1, 'was_impossible': False}),\n",
       " Prediction(uid='A28N2AWOVO2PB', iid='B008H9BXMK', r_ui=4.0, est=4.762899597020068, details={'actual_k': 5, 'was_impossible': False}),\n",
       " Prediction(uid='A1GWG5CWLKJ7ET', iid='B005KAK2FI', r_ui=5.0, est=5, details={'actual_k': 2, 'was_impossible': False}),\n",
       " Prediction(uid='A2OT3PDH1AWLTG', iid='B001RJMN5S', r_ui=5.0, est=4.265800582326734, details={'was_impossible': True, 'reason': 'User and/or item is unknown.'}),\n",
       " Prediction(uid='AT28RL25Q2OLK', iid='B0012Z9OOU', r_ui=4.0, est=4.265800582326734, details={'was_impossible': True, 'reason': 'User and/or item is unknown.'}),\n",
       " Prediction(uid='A11I1I9QLMAM1A', iid='B00CZ6WC3A', r_ui=4.0, est=3.8346349512964064, details={'actual_k': 4, 'was_impossible': False}),\n",
       " Prediction(uid='A213J54E63SYOP', iid='B0056XI7QU', r_ui=4.0, est=4.265800582326734, details={'was_impossible': True, 'reason': 'User and/or item is unknown.'}),\n",
       " Prediction(uid='AUK79PXTAOJP9', iid='B001GUQ5S4', r_ui=5.0, est=4.265800582326734, details={'was_impossible': True, 'reason': 'User and/or item is unknown.'}),\n",
       " Prediction(uid='AEL6CQNQXONBX', iid='B007Q8GOGI', r_ui=2.0, est=3.3915515414050814, details={'actual_k': 5, 'was_impossible': False}),\n",
       " Prediction(uid='AWJWCKB92RJX2', iid='B0007OWNCC', r_ui=4.0, est=4.125, details={'actual_k': 0, 'was_impossible': False}),\n",
       " Prediction(uid='A1A5KUIIIHFF4U', iid='B008NCDD9W', r_ui=1.0, est=4.265800582326734, details={'was_impossible': True, 'reason': 'User and/or item is unknown.'}),\n",
       " Prediction(uid='A35HUT8MQMT21L', iid='B00004T8R2', r_ui=4.0, est=4.096153846153846, details={'actual_k': 0, 'was_impossible': False}),\n",
       " Prediction(uid='A3G7BEJJCPD6DS', iid='B004YTWA8I', r_ui=5.0, est=4.265800582326734, details={'was_impossible': True, 'reason': 'User and/or item is unknown.'}),\n",
       " Prediction(uid='A1E3OB6QMBKRYZ', iid='B0044IOGG8', r_ui=2.0, est=3.7, details={'actual_k': 0, 'was_impossible': False}),\n",
       " Prediction(uid='A3E9O1VNJ3U324', iid='B005FHT8AQ', r_ui=5.0, est=4.265800582326734, details={'was_impossible': True, 'reason': 'User and/or item is unknown.'}),\n",
       " Prediction(uid='A3QMJMTLJC34QC', iid='B0013FRNKG', r_ui=5.0, est=4.971004776102423, details={'actual_k': 3, 'was_impossible': False}),\n",
       " Prediction(uid='A2IMLOJ2Z2QEU2', iid='B00B7Y7PQU', r_ui=4.0, est=4.06, details={'actual_k': 0, 'was_impossible': False}),\n",
       " Prediction(uid='AG35JCCQWDRCS', iid='B0044YPN0A', r_ui=5.0, est=4.733333333333333, details={'actual_k': 0, 'was_impossible': False}),\n",
       " Prediction(uid='A2FSOHSM9X13JT', iid='B0096T97OG', r_ui=4.0, est=4.607142857142857, details={'actual_k': 0, 'was_impossible': False}),\n",
       " Prediction(uid='A1VQHH85U7PX0', iid='B002W3IXZW', r_ui=5.0, est=5, details={'actual_k': 1, 'was_impossible': False}),\n",
       " Prediction(uid='A3KCETSIJNOK56', iid='B0064XAIZY', r_ui=1.0, est=3.7837837837837838, details={'actual_k': 0, 'was_impossible': False}),\n",
       " Prediction(uid='A34DQINHT6NYJU', iid='B007M8SH4E', r_ui=4.0, est=2.263762143067413, details={'actual_k': 1, 'was_impossible': False}),\n",
       " Prediction(uid='A3VONQL7YW8UPM', iid='B006WAPM78', r_ui=5.0, est=4.023255813953488, details={'actual_k': 0, 'was_impossible': False}),\n",
       " Prediction(uid='A1OA2ZW406NQXM', iid='B005X64MN2', r_ui=4.0, est=4.128205128205129, details={'actual_k': 0, 'was_impossible': False}),\n",
       " Prediction(uid='A3QNQQKJTL76H0', iid='B004APIE4U', r_ui=2.0, est=4.265800582326734, details={'was_impossible': True, 'reason': 'User and/or item is unknown.'}),\n",
       " Prediction(uid='A1BVE2ZIBKJ7YI', iid='B00HWMPRKW', r_ui=3.0, est=3.5849056603773586, details={'actual_k': 0, 'was_impossible': False}),\n",
       " Prediction(uid='AU3GYRAKBUAEU', iid='B000UY1MB2', r_ui=2.0, est=4.298076923076923, details={'actual_k': 1, 'was_impossible': False}),\n",
       " Prediction(uid='A36K2N527TXXJN', iid='B00H0DNUB6', r_ui=5.0, est=4.5754716981132075, details={'actual_k': 0, 'was_impossible': False}),\n",
       " Prediction(uid='A3OXHLG6DIBRW8', iid='B00I4PTN2Y', r_ui=5.0, est=4.265800582326734, details={'was_impossible': True, 'reason': 'User and/or item is unknown.'}),\n",
       " Prediction(uid='A1J87SYB3JPQWH', iid='B001ELFE0K', r_ui=5.0, est=4.265800582326734, details={'was_impossible': True, 'reason': 'User and/or item is unknown.'}),\n",
       " Prediction(uid='A2WC9NFLG57W4H', iid='B008DWCRQW', r_ui=4.0, est=4.013846352884255, details={'actual_k': 5, 'was_impossible': False}),\n",
       " Prediction(uid='A1LD5SE8IZ1H70', iid='B004Q7LGZG', r_ui=5.0, est=4.203703703703703, details={'actual_k': 0, 'was_impossible': False}),\n",
       " Prediction(uid='A3LGT6UZL99IW1', iid='B0042X93AY', r_ui=5.0, est=3.697309105348464, details={'actual_k': 3, 'was_impossible': False}),\n",
       " Prediction(uid='A1U5NWJOYH2QQH', iid='B0030C1TC8', r_ui=5.0, est=4.265800582326734, details={'was_impossible': True, 'reason': 'User and/or item is unknown.'}),\n",
       " Prediction(uid='A185O1MX1RP964', iid='B004Q0T0LU', r_ui=4.0, est=4.552631578947368, details={'actual_k': 0, 'was_impossible': False}),\n",
       " Prediction(uid='A386LG0LRWKJZP', iid='B0034KO59U', r_ui=4.0, est=2.4545454545454546, details={'actual_k': 0, 'was_impossible': False}),\n",
       " Prediction(uid='AT53ZTTO707MB', iid='B003XE3X8Q', r_ui=5.0, est=4.629735379296954, details={'actual_k': 3, 'was_impossible': False}),\n",
       " Prediction(uid='A2L42QEWR77PKZ', iid='B007NKOC2W', r_ui=5.0, est=4.3768115942028984, details={'actual_k': 0, 'was_impossible': False}),\n",
       " Prediction(uid='A3U6J0DLLDEWM2', iid='B000MXB0RM', r_ui=5.0, est=4.265800582326734, details={'was_impossible': True, 'reason': 'User and/or item is unknown.'}),\n",
       " Prediction(uid='A26BDXG9KVH7SU', iid='B0079R8KO0', r_ui=4.0, est=4.136851595921898, details={'actual_k': 3, 'was_impossible': False}),\n",
       " Prediction(uid='A1LAGS8H4A2DR7', iid='B00BWX2OU8', r_ui=4.0, est=4.299267399267399, details={'actual_k': 1, 'was_impossible': False}),\n",
       " Prediction(uid='A3U41ZL33SS92P', iid='B00841HAXW', r_ui=4.0, est=4.265800582326734, details={'was_impossible': True, 'reason': 'User and/or item is unknown.'}),\n",
       " Prediction(uid='AMWL7XIWIPXEZ', iid='B00092DAFG', r_ui=2.0, est=4.265800582326734, details={'was_impossible': True, 'reason': 'User and/or item is unknown.'}),\n",
       " Prediction(uid='A3TBMGNSEQBWIL', iid='B006EKIQYM', r_ui=5.0, est=4.121212121212121, details={'actual_k': 0, 'was_impossible': False}),\n",
       " Prediction(uid='A267FU71Z01CIH', iid='B008PWUS4I', r_ui=4.0, est=4.636687841471692, details={'actual_k': 4, 'was_impossible': False}),\n",
       " Prediction(uid='A3OXHLG6DIBRW8', iid='B001GX6MJ8', r_ui=4.0, est=4.1360875955151055, details={'actual_k': 4, 'was_impossible': False}),\n",
       " Prediction(uid='A2LW5AL0KQ9P1M', iid='B008X9Z9ZQ', r_ui=4.0, est=3.9433882674286744, details={'actual_k': 5, 'was_impossible': False}),\n",
       " Prediction(uid='A30JPZ9TZ7I61U', iid='B008GEH9HO', r_ui=5.0, est=4.534883720930233, details={'actual_k': 0, 'was_impossible': False}),\n",
       " Prediction(uid='A1T9MILRRZ00F8', iid='B0001FTVE0', r_ui=5.0, est=5, details={'actual_k': 1, 'was_impossible': False}),\n",
       " Prediction(uid='A2T689YVOAYGGD', iid='B0007MXZB2', r_ui=4.0, est=4.275862068965517, details={'actual_k': 0, 'was_impossible': False}),\n",
       " Prediction(uid='A2FRKEXDXDN1KI', iid='B0002ZSFTG', r_ui=5.0, est=4.438356164383562, details={'actual_k': 0, 'was_impossible': False}),\n",
       " Prediction(uid='A2SR7S6ZJJDGNB', iid='B006DAD8NW', r_ui=5.0, est=4.265800582326734, details={'was_impossible': True, 'reason': 'User and/or item is unknown.'}),\n",
       " Prediction(uid='AKT8TGIT6VVZ5', iid='B002BTMXPS', r_ui=5.0, est=4.265800582326734, details={'was_impossible': True, 'reason': 'User and/or item is unknown.'}),\n",
       " Prediction(uid='AVTJEWTCJ3PBE', iid='B0001GAMQK', r_ui=5.0, est=4.5, details={'actual_k': 0, 'was_impossible': False}),\n",
       " Prediction(uid='A2F92M62KN324B', iid='B00C7YYQCU', r_ui=5.0, est=4.265800582326734, details={'was_impossible': True, 'reason': 'User and/or item is unknown.'}),\n",
       " Prediction(uid='A1G3DKT38DNZJP', iid='B00006HXF4', r_ui=5.0, est=4.138888888888889, details={'actual_k': 0, 'was_impossible': False}),\n",
       " Prediction(uid='ACHTDPEQYSEQL', iid='B000ND75CU', r_ui=4.0, est=3.923076923076923, details={'actual_k': 0, 'was_impossible': False}),\n",
       " Prediction(uid='AONUCJBC85BL', iid='B005FNH9RE', r_ui=5.0, est=3.876190476190476, details={'actual_k': 0, 'was_impossible': False}),\n",
       " Prediction(uid='A19W47CXJJP1MI', iid='B00BF9MUAS', r_ui=5.0, est=5, details={'actual_k': 2, 'was_impossible': False}),\n",
       " Prediction(uid='A25QJBK33C4O0R', iid='B004HO58L6', r_ui=4.0, est=3.75, details={'actual_k': 0, 'was_impossible': False}),\n",
       " Prediction(uid='A3MFORLOKIOEQY', iid='B0093H4VSS', r_ui=5.0, est=3.5002102068464813, details={'actual_k': 5, 'was_impossible': False}),\n",
       " Prediction(uid='A31ICLWQ9CSHRS', iid='B000NP3DJW', r_ui=5.0, est=4.158312447786132, details={'actual_k': 1, 'was_impossible': False}),\n",
       " Prediction(uid='A35HUT8MQMT21L', iid='B000085BD8', r_ui=5.0, est=4.096153846153846, details={'actual_k': 0, 'was_impossible': False}),\n",
       " Prediction(uid='A2XIOXRRYX0KZY', iid='B00JKM0EQE', r_ui=4.0, est=4.205000984274588, details={'actual_k': 2, 'was_impossible': False}),\n",
       " Prediction(uid='A18U49406IPPIJ', iid='B00FCISG6K', r_ui=5.0, est=5, details={'actual_k': 0, 'was_impossible': False}),\n",
       " Prediction(uid='A2F2F7N94SR1KQ', iid='B003NR57BY', r_ui=4.0, est=4.133333333333334, details={'actual_k': 0, 'was_impossible': False}),\n",
       " Prediction(uid='A3G5MOHY1U635N', iid='B000W6POQW', r_ui=4.0, est=2.853679092758919, details={'actual_k': 3, 'was_impossible': False}),\n",
       " Prediction(uid='A2F2F7N94SR1KQ', iid='B000F0ELOG', r_ui=5.0, est=4.133333333333334, details={'actual_k': 0, 'was_impossible': False}),\n",
       " Prediction(uid='A28J3123I1QDKI', iid='B005DKZTMG', r_ui=5.0, est=4.024390243902439, details={'actual_k': 0, 'was_impossible': False}),\n",
       " Prediction(uid='A1IDAKX7OM3QIE', iid='B000NVSPQW', r_ui=4.0, est=3.4166666666666665, details={'actual_k': 0, 'was_impossible': False}),\n",
       " Prediction(uid='A30XZK10EZN9V4', iid='B00111UX40', r_ui=5.0, est=4.530120481927711, details={'actual_k': 0, 'was_impossible': False}),\n",
       " Prediction(uid='A11KZ906QD08C5', iid='B000VDA00Q', r_ui=5.0, est=4.265800582326734, details={'was_impossible': True, 'reason': 'User and/or item is unknown.'}),\n",
       " Prediction(uid='AGATRDOFW48DK', iid='B000B58D2G', r_ui=5.0, est=4.265800582326734, details={'was_impossible': True, 'reason': 'User and/or item is unknown.'}),\n",
       " Prediction(uid='AMKNPIDFLRFMP', iid='B009OYYH8Y', r_ui=5.0, est=3.6595744680851063, details={'actual_k': 0, 'was_impossible': False}),\n",
       " Prediction(uid='ABUE0ALHKWKHC', iid='B002FU5QMA', r_ui=5.0, est=4.818181818181818, details={'actual_k': 0, 'was_impossible': False}),\n",
       " Prediction(uid='A3NG7X4APIV649', iid='B004RE20EO', r_ui=5.0, est=4.265800582326734, details={'was_impossible': True, 'reason': 'User and/or item is unknown.'}),\n",
       " Prediction(uid='A3T8WOFS5RD2IR', iid='B004ZMV2GA', r_ui=5.0, est=5, details={'actual_k': 1, 'was_impossible': False}),\n",
       " Prediction(uid='A2W9I628I6SE1U', iid='B000RQ3DZG', r_ui=4.0, est=4.265800582326734, details={'was_impossible': True, 'reason': 'User and/or item is unknown.'}),\n",
       " Prediction(uid='A3P4T1DKRWTL36', iid='B00004ZCJE', r_ui=5.0, est=2.9957894736842103, details={'actual_k': 1, 'was_impossible': False}),\n",
       " Prediction(uid='A37D1ZP8GBHE38', iid='B00AQDG96K', r_ui=3.0, est=4.431818181818182, details={'actual_k': 0, 'was_impossible': False}),\n",
       " Prediction(uid='A1D9V11QUHXENQ', iid='B0037U95U6', r_ui=5.0, est=4.534883720930233, details={'actual_k': 0, 'was_impossible': False}),\n",
       " Prediction(uid='A3HR0ZZOFKQ97N', iid='B00AXZWG8Q', r_ui=5.0, est=5, details={'actual_k': 1, 'was_impossible': False}),\n",
       " Prediction(uid='A2AC6GQ24S45GA', iid='B004MYFTD8', r_ui=3.0, est=4.45, details={'actual_k': 0, 'was_impossible': False}),\n",
       " Prediction(uid='A1ZU55TM45Y2R8', iid='B00E6ONJJU', r_ui=4.0, est=4.6182737927720865, details={'actual_k': 4, 'was_impossible': False}),\n",
       " Prediction(uid='A149RNR5RH19YY', iid='B00009RL1W', r_ui=2.0, est=1.1668306481367607, details={'actual_k': 1, 'was_impossible': False}),\n",
       " Prediction(uid='AG0PM9IAHQ06C', iid='B005M7AVLO', r_ui=4.0, est=4.27027027027027, details={'actual_k': 0, 'was_impossible': False}),\n",
       " Prediction(uid='A1EVV74UQYVKRY', iid='B00GK3KIE4', r_ui=4.0, est=5, details={'actual_k': 2, 'was_impossible': False}),\n",
       " Prediction(uid='ANRS196NKFVUU', iid='B0035H9A1K', r_ui=5.0, est=4.901960784313726, details={'actual_k': 0, 'was_impossible': False}),\n",
       " Prediction(uid='A1TDR7Y90SVCHL', iid='B003N8GVUY', r_ui=5.0, est=4.253333333333333, details={'actual_k': 0, 'was_impossible': False}),\n",
       " Prediction(uid='A1C5WS021EL3WO', iid='B001E4UQM8', r_ui=5.0, est=4.640625, details={'actual_k': 0, 'was_impossible': False}),\n",
       " Prediction(uid='A26BDXG9KVH7SU', iid='B006RG0QC8', r_ui=3.0, est=2.047530716572945, details={'actual_k': 5, 'was_impossible': False}),\n",
       " Prediction(uid='A3VL4RXCWNSR3H', iid='B0000ALPBA', r_ui=5.0, est=4.265800582326734, details={'was_impossible': True, 'reason': 'User and/or item is unknown.'}),\n",
       " Prediction(uid='A16HXVNPU5TCGE', iid='B00482WEFU', r_ui=5.0, est=4.265800582326734, details={'was_impossible': True, 'reason': 'User and/or item is unknown.'}),\n",
       " Prediction(uid='A2OOLI2WFY4L2', iid='B005FYNSPK', r_ui=3.0, est=3.8867924528301887, details={'actual_k': 0, 'was_impossible': False}),\n",
       " Prediction(uid='A1T9MILRRZ00F8', iid='B000UY1MB2', r_ui=3.0, est=4.612273232136246, details={'actual_k': 1, 'was_impossible': False}),\n",
       " Prediction(uid='AHROSV6WJOEGY', iid='B00DES2FQW', r_ui=1.0, est=3.4285714285714284, details={'actual_k': 0, 'was_impossible': False}),\n",
       " Prediction(uid='A1X1CEGHTHMBL1', iid='B0014DCG18', r_ui=5.0, est=4.265800582326734, details={'was_impossible': True, 'reason': 'User and/or item is unknown.'}),\n",
       " Prediction(uid='AXYM52DNK6NDF', iid='B007QXZ70W', r_ui=2.0, est=4.265800582326734, details={'was_impossible': True, 'reason': 'User and/or item is unknown.'}),\n",
       " Prediction(uid='A19W47CXJJP1MI', iid='B00KOUIC0Q', r_ui=5.0, est=4.265800582326734, details={'was_impossible': True, 'reason': 'User and/or item is unknown.'}),\n",
       " Prediction(uid='A23GFTVIETX7DS', iid='B0078ZZ5NM', r_ui=4.0, est=3.798387096774194, details={'actual_k': 1, 'was_impossible': False}),\n",
       " Prediction(uid='A2ED50E3KWKUKW', iid='B000B84KB6', r_ui=5.0, est=4.265800582326734, details={'was_impossible': True, 'reason': 'User and/or item is unknown.'}),\n",
       " Prediction(uid='A2NSMJVQY0RV9S', iid='B004FA8NOQ', r_ui=5.0, est=4.546875, details={'actual_k': 0, 'was_impossible': False}),\n",
       " Prediction(uid='AGGAQLXPVGM5D', iid='B00CF030S2', r_ui=5.0, est=3.20125, details={'actual_k': 1, 'was_impossible': False}),\n",
       " Prediction(uid='AFFVUZEGP1FDQ', iid='B00G4V0QSK', r_ui=2.0, est=4.013783794249445, details={'actual_k': 3, 'was_impossible': False}),\n",
       " Prediction(uid='A25UZ7MA72SMKM', iid='B00E98O7GC', r_ui=5.0, est=4.296633459292339, details={'actual_k': 1, 'was_impossible': False}),\n",
       " Prediction(uid='A2RN2AO4BE6F4K', iid='B0044WWLW0', r_ui=5.0, est=4.470581107705873, details={'actual_k': 4, 'was_impossible': False}),\n",
       " Prediction(uid='A2QNS95WGN35G9', iid='B001FA1OHW', r_ui=4.0, est=4.578947368421052, details={'actual_k': 0, 'was_impossible': False}),\n",
       " Prediction(uid='A3094EPI56GKZ6', iid='B00006B7TF', r_ui=5.0, est=4.265800582326734, details={'was_impossible': True, 'reason': 'User and/or item is unknown.'}),\n",
       " Prediction(uid='A1BJOHHLG0D965', iid='B00066FH1U', r_ui=5.0, est=4.1938348132015415, details={'actual_k': 1, 'was_impossible': False}),\n",
       " Prediction(uid='A84FLVDK2R5JF', iid='B004FPIO18', r_ui=3.0, est=4.464042455246958, details={'actual_k': 2, 'was_impossible': False}),\n",
       " Prediction(uid='A2858RV2VLI14X', iid='B008VB1Z7W', r_ui=4.0, est=4.657894736842105, details={'actual_k': 0, 'was_impossible': False}),\n",
       " Prediction(uid='AG0PM9IAHQ06C', iid='B001CCLBSA', r_ui=4.0, est=4.27027027027027, details={'actual_k': 0, 'was_impossible': False}),\n",
       " Prediction(uid='A2BCDZO1XQLDH', iid='B000GE8MF0', r_ui=5.0, est=4.023809523809524, details={'actual_k': 0, 'was_impossible': False}),\n",
       " Prediction(uid='A215IN14OKAE2T', iid='B00DJE30K6', r_ui=5.0, est=4.265800582326734, details={'was_impossible': True, 'reason': 'User and/or item is unknown.'}),\n",
       " Prediction(uid='AEJAGHLC675A7', iid='B005BOMTT0', r_ui=5.0, est=5, details={'actual_k': 2, 'was_impossible': False}),\n",
       " Prediction(uid='A1MEISNED4NP7U', iid='B007PLL4CK', r_ui=5.0, est=4.837209302325581, details={'actual_k': 0, 'was_impossible': False}),\n",
       " Prediction(uid='A8FKL1DHTHC12', iid='B000EW8074', r_ui=5.0, est=4.488888888888889, details={'actual_k': 0, 'was_impossible': False}),\n",
       " Prediction(uid='A6FIAB28IS79', iid='B0016BFZBQ', r_ui=5.0, est=4.176470588235294, details={'actual_k': 0, 'was_impossible': False}),\n",
       " Prediction(uid='A2X8KN82L07RSK', iid='B000N53TDM', r_ui=5.0, est=4.632469512195122, details={'actual_k': 1, 'was_impossible': False}),\n",
       " Prediction(uid='AFR9GYKAHM37U', iid='B000S5Q9CA', r_ui=5.0, est=5, details={'actual_k': 2, 'was_impossible': False}),\n",
       " Prediction(uid='A1QNYLBG73QRNF', iid='B00829TIA4', r_ui=4.0, est=4.77000037673377, details={'actual_k': 5, 'was_impossible': False}),\n",
       " Prediction(uid='A2EHYCA29NSQLU', iid='B000XAPS4A', r_ui=4.0, est=4.265800582326734, details={'was_impossible': True, 'reason': 'User and/or item is unknown.'}),\n",
       " Prediction(uid='A5GPH59NDWJRB', iid='B003SWDA4A', r_ui=3.0, est=4.114285714285714, details={'actual_k': 0, 'was_impossible': False}),\n",
       " Prediction(uid='A10ZBR6O8S8OCY', iid='B00AQRUW4Q', r_ui=5.0, est=5, details={'actual_k': 5, 'was_impossible': False}),\n",
       " Prediction(uid='A35HOUWHAYZZN6', iid='B0054L8MR8', r_ui=5.0, est=4.851485862425562, details={'actual_k': 2, 'was_impossible': False}),\n",
       " Prediction(uid='A5JLAU2ARJ0BO', iid='B00005V14C', r_ui=5.0, est=4.265800582326734, details={'was_impossible': True, 'reason': 'User and/or item is unknown.'}),\n",
       " Prediction(uid='A38NHXL5257E3B', iid='B002DW99H8', r_ui=4.0, est=4.492957746478873, details={'actual_k': 0, 'was_impossible': False}),\n",
       " Prediction(uid='A3SU7JSTPH9CC9', iid='B00I48CZOO', r_ui=5.0, est=4.265800582326734, details={'was_impossible': True, 'reason': 'User and/or item is unknown.'}),\n",
       " Prediction(uid='A3D5B2CBFNJB0K', iid='B00F4BYXMG', r_ui=3.0, est=4.265800582326734, details={'was_impossible': True, 'reason': 'User and/or item is unknown.'}),\n",
       " Prediction(uid='A1N5FSCYN4796F', iid='B005N8W1TM', r_ui=5.0, est=3.8555555555555556, details={'actual_k': 0, 'was_impossible': False}),\n",
       " Prediction(uid='A3AZI828WJN1CD', iid='B00F93IOR4', r_ui=4.0, est=1.8059855521155832, details={'actual_k': 1, 'was_impossible': False}),\n",
       " Prediction(uid='A1KY5G5FP31F2F', iid='B00C97ZZ4S', r_ui=5.0, est=4.265800582326734, details={'was_impossible': True, 'reason': 'User and/or item is unknown.'}),\n",
       " Prediction(uid='AN0JK8OQLUC55', iid='B0014J07R2', r_ui=1.0, est=3.657142857142857, details={'actual_k': 0, 'was_impossible': False}),\n",
       " Prediction(uid='A1RPTVW5VEOSI', iid='B00004VUMI', r_ui=4.0, est=4.265800582326734, details={'was_impossible': True, 'reason': 'User and/or item is unknown.'}),\n",
       " Prediction(uid='A2IFKH3TJ10387', iid='B003ES5ZUU', r_ui=5.0, est=5, details={'actual_k': 5, 'was_impossible': False}),\n",
       " Prediction(uid='A1X3DA7C61WZLQ', iid='B00000J061', r_ui=5.0, est=3.3863636363636362, details={'actual_k': 0, 'was_impossible': False}),\n",
       " Prediction(uid='AWPODHOB4GFWL', iid='B0071BTJPI', r_ui=5.0, est=4.774147843333936, details={'actual_k': 3, 'was_impossible': False}),\n",
       " Prediction(uid='A2JXS1JII6SAUD', iid='B008DQ2BDW', r_ui=5.0, est=4.265800582326734, details={'was_impossible': True, 'reason': 'User and/or item is unknown.'}),\n",
       " Prediction(uid='A32JCI4AK2JTTG', iid='B0019I8W98', r_ui=5.0, est=4.265800582326734, details={'was_impossible': True, 'reason': 'User and/or item is unknown.'}),\n",
       " Prediction(uid='A2ZFBTGPDP6PH6', iid='B000JJM8XE', r_ui=4.0, est=4.421052631578948, details={'actual_k': 0, 'was_impossible': False}),\n",
       " Prediction(uid='A2L9OPJAAEK08Q', iid='B000I4UQZM', r_ui=4.0, est=3.490566037735849, details={'actual_k': 0, 'was_impossible': False}),\n",
       " Prediction(uid='A3V7D0LH8L7BG0', iid='B000FKKWVM', r_ui=5.0, est=4.35681723995027, details={'actual_k': 1, 'was_impossible': False}),\n",
       " Prediction(uid='A22CW0ZHY3NJH8', iid='B00A7MFRHC', r_ui=4.0, est=4.265800582326734, details={'was_impossible': True, 'reason': 'User and/or item is unknown.'}),\n",
       " Prediction(uid='A1XB7JGJ459ERP', iid='B002CVU4G0', r_ui=4.0, est=4.589743589743589, details={'actual_k': 0, 'was_impossible': False}),\n",
       " Prediction(uid='A1EKSETIBS9ETQ', iid='B004B93S28', r_ui=4.0, est=4.265800582326734, details={'was_impossible': True, 'reason': 'User and/or item is unknown.'}),\n",
       " Prediction(uid='A1U5NWJOYH2QQH', iid='B007R9M6PO', r_ui=5.0, est=3.8285714285714287, details={'actual_k': 0, 'was_impossible': False}),\n",
       " Prediction(uid='A28UMA3GW9L124', iid='B007C0Y7RI', r_ui=1.0, est=3.4408602150537635, details={'actual_k': 0, 'was_impossible': False}),\n",
       " Prediction(uid='A2UOHALGF2X77Q', iid='B00141CIZO', r_ui=5.0, est=4.265800582326734, details={'was_impossible': True, 'reason': 'User and/or item is unknown.'}),\n",
       " Prediction(uid='A38QEATH3NODFM', iid='B0002J288G', r_ui=3.0, est=4.265800582326734, details={'was_impossible': True, 'reason': 'User and/or item is unknown.'}),\n",
       " Prediction(uid='A2I357I10ZY7CI', iid='B007BH9BJG', r_ui=5.0, est=4.265800582326734, details={'was_impossible': True, 'reason': 'User and/or item is unknown.'}),\n",
       " Prediction(uid='A2IFKH3TJ10387', iid='B003FG7IG0', r_ui=5.0, est=4.632893809845428, details={'actual_k': 3, 'was_impossible': False}),\n",
       " Prediction(uid='A2BMZRO0H7TFCS', iid='B004O0PAKW', r_ui=5.0, est=2.2789743589743585, details={'actual_k': 1, 'was_impossible': False}),\n",
       " Prediction(uid='A2WLNSZ9U0T1S3', iid='B008I21EA2', r_ui=4.0, est=3.908649848479627, details={'actual_k': 3, 'was_impossible': False}),\n",
       " Prediction(uid='A680RUE1FDO8B', iid='B007SHJIO2', r_ui=5.0, est=4.398214257988346, details={'actual_k': 5, 'was_impossible': False}),\n",
       " Prediction(uid='A1G5MI2KREPEIB', iid='B002FU5QM0', r_ui=3.0, est=4.416666666666667, details={'actual_k': 0, 'was_impossible': False}),\n",
       " Prediction(uid='A2J8DE8R94ZB02', iid='B0001DYTY4', r_ui=4.0, est=4.265800582326734, details={'was_impossible': True, 'reason': 'User and/or item is unknown.'}),\n",
       " Prediction(uid='A26SO3TOT2TLJE', iid='B00829THVO', r_ui=5.0, est=3.31386165250966, details={'actual_k': 4, 'was_impossible': False}),\n",
       " Prediction(uid='A1VHCO8RQFIGQJ', iid='B000MSS5YS', r_ui=4.0, est=2.930710382513661, details={'actual_k': 1, 'was_impossible': False}),\n",
       " Prediction(uid='A274MXTX3DYLUV', iid='B005WKFT18', r_ui=5.0, est=4.297872340425532, details={'actual_k': 0, 'was_impossible': False}),\n",
       " Prediction(uid='A298GL2D0BHGKZ', iid='B000S5Q9CA', r_ui=5.0, est=4.544805621287988, details={'actual_k': 2, 'was_impossible': False}),\n",
       " Prediction(uid='A2J0IBS4PFRO2C', iid='B00FLZ2F5W', r_ui=4.0, est=3.6739130434782608, details={'actual_k': 0, 'was_impossible': False}),\n",
       " Prediction(uid='A39K52QDP4C3ZS', iid='B002HK5AW4', r_ui=1.0, est=4.625, details={'actual_k': 0, 'was_impossible': False}),\n",
       " Prediction(uid='A2S26YGSVXBCFL', iid='B009F7ESIY', r_ui=5.0, est=4.265800582326734, details={'was_impossible': True, 'reason': 'User and/or item is unknown.'}),\n",
       " Prediction(uid='A2Y3WWPUKIJ59I', iid='B00FNPD1OY', r_ui=4.0, est=3.898550724637681, details={'actual_k': 0, 'was_impossible': False}),\n",
       " Prediction(uid='A3U5HKDHPYBAK3', iid='B00DQZSEWM', r_ui=3.0, est=4.8805555555555555, details={'actual_k': 1, 'was_impossible': False}),\n",
       " Prediction(uid='AN81JUYW2SL24', iid='B002KPGMXW', r_ui=4.0, est=4.204918032786885, details={'actual_k': 0, 'was_impossible': False}),\n",
       " Prediction(uid='AS2II0671KT2C', iid='B000LY4FLA', r_ui=5.0, est=4.265800582326734, details={'was_impossible': True, 'reason': 'User and/or item is unknown.'}),\n",
       " Prediction(uid='A3R4794K2RVU1S', iid='B00J0XR10A', r_ui=5.0, est=3.5396174863387984, details={'actual_k': 1, 'was_impossible': False}),\n",
       " Prediction(uid='A17HMM1M7T9PJ1', iid='B0012MJXY4', r_ui=4.0, est=4.264705882352941, details={'actual_k': 0, 'was_impossible': False}),\n",
       " Prediction(uid='A1FXT4VNDA25LY', iid='B004VFG8M4', r_ui=5.0, est=4.265800582326734, details={'was_impossible': True, 'reason': 'User and/or item is unknown.'}),\n",
       " Prediction(uid='A250AXLRBVYKB4', iid='B000I1X6PM', r_ui=5.0, est=1.0467555120999577, details={'actual_k': 2, 'was_impossible': False}),\n",
       " Prediction(uid='A18FLOC8YQY0P8', iid='B004KM0F54', r_ui=4.0, est=4.265800582326734, details={'was_impossible': True, 'reason': 'User and/or item is unknown.'}),\n",
       " Prediction(uid='A25QJBK33C4O0R', iid='B004F9P2KU', r_ui=4.0, est=4.136363636363637, details={'actual_k': 1, 'was_impossible': False}),\n",
       " Prediction(uid='A1XK4VP74IB9TQ', iid='B004DAV2ZU', r_ui=5.0, est=3.7435897435897436, details={'actual_k': 0, 'was_impossible': False}),\n",
       " Prediction(uid='A3F7F7QKQP2FKT', iid='B002L3VZ3U', r_ui=5.0, est=4.578947368421052, details={'actual_k': 0, 'was_impossible': False}),\n",
       " Prediction(uid='A1901NTE8LFJF6', iid='B0038JE07O', r_ui=3.0, est=4.06, details={'actual_k': 0, 'was_impossible': False}),\n",
       " Prediction(uid='A14NA0W8ESGDSI', iid='B008WXKYX0', r_ui=4.0, est=4.205128205128205, details={'actual_k': 0, 'was_impossible': False}),\n",
       " Prediction(uid='ADLVFFE4VBT8', iid='B005GL0H24', r_ui=3.0, est=4.265800582326734, details={'was_impossible': True, 'reason': 'User and/or item is unknown.'}),\n",
       " Prediction(uid='A28621TSIR5EOG', iid='B0036Z322Y', r_ui=5.0, est=4.265800582326734, details={'was_impossible': True, 'reason': 'User and/or item is unknown.'}),\n",
       " Prediction(uid='A32O5FZH994CNY', iid='B004YKXGIK', r_ui=5.0, est=4.388349514563107, details={'actual_k': 0, 'was_impossible': False}),\n",
       " Prediction(uid='A3T7V207KRDE2O', iid='B008NSAEN4', r_ui=5.0, est=4.265800582326734, details={'was_impossible': True, 'reason': 'User and/or item is unknown.'}),\n",
       " Prediction(uid='A87CILADRIZW0', iid='B006OJKUJC', r_ui=5.0, est=4.265800582326734, details={'was_impossible': True, 'reason': 'User and/or item is unknown.'}),\n",
       " Prediction(uid='AGGAQLXPVGM5D', iid='B003CYKYU2', r_ui=5.0, est=4.52, details={'actual_k': 0, 'was_impossible': False}),\n",
       " Prediction(uid='AVTJEWTCJ3PBE', iid='B004YW7WCY', r_ui=3.0, est=4.5, details={'actual_k': 0, 'was_impossible': False}),\n",
       " Prediction(uid='A3CW0ZLUO5X2B1', iid='B00D4MFPLA', r_ui=5.0, est=4.299850557116383, details={'actual_k': 5, 'was_impossible': False}),\n",
       " Prediction(uid='ANSVB7OYSXZSL', iid='B0025EWXEU', r_ui=5.0, est=3.880952380952381, details={'actual_k': 0, 'was_impossible': False}),\n",
       " Prediction(uid='A1VGXHHR08G044', iid='B0046SUPQQ', r_ui=5.0, est=4.333333333333333, details={'actual_k': 0, 'was_impossible': False}),\n",
       " Prediction(uid='A1B8EJQU73YGL9', iid='B00JA5CO50', r_ui=5.0, est=4.265800582326734, details={'was_impossible': True, 'reason': 'User and/or item is unknown.'}),\n",
       " Prediction(uid='A1QQA7Y92L4F9R', iid='B002WB2LV6', r_ui=5.0, est=4.265800582326734, details={'was_impossible': True, 'reason': 'User and/or item is unknown.'}),\n",
       " Prediction(uid='A1F9Z42CFF9IAY', iid='B00009R8AI', r_ui=2.0, est=3.5569620253164556, details={'actual_k': 0, 'was_impossible': False}),\n",
       " Prediction(uid='A1NMM0RDRF6R84', iid='B000QUUFRW', r_ui=5.0, est=4.166666666666667, details={'actual_k': 0, 'was_impossible': False}),\n",
       " Prediction(uid='A1EH2S92FHWZRP', iid='B00ARB5FLQ', r_ui=4.0, est=2.350324195931007, details={'actual_k': 5, 'was_impossible': False}),\n",
       " Prediction(uid='A3DQWFWINN3V5A', iid='B003IT6YFU', r_ui=3.0, est=4.1891891891891895, details={'actual_k': 0, 'was_impossible': False}),\n",
       " Prediction(uid='A2AC6GQ24S45GA', iid='B00IVFDZBC', r_ui=5.0, est=5, details={'actual_k': 4, 'was_impossible': False}),\n",
       " Prediction(uid='A7EU2BWLLCJY2', iid='B00DL8L7TQ', r_ui=5.0, est=4.69224701160882, details={'actual_k': 2, 'was_impossible': False}),\n",
       " Prediction(uid='A15U64VGUV6RBF', iid='B00091S0WA', r_ui=4.0, est=4.866666666666666, details={'actual_k': 0, 'was_impossible': False}),\n",
       " Prediction(uid='A36MP37DITBU6F', iid='B006TR0FCQ', r_ui=5.0, est=4.166666666666667, details={'actual_k': 0, 'was_impossible': False}),\n",
       " Prediction(uid='A1VGXHHR08G044', iid='B004P1V8TM', r_ui=5.0, est=4.333333333333333, details={'actual_k': 0, 'was_impossible': False}),\n",
       " Prediction(uid='A25HBO5V8S8SEA', iid='B00006HMRS', r_ui=5.0, est=4.265800582326734, details={'was_impossible': True, 'reason': 'User and/or item is unknown.'}),\n",
       " Prediction(uid='A250AXLRBVYKB4', iid='B005CLPP84', r_ui=3.0, est=4.404832783487614, details={'actual_k': 5, 'was_impossible': False}),\n",
       " Prediction(uid='AEL6CQNQXONBX', iid='B007L5NKZO', r_ui=5.0, est=4.548732943469785, details={'actual_k': 1, 'was_impossible': False}),\n",
       " Prediction(uid='A1MRPX3RM48T2I', iid='B0041OSAZ8', r_ui=5.0, est=4.561797752808989, details={'actual_k': 0, 'was_impossible': False}),\n",
       " Prediction(uid='A5JLAU2ARJ0BO', iid='B000300A2U', r_ui=5.0, est=4.265800582326734, details={'was_impossible': True, 'reason': 'User and/or item is unknown.'}),\n",
       " Prediction(uid='A4UGMKUSX9XHI', iid='B0001VWHT0', r_ui=5.0, est=4.676923076923077, details={'actual_k': 0, 'was_impossible': False}),\n",
       " Prediction(uid='A8WEXFRWX1ZHH', iid='B003YKG2WI', r_ui=3.0, est=3.8749660765220058, details={'actual_k': 3, 'was_impossible': False}),\n",
       " Prediction(uid='A4D5B7Q8A7PA6', iid='B000KBB2GK', r_ui=5.0, est=4.265800582326734, details={'was_impossible': True, 'reason': 'User and/or item is unknown.'}),\n",
       " Prediction(uid='AUBEFRFHJR64Y', iid='B000083JZ0', r_ui=5.0, est=4.0588235294117645, details={'actual_k': 0, 'was_impossible': False}),\n",
       " Prediction(uid='A1W415JP5WEAJK', iid='B005MI8NHM', r_ui=3.0, est=2.931141375097009, details={'actual_k': 2, 'was_impossible': False}),\n",
       " Prediction(uid='A1R19YYR5OR26T', iid='B009UZ3TF4', r_ui=5.0, est=4.285714285714286, details={'actual_k': 0, 'was_impossible': False}),\n",
       " Prediction(uid='A6FIAB28IS79', iid='B002OS2H3Y', r_ui=2.0, est=4.265800582326734, details={'was_impossible': True, 'reason': 'User and/or item is unknown.'}),\n",
       " Prediction(uid='A1VQHH85U7PX0', iid='B003XDE8TK', r_ui=5.0, est=5, details={'actual_k': 2, 'was_impossible': False}),\n",
       " Prediction(uid='A6VPK7X53QNAQ', iid='B009WG6LLA', r_ui=5.0, est=3.3610350569029297, details={'actual_k': 3, 'was_impossible': False}),\n",
       " Prediction(uid='A1H98YV5K5BUX0', iid='B001FOQI7O', r_ui=5.0, est=4.470588235294118, details={'actual_k': 0, 'was_impossible': False}),\n",
       " Prediction(uid='A8WEXFRWX1ZHH', iid='B00DZJU6B6', r_ui=2.0, est=3.3333333333333335, details={'actual_k': 0, 'was_impossible': False}),\n",
       " Prediction(uid='AT2J7H5TRZM8Z', iid='B000063LGR', r_ui=5.0, est=4.265800582326734, details={'was_impossible': True, 'reason': 'User and/or item is unknown.'}),\n",
       " Prediction(uid='A3FKQQTSMHOCE0', iid='B0006HU2IM', r_ui=4.0, est=4.702702702702703, details={'actual_k': 0, 'was_impossible': False}),\n",
       " Prediction(uid='A209G57KXCBF4C', iid='B003FMVCRU', r_ui=4.0, est=4.2781921895568225, details={'actual_k': 1, 'was_impossible': False}),\n",
       " Prediction(uid='A353U0L2HAMSHV', iid='B002OHDGSA', r_ui=4.0, est=4.113636363636363, details={'actual_k': 0, 'was_impossible': False}),\n",
       " Prediction(uid='AWSK1ZAEU1KFL', iid='B0035A7VBS', r_ui=3.0, est=4.265800582326734, details={'was_impossible': True, 'reason': 'User and/or item is unknown.'}),\n",
       " Prediction(uid='ARBKYIVNYWK3C', iid='B00BR3ZYIW', r_ui=5.0, est=4.383084577114428, details={'actual_k': 0, 'was_impossible': False}),\n",
       " Prediction(uid='A11I1I9QLMAM1A', iid='B00DQZSBUC', r_ui=5.0, est=3.3368136744719505, details={'actual_k': 2, 'was_impossible': False}),\n",
       " Prediction(uid='A2NOW4U7W3F7RI', iid='B005ITM7DG', r_ui=5.0, est=4.265800582326734, details={'was_impossible': True, 'reason': 'User and/or item is unknown.'}),\n",
       " Prediction(uid='A36A1ZYZH8568P', iid='B000629GES', r_ui=3.0, est=4.252631578947368, details={'actual_k': 0, 'was_impossible': False}),\n",
       " Prediction(uid='A3TNM3C9ENUCFW', iid='B0093GIME8', r_ui=4.0, est=3.982142857142857, details={'actual_k': 0, 'was_impossible': False}),\n",
       " Prediction(uid='AMKNPIDFLRFMP', iid='B000Q5UMEI', r_ui=4.0, est=3.6595744680851063, details={'actual_k': 0, 'was_impossible': False}),\n",
       " Prediction(uid='A2WPL6Y08K6ZQH', iid='B006C248BC', r_ui=4.0, est=4.191489361702128, details={'actual_k': 0, 'was_impossible': False}),\n",
       " Prediction(uid='A25QJBK33C4O0R', iid='B004ZH13K0', r_ui=4.0, est=4.265800582326734, details={'was_impossible': True, 'reason': 'User and/or item is unknown.'}),\n",
       " Prediction(uid='A3GFQHHVMEAIO', iid='B001BJLKFS', r_ui=2.0, est=4.265800582326734, details={'was_impossible': True, 'reason': 'User and/or item is unknown.'}),\n",
       " Prediction(uid='A1Y85GQ09Y95JL', iid='B00007E7JU', r_ui=1.0, est=3.4, details={'actual_k': 0, 'was_impossible': False}),\n",
       " Prediction(uid='A353U0L2HAMSHV', iid='B00155V288', r_ui=4.0, est=4.265800582326734, details={'was_impossible': True, 'reason': 'User and/or item is unknown.'}),\n",
       " Prediction(uid='A6VXZ1EEPRTLV', iid='B0012UF0Y8', r_ui=4.0, est=4.624657909140668, details={'actual_k': 1, 'was_impossible': False}),\n",
       " Prediction(uid='A3CG93783LP0FO', iid='B002VPE1WK', r_ui=4.0, est=3.6167533308506163, details={'actual_k': 2, 'was_impossible': False}),\n",
       " Prediction(uid='A2EHYCA29NSQLU', iid='B0028Y4CWI', r_ui=2.0, est=2.6739130434782608, details={'actual_k': 0, 'was_impossible': False}),\n",
       " Prediction(uid='A226VGZWOEBPGL', iid='B00834SJSK', r_ui=5.0, est=5, details={'actual_k': 5, 'was_impossible': False}),\n",
       " Prediction(uid='A5JLAU2ARJ0BO', iid='B00009V3L6', r_ui=2.0, est=3.8757225433526012, details={'actual_k': 0, 'was_impossible': False}),\n",
       " Prediction(uid='ALQ4USPEQ9L5N', iid='B00BEHQKPC', r_ui=2.0, est=4.303733782595043, details={'actual_k': 2, 'was_impossible': False}),\n",
       " Prediction(uid='A96JD9312DHWC', iid='B008X9Z3UC', r_ui=5.0, est=4.397893709629195, details={'actual_k': 5, 'was_impossible': False}),\n",
       " Prediction(uid='A3N4I2KRSMACW8', iid='B00BCGRTFK', r_ui=5.0, est=4.0, details={'actual_k': 0, 'was_impossible': False}),\n",
       " Prediction(uid='A1B4MIXYVIKMU2', iid='B00BQ9FY0A', r_ui=4.0, est=4.265800582326734, details={'was_impossible': True, 'reason': 'User and/or item is unknown.'}),\n",
       " Prediction(uid='A3FBM0RMCMAABV', iid='B00DQZQHBW', r_ui=4.0, est=3.8020491803278684, details={'actual_k': 1, 'was_impossible': False}),\n",
       " Prediction(uid='A7EJERNB7IK3Z', iid='B001PNNXGO', r_ui=5.0, est=5, details={'actual_k': 1, 'was_impossible': False}),\n",
       " Prediction(uid='A1IU7S4HCK1XK0', iid='B001C48HTO', r_ui=4.0, est=4.51, details={'actual_k': 0, 'was_impossible': False}),\n",
       " Prediction(uid='A1R6RKKE44AYA8', iid='B0053NBLFW', r_ui=5.0, est=4.818181818181818, details={'actual_k': 0, 'was_impossible': False}),\n",
       " Prediction(uid='A303SNZ4AR7TDQ', iid='B007OCJWTM', r_ui=5.0, est=4.265800582326734, details={'was_impossible': True, 'reason': 'User and/or item is unknown.'}),\n",
       " Prediction(uid='A1U5IJHJK84S54', iid='B000PALZE0', r_ui=3.0, est=3.817073170731707, details={'actual_k': 0, 'was_impossible': False}),\n",
       " Prediction(uid='A361M14PU2GUEG', iid='B00HED0182', r_ui=1.0, est=4.265800582326734, details={'was_impossible': True, 'reason': 'User and/or item is unknown.'}),\n",
       " Prediction(uid='A1Z3598J0371ND', iid='B0040J5DGI', r_ui=5.0, est=4.265800582326734, details={'was_impossible': True, 'reason': 'User and/or item is unknown.'}),\n",
       " Prediction(uid='ATNOI7E8GTIVE', iid='B002ZIN9DU', r_ui=4.0, est=4.167791104447776, details={'actual_k': 1, 'was_impossible': False}),\n",
       " Prediction(uid='AZBXKUH4AIW3X', iid='B001NS0OZ4', r_ui=4.0, est=3.951754385964912, details={'actual_k': 1, 'was_impossible': False}),\n",
       " Prediction(uid='A1YEPFLLH42OU1', iid='B005QF2NCW', r_ui=5.0, est=4.265800582326734, details={'was_impossible': True, 'reason': 'User and/or item is unknown.'}),\n",
       " Prediction(uid='A4D5B7Q8A7PA6', iid='B004I5FL1G', r_ui=5.0, est=4.955498017381729, details={'actual_k': 5, 'was_impossible': False}),\n",
       " Prediction(uid='A1XEQGYY1IL8CD', iid='B00BOGOT4M', r_ui=5.0, est=4.265800582326734, details={'was_impossible': True, 'reason': 'User and/or item is unknown.'}),\n",
       " Prediction(uid='ALHC64J88LVWO', iid='B00C4N410G', r_ui=3.0, est=4.265800582326734, details={'was_impossible': True, 'reason': 'User and/or item is unknown.'}),\n",
       " Prediction(uid='A1R377IPZOKLMM', iid='B00F1CRTJM', r_ui=5.0, est=5, details={'actual_k': 3, 'was_impossible': False}),\n",
       " Prediction(uid='AFM2J3HJNPIHV', iid='B004D4G5RG', r_ui=4.0, est=4.265800582326734, details={'was_impossible': True, 'reason': 'User and/or item is unknown.'}),\n",
       " Prediction(uid='A2VODABWSVHV8E', iid='B001BCFF2E', r_ui=5.0, est=4.925373134328358, details={'actual_k': 0, 'was_impossible': False}),\n",
       " Prediction(uid='A18HE80910BTZI', iid='B006K54ZU0', r_ui=4.0, est=4.256329100103576, details={'actual_k': 2, 'was_impossible': False}),\n",
       " Prediction(uid='A2IMLOJ2Z2QEU2', iid='B009X2OS5Y', r_ui=4.0, est=4.31, details={'actual_k': 1, 'was_impossible': False}),\n",
       " Prediction(uid='A1V4VVBQBFXRHC', iid='B002RM08RE', r_ui=5.0, est=4.529411764705882, details={'actual_k': 0, 'was_impossible': False}),\n",
       " Prediction(uid='AG7EF0SVBQOUX', iid='B00BFYVXRY', r_ui=5.0, est=4.5476190476190474, details={'actual_k': 0, 'was_impossible': False}),\n",
       " Prediction(uid='AHD3NZHDUZ5I6', iid='B000VY2BC0', r_ui=5.0, est=3.8127131782945742, details={'actual_k': 1, 'was_impossible': False}),\n",
       " Prediction(uid='A1D9V11QUHXENQ', iid='B005X64OQ2', r_ui=5.0, est=4.534883720930233, details={'actual_k': 0, 'was_impossible': False}),\n",
       " Prediction(uid='A10ZFE6YE0UHW8', iid='B00HIUL1JO', r_ui=4.0, est=3.4936497704972256, details={'actual_k': 5, 'was_impossible': False}),\n",
       " Prediction(uid='A376OJHLE6SU9Q', iid='B00007AKBA', r_ui=3.0, est=4.265800582326734, details={'was_impossible': True, 'reason': 'User and/or item is unknown.'}),\n",
       " Prediction(uid='A10O7THJ2O20AG', iid='B00CDIK48U', r_ui=5.0, est=4.265800582326734, details={'was_impossible': True, 'reason': 'User and/or item is unknown.'}),\n",
       " Prediction(uid='A31RULW0KNYJ5H', iid='B0036B4KT2', r_ui=5.0, est=3.8684210526315788, details={'actual_k': 0, 'was_impossible': False}),\n",
       " Prediction(uid='A8X8D4BUY5DFU', iid='B001XURP7W', r_ui=5.0, est=4.354910714285714, details={'actual_k': 1, 'was_impossible': False}),\n",
       " Prediction(uid='A2ZDY0V4Q1SZD7', iid='B007DJGHF8', r_ui=4.0, est=4.451612903225806, details={'actual_k': 0, 'was_impossible': False}),\n",
       " Prediction(uid='A3JUHP1E3WUHEA', iid='B004CLYE8C', r_ui=4.0, est=4.693144411490274, details={'actual_k': 5, 'was_impossible': False}),\n",
       " Prediction(uid='A1WF4QNIE2Z3I7', iid='B002HJ9PTO', r_ui=1.0, est=3.3443777418610017, details={'actual_k': 1, 'was_impossible': False}),\n",
       " Prediction(uid='A3F7USIDJBR8WU', iid='B000HAOVGM', r_ui=5.0, est=4.566666666666666, details={'actual_k': 0, 'was_impossible': False}),\n",
       " Prediction(uid='A1VYFEJM12ZP11', iid='B00DJ69GSO', r_ui=3.0, est=4.5, details={'actual_k': 0, 'was_impossible': False}),\n",
       " Prediction(uid='A3IUW081KXD3PE', iid='B00902SFC4', r_ui=4.0, est=4.405405405405405, details={'actual_k': 0, 'was_impossible': False}),\n",
       " Prediction(uid='A18A5VSD0IPN14', iid='B0000514G8', r_ui=5.0, est=4.585365853658536, details={'actual_k': 0, 'was_impossible': False}),\n",
       " Prediction(uid='A5Q1FK0FWU7DH', iid='B001FA1O0E', r_ui=5.0, est=4.907206119162641, details={'actual_k': 1, 'was_impossible': False}),\n",
       " Prediction(uid='A1VLVWTLV3LVHR', iid='B000NO9FVI', r_ui=4.0, est=4.265800582326734, details={'was_impossible': True, 'reason': 'User and/or item is unknown.'}),\n",
       " Prediction(uid='A35C2IVVQR1HTK', iid='B001OTZR1I', r_ui=5.0, est=4.265800582326734, details={'was_impossible': True, 'reason': 'User and/or item is unknown.'}),\n",
       " Prediction(uid='A3TA1UJWRJF9NC', iid='B0015ZIS8K', r_ui=5.0, est=4.485714285714286, details={'actual_k': 0, 'was_impossible': False}),\n",
       " Prediction(uid='A3Q4TYJVAM4IRM', iid='B0029U2NWW', r_ui=5.0, est=4.265800582326734, details={'was_impossible': True, 'reason': 'User and/or item is unknown.'}),\n",
       " Prediction(uid='A1V3TRGWOMA8LC', iid='B004XNLR16', r_ui=5.0, est=4.795942028985507, details={'actual_k': 1, 'was_impossible': False}),\n",
       " Prediction(uid='A3R4794K2RVU1S', iid='B001KURYAS', r_ui=4.0, est=5, details={'actual_k': 1, 'was_impossible': False}),\n",
       " Prediction(uid='A3IJ4Z18FTIIP', iid='B003WM3EP6', r_ui=2.0, est=4.265800582326734, details={'was_impossible': True, 'reason': 'User and/or item is unknown.'}),\n",
       " Prediction(uid='A3D5B2CBFNJB0K', iid='B002TLTE6Y', r_ui=4.0, est=4.696917162154772, details={'actual_k': 2, 'was_impossible': False}),\n",
       " Prediction(uid='A16C19G0I2DE8S', iid='B009JP461G', r_ui=5.0, est=4.9, details={'actual_k': 0, 'was_impossible': False}),\n",
       " Prediction(uid='AK3GKIV8DEY8B', iid='B000UOBJ9C', r_ui=5.0, est=4.6375, details={'actual_k': 0, 'was_impossible': False}),\n",
       " Prediction(uid='A1987V5OCO6QHS', iid='B006TF36TM', r_ui=4.0, est=3.0625, details={'actual_k': 0, 'was_impossible': False}),\n",
       " Prediction(uid='A377LPVLLAI42D', iid='B000F6UKTU', r_ui=2.0, est=4.265800582326734, details={'was_impossible': True, 'reason': 'User and/or item is unknown.'}),\n",
       " Prediction(uid='AK3GKIV8DEY8B', iid='B000W8ZETW', r_ui=5.0, est=4.6375, details={'actual_k': 0, 'was_impossible': False}),\n",
       " Prediction(uid='A1VUN4JU731CBH', iid='B00009UTJP', r_ui=5.0, est=4.265800582326734, details={'was_impossible': True, 'reason': 'User and/or item is unknown.'}),\n",
       " Prediction(uid='A2QI2JHSIQ3SN3', iid='B0036RH6L0', r_ui=3.0, est=4.265800582326734, details={'was_impossible': True, 'reason': 'User and/or item is unknown.'}),\n",
       " Prediction(uid='AGVWTYW0ULXHT', iid='B0012IJYZQ', r_ui=5.0, est=4.478950238537742, details={'actual_k': 2, 'was_impossible': False}),\n",
       " Prediction(uid='A2AX2UGB167J31', iid='B009TBC0T0', r_ui=5.0, est=4.265800582326734, details={'was_impossible': True, 'reason': 'User and/or item is unknown.'}),\n",
       " Prediction(uid='AGEWOMQ90BV8R', iid='B000MDJU06', r_ui=3.0, est=4.416666666666667, details={'actual_k': 0, 'was_impossible': False}),\n",
       " Prediction(uid='A2NT3W1F1XYBFZ', iid='B00B7FOWH4', r_ui=4.0, est=4.265800582326734, details={'was_impossible': True, 'reason': 'User and/or item is unknown.'}),\n",
       " Prediction(uid='A1C82BC5GNABOA', iid='B007FEFQDA', r_ui=5.0, est=4.76530612244898, details={'actual_k': 1, 'was_impossible': False}),\n",
       " Prediction(uid='A1JWSDDIH5Z7DV', iid='B00005U21I', r_ui=5.0, est=4.265800582326734, details={'was_impossible': True, 'reason': 'User and/or item is unknown.'}),\n",
       " Prediction(uid='A1X3DA7C61WZLQ', iid='B0046BGUVM', r_ui=5.0, est=4.265800582326734, details={'was_impossible': True, 'reason': 'User and/or item is unknown.'}),\n",
       " Prediction(uid='ABQWMANK4AR63', iid='B002C7481G', r_ui=5.0, est=4.564026868929844, details={'actual_k': 3, 'was_impossible': False}),\n",
       " Prediction(uid='A1VHCO8RQFIGQJ', iid='B002HZW6WQ', r_ui=5.0, est=4.373333333333333, details={'actual_k': 0, 'was_impossible': False}),\n",
       " Prediction(uid='A2XHOLOLKGV1FE', iid='B00747XA9A', r_ui=5.0, est=4.265800582326734, details={'was_impossible': True, 'reason': 'User and/or item is unknown.'}),\n",
       " Prediction(uid='A31RZMVAFMLB8B', iid='B006RG0QC8', r_ui=2.0, est=3.9047619047619047, details={'actual_k': 0, 'was_impossible': False}),\n",
       " Prediction(uid='A2SGAJWXG65464', iid='B005T3GPXE', r_ui=5.0, est=3.8461538461538463, details={'actual_k': 0, 'was_impossible': False}),\n",
       " Prediction(uid='A3W4D8XOGLWUN5', iid='B001F7AHOG', r_ui=4.0, est=4.24983164983165, details={'actual_k': 1, 'was_impossible': False}),\n",
       " Prediction(uid='A2SYAQXJGRY3XE', iid='B00007EDZG', r_ui=5.0, est=2.8181818181818183, details={'actual_k': 1, 'was_impossible': False}),\n",
       " Prediction(uid='A1Z7U9K6X3FEOU', iid='B000AAL586', r_ui=5.0, est=4.265800582326734, details={'was_impossible': True, 'reason': 'User and/or item is unknown.'}),\n",
       " Prediction(uid='A3Q1J68QY1MZQ9', iid='B00004T3F8', r_ui=5.0, est=4.265800582326734, details={'was_impossible': True, 'reason': 'User and/or item is unknown.'}),\n",
       " Prediction(uid='A1QQA7Y92L4F9R', iid='B0029XW5JA', r_ui=5.0, est=4.265800582326734, details={'was_impossible': True, 'reason': 'User and/or item is unknown.'}),\n",
       " Prediction(uid='A23R3EOZ837242', iid='B00005QEYI', r_ui=5.0, est=4.265800582326734, details={'was_impossible': True, 'reason': 'User and/or item is unknown.'}),\n",
       " Prediction(uid='AN9WA4C5E7YY5', iid='B00HVBP0II', r_ui=5.0, est=4.265800582326734, details={'was_impossible': True, 'reason': 'User and/or item is unknown.'}),\n",
       " Prediction(uid='A149RNR5RH19YY', iid='B00171UD5S', r_ui=4.0, est=4.265800582326734, details={'was_impossible': True, 'reason': 'User and/or item is unknown.'}),\n",
       " Prediction(uid='A28P7V9KI7MXP', iid='B001FA0B2Q', r_ui=5.0, est=4.265800582326734, details={'was_impossible': True, 'reason': 'User and/or item is unknown.'}),\n",
       " Prediction(uid='AYCAIHABPYWVJ', iid='B003YTROIU', r_ui=4.0, est=4.023255813953488, details={'actual_k': 0, 'was_impossible': False}),\n",
       " Prediction(uid='A2WLNSZ9U0T1S3', iid='B0036U7WJI', r_ui=4.0, est=4.811025517573423, details={'actual_k': 1, 'was_impossible': False}),\n",
       " Prediction(uid='A1T1YSCDW0PD25', iid='B008RDI0TU', r_ui=5.0, est=4.415584415584416, details={'actual_k': 0, 'was_impossible': False}),\n",
       " Prediction(uid='AQSV34W54L0VO', iid='B00BRF7DAC', r_ui=3.0, est=4.265800582326734, details={'was_impossible': True, 'reason': 'User and/or item is unknown.'}),\n",
       " Prediction(uid='A14NA0W8ESGDSI', iid='B001HBH1B2', r_ui=5.0, est=4.205128205128205, details={'actual_k': 0, 'was_impossible': False}),\n",
       " Prediction(uid='A3N8O68DOEQ2FE', iid='B005HMKKH4', r_ui=5.0, est=5, details={'actual_k': 3, 'was_impossible': False}),\n",
       " Prediction(uid='A2QRXQPHDMFCQV', iid='B00DQZOIOU', r_ui=3.0, est=4.116065573770492, details={'actual_k': 1, 'was_impossible': False}),\n",
       " Prediction(uid='A2RU4U1JZ3DMP5', iid='B005NEJ13A', r_ui=5.0, est=4.190476190476191, details={'actual_k': 0, 'was_impossible': False}),\n",
       " Prediction(uid='A33HIV8RXRDM88', iid='B003ZUXXWO', r_ui=4.0, est=4.304347826086956, details={'actual_k': 0, 'was_impossible': False}),\n",
       " Prediction(uid='A357B3PUHSVQA', iid='B004HW7KDC', r_ui=4.0, est=4.114522657064034, details={'actual_k': 2, 'was_impossible': False}),\n",
       " Prediction(uid='A2YEOR4XJ8N3QE', iid='B0068ALV8Q', r_ui=2.0, est=4.706300813008131, details={'actual_k': 1, 'was_impossible': False}),\n",
       " Prediction(uid='A1A306IAZ3TM1', iid='B000I5JMYW', r_ui=3.0, est=3.1944444444444446, details={'actual_k': 0, 'was_impossible': False}),\n",
       " Prediction(uid='A38Z6QG6988WS7', iid='B00B9QWQYC', r_ui=5.0, est=4.265800582326734, details={'was_impossible': True, 'reason': 'User and/or item is unknown.'}),\n",
       " Prediction(uid='A2I6GN7OHB9JKF', iid='B000HCGAFK', r_ui=5.0, est=4.086206896551724, details={'actual_k': 0, 'was_impossible': False}),\n",
       " Prediction(uid='A1V4VVBQBFXRHC', iid='B000M4KXH4', r_ui=5.0, est=4.265800582326734, details={'was_impossible': True, 'reason': 'User and/or item is unknown.'}),\n",
       " Prediction(uid='A2W2ODLRQ2L8LE', iid='B000Q8UAWY', r_ui=5.0, est=3.899135009358086, details={'actual_k': 1, 'was_impossible': False}),\n",
       " Prediction(uid='A3EXWV8FNSSFL6', iid='B000HKDA0U', r_ui=5.0, est=4.5311004784688995, details={'actual_k': 0, 'was_impossible': False}),\n",
       " Prediction(uid='A7EU2BWLLCJY2', iid='B008HU9R7W', r_ui=2.0, est=4.509803921568627, details={'actual_k': 0, 'was_impossible': False}),\n",
       " Prediction(uid='A20DZX38KRBIT8', iid='B000CS7U1C', r_ui=1.0, est=2.2545823861216077, details={'actual_k': 4, 'was_impossible': False}),\n",
       " Prediction(uid='A5KMMY627T3W', iid='B0009JK1NI', r_ui=5.0, est=4.265800582326734, details={'was_impossible': True, 'reason': 'User and/or item is unknown.'}),\n",
       " Prediction(uid='A3284KYDZ00BZA', iid='B004GK0GKO', r_ui=4.0, est=3.495076934903635, details={'actual_k': 3, 'was_impossible': False}),\n",
       " Prediction(uid='A3V7D0LH8L7BG0', iid='B00829THK0', r_ui=5.0, est=4.922674807595968, details={'actual_k': 5, 'was_impossible': False}),\n",
       " Prediction(uid='A13BX9O5UDBILC', iid='B002HU4AGG', r_ui=2.0, est=4.0701754385964914, details={'actual_k': 0, 'was_impossible': False}),\n",
       " Prediction(uid='AQSV34W54L0VO', iid='B004RS5OYI', r_ui=5.0, est=4.265800582326734, details={'was_impossible': True, 'reason': 'User and/or item is unknown.'}),\n",
       " Prediction(uid='A11T807LX2EF00', iid='B00AXX0IC4', r_ui=5.0, est=4.545454545454546, details={'actual_k': 0, 'was_impossible': False}),\n",
       " Prediction(uid='A1K4G5YJDJQI6Q', iid='B0001DZDD0', r_ui=2.0, est=4.265800582326734, details={'was_impossible': True, 'reason': 'User and/or item is unknown.'}),\n",
       " Prediction(uid='A2TKWMX4563NR6', iid='B002MTU5C0', r_ui=5.0, est=3.7708333333333335, details={'actual_k': 0, 'was_impossible': False}),\n",
       " Prediction(uid='A359MYLPLEOF7N', iid='B001V9LPT4', r_ui=5.0, est=4.456521739130435, details={'actual_k': 0, 'was_impossible': False}),\n",
       " Prediction(uid='A3PCEB9ND82AGE', iid='B00FFCB0BG', r_ui=5.0, est=4.265800582326734, details={'was_impossible': True, 'reason': 'User and/or item is unknown.'}),\n",
       " Prediction(uid='A11YOTONCPRQ9S', iid='B0063705PE', r_ui=5.0, est=3.4318181818181817, details={'actual_k': 0, 'was_impossible': False}),\n",
       " Prediction(uid='A7EJERNB7IK3Z', iid='B0014T7W8Y', r_ui=2.0, est=4.055555555555555, details={'actual_k': 0, 'was_impossible': False}),\n",
       " Prediction(uid='A2WPL6Y08K6ZQH', iid='B00FZJ11PO', r_ui=5.0, est=4.191489361702128, details={'actual_k': 0, 'was_impossible': False}),\n",
       " Prediction(uid='A8CKH8XB33XGN', iid='B002FSZQ4U', r_ui=2.0, est=4.265800582326734, details={'was_impossible': True, 'reason': 'User and/or item is unknown.'}),\n",
       " Prediction(uid='A1KDUQ2HU0WD68', iid='B005VAORH6', r_ui=5.0, est=4.8512889177151886, details={'actual_k': 4, 'was_impossible': False}),\n",
       " Prediction(uid='A225G2TFM76GYX', iid='B001V9LA4E', r_ui=5.0, est=4.3584905660377355, details={'actual_k': 0, 'was_impossible': False}),\n",
       " Prediction(uid='A2G563AC1HME2R', iid='B00316263Y', r_ui=5.0, est=5, details={'actual_k': 1, 'was_impossible': False}),\n",
       " Prediction(uid='AEWYUPCNDV7HY', iid='B003LSTD3I', r_ui=1.0, est=4.083333333333333, details={'actual_k': 0, 'was_impossible': False}),\n",
       " Prediction(uid='AJEOFP6ZWY0MK', iid='B000HPV3RW', r_ui=4.0, est=4.996170049789352, details={'actual_k': 1, 'was_impossible': False}),\n",
       " Prediction(uid='A25QJBK33C4O0R', iid='B001GKK14I', r_ui=5.0, est=4.265800582326734, details={'was_impossible': True, 'reason': 'User and/or item is unknown.'}),\n",
       " Prediction(uid='A1KDUQ2HU0WD68', iid='B000RA7IZS', r_ui=5.0, est=4.278688524590164, details={'actual_k': 0, 'was_impossible': False}),\n",
       " Prediction(uid='A4D5B7Q8A7PA6', iid='B004L4CY2I', r_ui=5.0, est=4.265800582326734, details={'was_impossible': True, 'reason': 'User and/or item is unknown.'}),\n",
       " Prediction(uid='A34BZM6S9L7QI4', iid='B00DQZO3JK', r_ui=4.0, est=3.2311982423525434, details={'actual_k': 1, 'was_impossible': False}),\n",
       " Prediction(uid='A2AY4YUOX2N1BQ', iid='B003DWP29G', r_ui=4.0, est=4.566371681415929, details={'actual_k': 0, 'was_impossible': False}),\n",
       " Prediction(uid='A3V6Z4RCDGRC44', iid='B002MMY4WY', r_ui=4.0, est=4.739130434782608, details={'actual_k': 0, 'was_impossible': False}),\n",
       " Prediction(uid='AWPODHOB4GFWL', iid='B002LLJJAS', r_ui=4.0, est=4.422987257944284, details={'actual_k': 4, 'was_impossible': False}),\n",
       " Prediction(uid='A2AC6GQ24S45GA', iid='B00884WH74', r_ui=4.0, est=4.753580792856958, details={'actual_k': 5, 'was_impossible': False}),\n",
       " Prediction(uid='A2QNS95WGN35G9', iid='B000BNDEZY', r_ui=5.0, est=4.265800582326734, details={'was_impossible': True, 'reason': 'User and/or item is unknown.'}),\n",
       " Prediction(uid='A1EKSETIBS9ETQ', iid='B002HWRJBM', r_ui=5.0, est=3.64135101010101, details={'actual_k': 1, 'was_impossible': False}),\n",
       " Prediction(uid='A16HXVNPU5TCGE', iid='9983722615', r_ui=5.0, est=4.265800582326734, details={'was_impossible': True, 'reason': 'User and/or item is unknown.'}),\n",
       " Prediction(uid='A2R6RA8FRBS608', iid='B00004TWVY', r_ui=5.0, est=4.265800582326734, details={'was_impossible': True, 'reason': 'User and/or item is unknown.'}),\n",
       " Prediction(uid='A1AKW788238PWQ', iid='B00029X1NW', r_ui=5.0, est=4.265800582326734, details={'was_impossible': True, 'reason': 'User and/or item is unknown.'}),\n",
       " Prediction(uid='A3A15L96IYUO6V', iid='B001O83XR4', r_ui=4.0, est=4.236363636363636, details={'actual_k': 0, 'was_impossible': False}),\n",
       " Prediction(uid='A231WM2Z2JL0U3', iid='B00009RTBX', r_ui=5.0, est=4.265800582326734, details={'was_impossible': True, 'reason': 'User and/or item is unknown.'}),\n",
       " Prediction(uid='A3J2YU2D9BH2J7', iid='B00CAFPF26', r_ui=3.0, est=4.406779661016949, details={'actual_k': 0, 'was_impossible': False}),\n",
       " Prediction(uid='AGHZXQL9F94T9', iid='B00008PVXA', r_ui=3.0, est=3.519230769230769, details={'actual_k': 0, 'was_impossible': False}),\n",
       " Prediction(uid='A3L1VJMHFWONCB', iid='B0085WN7YQ', r_ui=5.0, est=4.265800582326734, details={'was_impossible': True, 'reason': 'User and/or item is unknown.'}),\n",
       " Prediction(uid='A1CMWB7AWQUQH4', iid='B00728Z9JA', r_ui=4.0, est=3.95, details={'actual_k': 0, 'was_impossible': False}),\n",
       " Prediction(uid='A23ZXHFLC6TBLD', iid='B002EOUUAK', r_ui=4.0, est=4.5777777777777775, details={'actual_k': 0, 'was_impossible': False}),\n",
       " Prediction(uid='A1C5WS021EL3WO', iid='B008UGMLWQ', r_ui=5.0, est=4.640625, details={'actual_k': 0, 'was_impossible': False}),\n",
       " Prediction(uid='A16HXVNPU5TCGE', iid='B000OPB4U6', r_ui=5.0, est=4.265800582326734, details={'was_impossible': True, 'reason': 'User and/or item is unknown.'}),\n",
       " Prediction(uid='AFR9GYKAHM37U', iid='B002FU5QM0', r_ui=5.0, est=4.69811320754717, details={'actual_k': 0, 'was_impossible': False}),\n",
       " Prediction(uid='AOVTLYTHVDNUX', iid='B004RKQM8I', r_ui=4.0, est=4.195121951219512, details={'actual_k': 0, 'was_impossible': False}),\n",
       " Prediction(uid='A23GFTVIETX7DS', iid='B007OY5V68', r_ui=4.0, est=4.482136402224332, details={'actual_k': 5, 'was_impossible': False}),\n",
       " Prediction(uid='ARTA78TP6H73D', iid='B001PUQ7PG', r_ui=4.0, est=4.119966172342999, details={'actual_k': 2, 'was_impossible': False}),\n",
       " Prediction(uid='A2IFGGXG3YV3Y6', iid='B00IZ7PQ2M', r_ui=4.0, est=4.265800582326734, details={'was_impossible': True, 'reason': 'User and/or item is unknown.'}),\n",
       " Prediction(uid='A1P0JSFW184ZXJ', iid='B001O5CCQK', r_ui=5.0, est=5, details={'actual_k': 2, 'was_impossible': False}),\n",
       " Prediction(uid='A2HMF8ZR67BNZS', iid='B000FBK3QK', r_ui=5.0, est=4.333600641539696, details={'actual_k': 1, 'was_impossible': False}),\n",
       " Prediction(uid='A198CCH4NNLI2E', iid='B001NXDQAY', r_ui=1.0, est=2.736842105263158, details={'actual_k': 0, 'was_impossible': False}),\n",
       " Prediction(uid='A3U41ZL33SS92P', iid='B000XP8DJC', r_ui=3.0, est=3.3320325203252037, details={'actual_k': 1, 'was_impossible': False}),\n",
       " Prediction(uid='A37D1ZP8GBHE38', iid='B001VEIZY2', r_ui=5.0, est=4.431818181818182, details={'actual_k': 0, 'was_impossible': False}),\n",
       " Prediction(uid='A105TOJ6LTVMBG', iid='B0006HBBF0', r_ui=5.0, est=3.8043478260869565, details={'actual_k': 0, 'was_impossible': False}),\n",
       " Prediction(uid='A3FFZQKCA7UOYY', iid='B005PRE31U', r_ui=5.0, est=4.265800582326734, details={'was_impossible': True, 'reason': 'User and/or item is unknown.'}),\n",
       " Prediction(uid='A1DTCJV6KOMJOA', iid='B001AGM2VI', r_ui=5.0, est=4.961904761904762, details={'actual_k': 1, 'was_impossible': False}),\n",
       " Prediction(uid='A96JD9312DHWC', iid='B007W7PIZ6', r_ui=5.0, est=4.617084419297397, details={'actual_k': 5, 'was_impossible': False}),\n",
       " Prediction(uid='A30XZK10EZN9V4', iid='B0096DLEGG', r_ui=5.0, est=4.265800582326734, details={'was_impossible': True, 'reason': 'User and/or item is unknown.'}),\n",
       " Prediction(uid='A2NJQF2UI60VGT', iid='B000V06UHQ', r_ui=5.0, est=4.5, details={'actual_k': 0, 'was_impossible': False}),\n",
       " Prediction(uid='AI2AOCTC8BQVZ', iid='B0077V88V8', r_ui=5.0, est=4.675675675675675, details={'actual_k': 0, 'was_impossible': False}),\n",
       " Prediction(uid='A680RUE1FDO8B', iid='B00A659IJI', r_ui=1.0, est=4.441780821917808, details={'actual_k': 0, 'was_impossible': False}),\n",
       " Prediction(uid='A3D1TZH619NKHN', iid='B001963NZI', r_ui=4.0, est=3.454212454212454, details={'actual_k': 1, 'was_impossible': False}),\n",
       " Prediction(uid='A27QXQQOLAMRRR', iid='B00GO1UV4E', r_ui=4.0, est=4.523429122114754, details={'actual_k': 2, 'was_impossible': False}),\n",
       " Prediction(uid='A8CKH8XB33XGN', iid='B001UE6OUA', r_ui=2.0, est=4.265800582326734, details={'was_impossible': True, 'reason': 'User and/or item is unknown.'}),\n",
       " Prediction(uid='A3U41ZL33SS92P', iid='B008TO3GCI', r_ui=1.0, est=4.265800582326734, details={'was_impossible': True, 'reason': 'User and/or item is unknown.'}),\n",
       " Prediction(uid='A1V4VVBQBFXRHC', iid='B004LNOSQO', r_ui=5.0, est=4.265800582326734, details={'was_impossible': True, 'reason': 'User and/or item is unknown.'}),\n",
       " Prediction(uid='A365PBEOWM7EI7', iid='B001TH7GUA', r_ui=5.0, est=3.6666666666666665, details={'actual_k': 0, 'was_impossible': False}),\n",
       " Prediction(uid='A12ANFNOSMW5VD', iid='B005ARQV6U', r_ui=4.0, est=4.389952153110048, details={'actual_k': 1, 'was_impossible': False}),\n",
       " Prediction(uid='A2ZFFSJ0VM6KSJ', iid='B00F19Q7YI', r_ui=5.0, est=3.1796491228070174, details={'actual_k': 1, 'was_impossible': False}),\n",
       " Prediction(uid='A22MANL4US4RMY', iid='B000FFQ1VM', r_ui=5.0, est=4.701298701298701, details={'actual_k': 0, 'was_impossible': False}),\n",
       " Prediction(uid='AYB4ELCS5AM8P', iid='B00JX1ZS5O', r_ui=5.0, est=4.937175034543338, details={'actual_k': 4, 'was_impossible': False}),\n",
       " Prediction(uid='A100WO06OQR8BQ', iid='B002VFWY9M', r_ui=1.0, est=4.668253665968387, details={'actual_k': 1, 'was_impossible': False}),\n",
       " Prediction(uid='AWNJAY0M5UI70', iid='B004Q0PSMK', r_ui=5.0, est=4.791666666666667, details={'actual_k': 0, 'was_impossible': False}),\n",
       " Prediction(uid='A3LGT6UZL99IW1', iid='B003MVZ60I', r_ui=5.0, est=4.143589743589744, details={'actual_k': 0, 'was_impossible': False}),\n",
       " Prediction(uid='A2ZY3S7SD3QO8Z', iid='B00005I9RB', r_ui=3.0, est=4.265800582326734, details={'was_impossible': True, 'reason': 'User and/or item is unknown.'}),\n",
       " Prediction(uid='A34DQINHT6NYJU', iid='B0043M668G', r_ui=3.0, est=4.695927415145645, details={'actual_k': 3, 'was_impossible': False}),\n",
       " Prediction(uid='A2I2KPNJDQ9SL0', iid='B002JM5JSU', r_ui=2.0, est=4.617021276595745, details={'actual_k': 0, 'was_impossible': False}),\n",
       " Prediction(uid='A15CL28ALB7MTZ', iid='B001BN6G8A', r_ui=4.0, est=4.355555555555555, details={'actual_k': 0, 'was_impossible': False}),\n",
       " Prediction(uid='A1WXG10FJ353K0', iid='B0090Z3QG6', r_ui=5.0, est=5, details={'actual_k': 3, 'was_impossible': False}),\n",
       " Prediction(uid='A29GWIJL72GXXZ', iid='B001DL9WDG', r_ui=5.0, est=3.8, details={'actual_k': 0, 'was_impossible': False}),\n",
       " Prediction(uid='AI8EMB0HUC6Z5', iid='B001C219C8', r_ui=3.0, est=4.521739130434782, details={'actual_k': 0, 'was_impossible': False}),\n",
       " Prediction(uid='A2BCDZO1XQLDH', iid='B0002P19Y4', r_ui=5.0, est=4.265800582326734, details={'was_impossible': True, 'reason': 'User and/or item is unknown.'}),\n",
       " Prediction(uid='A3HXGSMCIOZEW8', iid='B000V2FJAS', r_ui=5.0, est=4.5, details={'actual_k': 0, 'was_impossible': False}),\n",
       " Prediction(uid='A2UKE7GIVC7XFW', iid='B004WOBCXO', r_ui=3.0, est=3.149459783913566, details={'actual_k': 1, 'was_impossible': False}),\n",
       " Prediction(uid='AJCR7L4AXL2OG', iid='B00076QVPU', r_ui=5.0, est=4.265800582326734, details={'was_impossible': True, 'reason': 'User and/or item is unknown.'}),\n",
       " Prediction(uid='A3L9E0YI7C5G0W', iid='B001DC5SAQ', r_ui=4.0, est=4.265800582326734, details={'was_impossible': True, 'reason': 'User and/or item is unknown.'}),\n",
       " Prediction(uid='A2GOHNFBHUU3UI', iid='B000B5ST3E', r_ui=3.0, est=4.265800582326734, details={'was_impossible': True, 'reason': 'User and/or item is unknown.'}),\n",
       " Prediction(uid='ALRCAGJOJ9583', iid='B006LW0W5Y', r_ui=5.0, est=4.126984126984127, details={'actual_k': 0, 'was_impossible': False}),\n",
       " Prediction(uid='A3284KYDZ00BZA', iid='B000BQ7GW8', r_ui=5.0, est=4.616892795281291, details={'actual_k': 3, 'was_impossible': False}),\n",
       " Prediction(uid='A1REY92IEZJUSX', iid='B004YLCFCM', r_ui=5.0, est=4.7272727272727275, details={'actual_k': 0, 'was_impossible': False}),\n",
       " Prediction(uid='A5QDZEOIMQ4LW', iid='B005BI5WMW', r_ui=5.0, est=4.7105263157894735, details={'actual_k': 0, 'was_impossible': False}),\n",
       " Prediction(uid='A2UWPPU5GZLMQZ', iid='B005ZV67OC', r_ui=4.0, est=4.265800582326734, details={'was_impossible': True, 'reason': 'User and/or item is unknown.'}),\n",
       " Prediction(uid='A5QDZEOIMQ4LW', iid='B007476KRY', r_ui=5.0, est=4.7105263157894735, details={'actual_k': 0, 'was_impossible': False}),\n",
       " Prediction(uid='A2L42QEWR77PKZ', iid='B000A8DSY2', r_ui=5.0, est=4.3768115942028984, details={'actual_k': 0, 'was_impossible': False}),\n",
       " Prediction(uid='A23GFTVIETX7DS', iid='B004YLCBRG', r_ui=5.0, est=5, details={'actual_k': 1, 'was_impossible': False}),\n",
       " Prediction(uid='A3J8A5L5AF5TX9', iid='B001OC3YB0', r_ui=4.0, est=3.9931693989071033, details={'actual_k': 1, 'was_impossible': False}),\n",
       " Prediction(uid='A361M14PU2GUEG', iid='B00CD8ADKO', r_ui=5.0, est=5, details={'actual_k': 2, 'was_impossible': False}),\n",
       " Prediction(uid='A19UTUEBWKIZFT', iid='B00IMUAYT2', r_ui=5.0, est=4.265800582326734, details={'was_impossible': True, 'reason': 'User and/or item is unknown.'}),\n",
       " Prediction(uid='A1RCGK44YXNBBB', iid='B000EG4GLO', r_ui=5.0, est=4.265800582326734, details={'was_impossible': True, 'reason': 'User and/or item is unknown.'}),\n",
       " Prediction(uid='A11YOTONCPRQ9S', iid='B000M87F0I', r_ui=3.0, est=3.4318181818181817, details={'actual_k': 0, 'was_impossible': False}),\n",
       " Prediction(uid='A3NEAETOSXDBOM', iid='B004YAYM06', r_ui=2.0, est=4.688529394525526, details={'actual_k': 1, 'was_impossible': False}),\n",
       " Prediction(uid='A3PPO2X5PJE1L9', iid='B00B19D2AY', r_ui=5.0, est=4.4186046511627906, details={'actual_k': 0, 'was_impossible': False}),\n",
       " Prediction(uid='A2YHXGPCTENZY3', iid='B0043EV1ZC', r_ui=2.0, est=4.265800582326734, details={'was_impossible': True, 'reason': 'User and/or item is unknown.'}),\n",
       " Prediction(uid='A3SU7JSTPH9CC9', iid='B002ZIMEMW', r_ui=4.0, est=5, details={'actual_k': 2, 'was_impossible': False}),\n",
       " Prediction(uid='AOMEH9W6LHC4S', iid='B002SCGY5S', r_ui=5.0, est=3.989130434782609, details={'actual_k': 0, 'was_impossible': False}),\n",
       " Prediction(uid='A1CMWB7AWQUQH4', iid='B005Y8BYOE', r_ui=3.0, est=3.95, details={'actual_k': 0, 'was_impossible': False}),\n",
       " Prediction(uid='A680RUE1FDO8B', iid='B0007Y6AF8', r_ui=4.0, est=4.161780821917809, details={'actual_k': 1, 'was_impossible': False}),\n",
       " Prediction(uid='A1SB9BNNGKNX2Z', iid='B002KC55OM', r_ui=5.0, est=4.247649302448526, details={'actual_k': 5, 'was_impossible': False}),\n",
       " Prediction(uid='AOJA1LC8PN7K1', iid='B000FMXKC8', r_ui=5.0, est=3.575, details={'actual_k': 0, 'was_impossible': False}),\n",
       " Prediction(uid='A2MCRCK1V61FWQ', iid='B007M4WW5I', r_ui=5.0, est=4.265800582326734, details={'was_impossible': True, 'reason': 'User and/or item is unknown.'}),\n",
       " Prediction(uid='A149RNR5RH19YY', iid='B0001BRITE', r_ui=4.0, est=1.1668306481367607, details={'actual_k': 1, 'was_impossible': False}),\n",
       " Prediction(uid='A2B7BUH8834Y6M', iid='B00192KCAG', r_ui=4.0, est=5, details={'actual_k': 3, 'was_impossible': False}),\n",
       " Prediction(uid='A1FR68QH6Z4YZM', iid='B000FGV59Y', r_ui=5.0, est=4.265800582326734, details={'was_impossible': True, 'reason': 'User and/or item is unknown.'}),\n",
       " Prediction(uid='A18HE80910BTZI', iid='B008DWCRQW', r_ui=3.0, est=3.746651397759394, details={'actual_k': 5, 'was_impossible': False}),\n",
       " Prediction(uid='A1EH2S92FHWZRP', iid='B000F6K00Y', r_ui=5.0, est=4.265800582326734, details={'was_impossible': True, 'reason': 'User and/or item is unknown.'}),\n",
       " Prediction(uid='ATZJNEXX7LWD3', iid='B004WIUDGM', r_ui=3.0, est=3.4338600193942157, details={'actual_k': 1, 'was_impossible': False}),\n",
       " Prediction(uid='AGVWTYW0ULXHT', iid='B00007FWP2', r_ui=4.0, est=3.9707602339181287, details={'actual_k': 0, 'was_impossible': False}),\n",
       " Prediction(uid='A1H7Y5XKPGT0OS', iid='B002ZRPYC0', r_ui=5.0, est=4.051282051282051, details={'actual_k': 0, 'was_impossible': False}),\n",
       " Prediction(uid='A1CST2WUA32GP0', iid='B000Z13844', r_ui=4.0, est=3.911764705882353, details={'actual_k': 0, 'was_impossible': False}),\n",
       " Prediction(uid='AN2IZT80ZUNJN', iid='B007CF78JM', r_ui=1.0, est=3.566725197541703, details={'actual_k': 1, 'was_impossible': False}),\n",
       " Prediction(uid='A1P0JSFW184ZXJ', iid='B008ULPAT2', r_ui=5.0, est=4.691376461438552, details={'actual_k': 5, 'was_impossible': False}),\n",
       " Prediction(uid='A16RI68PS6T5CA', iid='B00006K16A', r_ui=3.0, est=4.0, details={'actual_k': 0, 'was_impossible': False}),\n",
       " Prediction(uid='A22CW0ZHY3NJH8', iid='B000V0IE66', r_ui=4.0, est=4.265800582326734, details={'was_impossible': True, 'reason': 'User and/or item is unknown.'}),\n",
       " Prediction(uid='A38NHXL5257E3B', iid='B009USEFBI', r_ui=4.0, est=4.265800582326734, details={'was_impossible': True, 'reason': 'User and/or item is unknown.'}),\n",
       " Prediction(uid='A17BUUBOU0598B', iid='B000S5QIPS', r_ui=3.0, est=4.265800582326734, details={'was_impossible': True, 'reason': 'User and/or item is unknown.'}),\n",
       " Prediction(uid='A2JKM8KF3296CW', iid='B004XANKVY', r_ui=3.0, est=4.093023255813954, details={'actual_k': 0, 'was_impossible': False}),\n",
       " Prediction(uid='A3V0YR50F1XSKP', iid='B0081H7E4E', r_ui=5.0, est=4.265800582326734, details={'was_impossible': True, 'reason': 'User and/or item is unknown.'}),\n",
       " Prediction(uid='A2TMFC9O3ZCNKE', iid='B009VLTTAQ', r_ui=4.0, est=4.265800582326734, details={'was_impossible': True, 'reason': 'User and/or item is unknown.'}),\n",
       " Prediction(uid='A17V9XL4CWTQ6G', iid='B009M3UQ78', r_ui=5.0, est=4.265800582326734, details={'was_impossible': True, 'reason': 'User and/or item is unknown.'}),\n",
       " Prediction(uid='A2T689YVOAYGGD', iid='B000S5KJ6C', r_ui=2.0, est=4.265800582326734, details={'was_impossible': True, 'reason': 'User and/or item is unknown.'}),\n",
       " Prediction(uid='AT28RL25Q2OLK', iid='B00009R877', r_ui=5.0, est=4.265800582326734, details={'was_impossible': True, 'reason': 'User and/or item is unknown.'}),\n",
       " Prediction(uid='A1ZU55TM45Y2R8', iid='B008OEHV6U', r_ui=5.0, est=1.825438596491228, details={'actual_k': 1, 'was_impossible': False}),\n",
       " Prediction(uid='A1AQ8JT2A3UWMY', iid='B009N99ABO', r_ui=5.0, est=4.265800582326734, details={'was_impossible': True, 'reason': 'User and/or item is unknown.'}),\n",
       " Prediction(uid='A2HDTOF8222KN3', iid='B000087BWL', r_ui=5.0, est=4.978260869565218, details={'actual_k': 0, 'was_impossible': False}),\n",
       " Prediction(uid='A1ODOGXEYECQQ8', iid='B0074KBLAW', r_ui=4.0, est=4.3203125, details={'actual_k': 0, 'was_impossible': False}),\n",
       " Prediction(uid='AZOK5STV85FBJ', iid='B009TL1YMY', r_ui=5.0, est=4.65, details={'actual_k': 0, 'was_impossible': False}),\n",
       " Prediction(uid='A2HRHF83I3NDGT', iid='B004HHICKC', r_ui=5.0, est=5, details={'actual_k': 2, 'was_impossible': False}),\n",
       " Prediction(uid='A25C2M3QF9G7OQ', iid='B008O515CK', r_ui=4.0, est=5, details={'actual_k': 1, 'was_impossible': False}),\n",
       " Prediction(uid='A1EXGL6L0QQ0M5', iid='B008B14VAK', r_ui=5.0, est=4.36875, details={'actual_k': 0, 'was_impossible': False}),\n",
       " Prediction(uid='A17UNMURMLX0ZE', iid='B00CEB5QU2', r_ui=3.0, est=4.45720454551901, details={'actual_k': 2, 'was_impossible': False}),\n",
       " Prediction(uid='A1GBU479WXR7UG', iid='B0040RDT0M', r_ui=5.0, est=4.171428571428572, details={'actual_k': 0, 'was_impossible': False}),\n",
       " Prediction(uid='A2NSMJVQY0RV9S', iid='B0090BSSZO', r_ui=5.0, est=4.154718137254902, details={'actual_k': 1, 'was_impossible': False}),\n",
       " Prediction(uid='A3IY316DRNF5F2', iid='B000OTPRYQ', r_ui=5.0, est=4.265800582326734, details={'was_impossible': True, 'reason': 'User and/or item is unknown.'}),\n",
       " Prediction(uid='A2V2URLB31HG59', iid='B002TLTE6Y', r_ui=5.0, est=4.672727272727273, details={'actual_k': 1, 'was_impossible': False}),\n",
       " Prediction(uid='A2WB7LZ595CR50', iid='B00FG38L16', r_ui=4.0, est=4.201197917778014, details={'actual_k': 2, 'was_impossible': False}),\n",
       " Prediction(uid='A226VGZWOEBPGL', iid='B003Y74AXY', r_ui=4.0, est=5, details={'actual_k': 1, 'was_impossible': False}),\n",
       " Prediction(uid='A3S3R88HA0HZG3', iid='B0073FE1F0', r_ui=5.0, est=4.74468085106383, details={'actual_k': 0, 'was_impossible': False}),\n",
       " Prediction(uid='A2XQYE6TJYROHQ', iid='B000HCRVQ2', r_ui=5.0, est=4.487179487179487, details={'actual_k': 0, 'was_impossible': False}),\n",
       " Prediction(uid='A1JUBRIZMO0RJV', iid='B0081FLFQE', r_ui=4.0, est=4.002380952380952, details={'actual_k': 1, 'was_impossible': False}),\n",
       " Prediction(uid='A3EWJX7W1X7E79', iid='B003CY0SR6', r_ui=4.0, est=4.0, details={'actual_k': 0, 'was_impossible': False}),\n",
       " Prediction(uid='A3PD8JD9L4WEII', iid='B000HDJT4S', r_ui=4.0, est=4.9107815520908105, details={'actual_k': 4, 'was_impossible': False}),\n",
       " Prediction(uid='ASFP250F22MDZ', iid='B001GCU0MY', r_ui=4.0, est=3.7254901960784315, details={'actual_k': 0, 'was_impossible': False}),\n",
       " Prediction(uid='A12DQZKRKTNF5E', iid='B003LR7ME6', r_ui=5.0, est=4.234285714285714, details={'actual_k': 0, 'was_impossible': False}),\n",
       " Prediction(uid='A11P105WVK5240', iid='B0032Y0OH0', r_ui=3.0, est=4.265800582326734, details={'was_impossible': True, 'reason': 'User and/or item is unknown.'}),\n",
       " Prediction(uid='A1FDSZISWIXH1A', iid='B003ZQYVVK', r_ui=4.0, est=4.037356321839081, details={'actual_k': 1, 'was_impossible': False}),\n",
       " Prediction(uid='AGGAQLXPVGM5D', iid='B002VPE21A', r_ui=4.0, est=5, details={'actual_k': 1, 'was_impossible': False}),\n",
       " Prediction(uid='A2JKM8KF3296CW', iid='B00DQZP7X6', r_ui=5.0, est=4.093023255813954, details={'actual_k': 0, 'was_impossible': False}),\n",
       " Prediction(uid='A3FEGTOLCWXSV4', iid='B000TXNS6G', r_ui=5.0, est=4.0, details={'actual_k': 0, 'was_impossible': False}),\n",
       " Prediction(uid='A3V15SFD7918WZ', iid='B004FEEY9A', r_ui=5.0, est=4.0, details={'actual_k': 0, 'was_impossible': False}),\n",
       " Prediction(uid='A3H6NNGCINPLEC', iid='B00001W0EQ', r_ui=4.0, est=4.265800582326734, details={'was_impossible': True, 'reason': 'User and/or item is unknown.'}),\n",
       " Prediction(uid='A24ARANWS5E3T8', iid='B000TM6NFU', r_ui=4.0, est=4.358974358974359, details={'actual_k': 0, 'was_impossible': False}),\n",
       " Prediction(uid='A3N0P5AAMP6XD2', iid='B000J45EX0', r_ui=5.0, est=4.265800582326734, details={'was_impossible': True, 'reason': 'User and/or item is unknown.'}),\n",
       " Prediction(uid='ARXU3FESTWMJJ', iid='B00BF9MUAS', r_ui=4.0, est=4.816117216117217, details={'actual_k': 1, 'was_impossible': False}),\n",
       " Prediction(uid='A3NEAETOSXDBOM', iid='B0025UEQQW', r_ui=5.0, est=3.904132231404959, details={'actual_k': 1, 'was_impossible': False}),\n",
       " Prediction(uid='A2HBOG4LVIY15L', iid='B00834SJSK', r_ui=5.0, est=4.692929292929293, details={'actual_k': 1, 'was_impossible': False}),\n",
       " Prediction(uid='A2SZLNSI5KOQJT', iid='B000WYVBR0', r_ui=5.0, est=4.278568041725936, details={'actual_k': 1, 'was_impossible': False}),\n",
       " Prediction(uid='A2UOHALGF2X77Q', iid='B005LAIEN4', r_ui=5.0, est=3.163410194174757, details={'actual_k': 1, 'was_impossible': False}),\n",
       " Prediction(uid='A3RR2P5IS3DGPR', iid='B008G1FFBO', r_ui=5.0, est=4.63265306122449, details={'actual_k': 0, 'was_impossible': False}),\n",
       " Prediction(uid='A1143YEAZYMYHJ', iid='B00EPPZNYY', r_ui=4.0, est=4.475409836065574, details={'actual_k': 0, 'was_impossible': False}),\n",
       " Prediction(uid='AA91O96C1Z18W', iid='B00CGUMR2Q', r_ui=5.0, est=4.076923076923077, details={'actual_k': 0, 'was_impossible': False}),\n",
       " Prediction(uid='A1TR1R2QKWRSRA', iid='B00A3YDT5Q', r_ui=3.0, est=3.884500856447282, details={'actual_k': 3, 'was_impossible': False}),\n",
       " Prediction(uid='A11I1I9QLMAM1A', iid='B008DWCRQW', r_ui=4.0, est=4.342467527019045, details={'actual_k': 5, 'was_impossible': False}),\n",
       " Prediction(uid='A1ATVMMJZP3Q4X', iid='B00EFILNV8', r_ui=5.0, est=4.265800582326734, details={'was_impossible': True, 'reason': 'User and/or item is unknown.'}),\n",
       " Prediction(uid='A2OOXVZ6B1VZ9A', iid='B002QUZJAI', r_ui=5.0, est=4.265800582326734, details={'was_impossible': True, 'reason': 'User and/or item is unknown.'}),\n",
       " Prediction(uid='A3D822N1K2IAQD', iid='B004CQIVH2', r_ui=3.0, est=4.16, details={'actual_k': 0, 'was_impossible': False}),\n",
       " Prediction(uid='A33YZNZIRA3H97', iid='B002DMKJLI', r_ui=4.0, est=4.265800582326734, details={'was_impossible': True, 'reason': 'User and/or item is unknown.'}),\n",
       " Prediction(uid='A1VGXHHR08G044', iid='B004T9RR6I', r_ui=4.0, est=3.795317127770661, details={'actual_k': 5, 'was_impossible': False}),\n",
       " Prediction(uid='A1EH2S92FHWZRP', iid='B0042A7MR8', r_ui=5.0, est=4.265800582326734, details={'was_impossible': True, 'reason': 'User and/or item is unknown.'}),\n",
       " Prediction(uid='A1B4MIXYVIKMU2', iid='B001S4OTS6', r_ui=4.0, est=4.698530850448128, details={'actual_k': 4, 'was_impossible': False}),\n",
       " Prediction(uid='A1S27P7KJO9I96', iid='B001S0NTQ8', r_ui=1.0, est=4.265800582326734, details={'was_impossible': True, 'reason': 'User and/or item is unknown.'}),\n",
       " Prediction(uid='A1T1YSCDW0PD25', iid='B001OLZE9G', r_ui=2.0, est=4.265800582326734, details={'was_impossible': True, 'reason': 'User and/or item is unknown.'}),\n",
       " Prediction(uid='A2LF16F0KX9L7P', iid='B0074FGSBY', r_ui=1.0, est=4.534883720930233, details={'actual_k': 0, 'was_impossible': False}),\n",
       " Prediction(uid='A1ODOGXEYECQQ8', iid='B001542UQW', r_ui=4.0, est=4.734946646341463, details={'actual_k': 1, 'was_impossible': False}),\n",
       " Prediction(uid='A1EKSETIBS9ETQ', iid='B000VX6XL6', r_ui=5.0, est=4.01010101010101, details={'actual_k': 0, 'was_impossible': False}),\n",
       " Prediction(uid='A1OMXVXXP07F05', iid='B000EMUM2U', r_ui=4.0, est=4.265800582326734, details={'was_impossible': True, 'reason': 'User and/or item is unknown.'}),\n",
       " Prediction(uid='A3U41ZL33SS92P', iid='B001P5CAV6', r_ui=3.0, est=4.265800582326734, details={'was_impossible': True, 'reason': 'User and/or item is unknown.'}),\n",
       " Prediction(uid='A25FL6VLD7S23S', iid='B000144I30', r_ui=5.0, est=5, details={'actual_k': 1, 'was_impossible': False}),\n",
       " Prediction(uid='A3S5EXYZDEBF3K', iid='B002LVUQYQ', r_ui=4.0, est=3.6515151515151514, details={'actual_k': 0, 'was_impossible': False}),\n",
       " Prediction(uid='A105TOJ6LTVMBG', iid='B004U1Y3IU', r_ui=5.0, est=3.8043478260869565, details={'actual_k': 0, 'was_impossible': False}),\n",
       " Prediction(uid='A3DOPYDOS49I3T', iid='B0006HU49Y', r_ui=5.0, est=4.890625, details={'actual_k': 0, 'was_impossible': False}),\n",
       " Prediction(uid='A1QOIHVQC5XWCJ', iid='B000VLFJ8G', r_ui=5.0, est=4.265800582326734, details={'was_impossible': True, 'reason': 'User and/or item is unknown.'}),\n",
       " Prediction(uid='A3M82NO6OU1FHS', iid='B00776W34Q', r_ui=5.0, est=4.265800582326734, details={'was_impossible': True, 'reason': 'User and/or item is unknown.'}),\n",
       " Prediction(uid='A3LPL35P7FH78Y', iid='B0058UUR6E', r_ui=5.0, est=4.2947207237176785, details={'actual_k': 3, 'was_impossible': False}),\n",
       " Prediction(uid='A2J0IBS4PFRO2C', iid='B003UVCSZ6', r_ui=1.0, est=4.265800582326734, details={'was_impossible': True, 'reason': 'User and/or item is unknown.'}),\n",
       " Prediction(uid='A1VVRA3P6G1TWH', iid='B0017HQN6A', r_ui=5.0, est=3.9607843137254903, details={'actual_k': 0, 'was_impossible': False}),\n",
       " Prediction(uid='A10O7THJ2O20AG', iid='B004D5GXOA', r_ui=5.0, est=4.9655172413793105, details={'actual_k': 0, 'was_impossible': False}),\n",
       " Prediction(uid='A313H6238N589', iid='B000ZH98LU', r_ui=4.0, est=3.806451612903226, details={'actual_k': 0, 'was_impossible': False}),\n",
       " Prediction(uid='AZOK5STV85FBJ', iid='B000QSJWO6', r_ui=4.0, est=4.265800582326734, details={'was_impossible': True, 'reason': 'User and/or item is unknown.'}),\n",
       " Prediction(uid='A2LCE1D0TW2XY0', iid='B001G5ZTLS', r_ui=4.0, est=4.573818103492029, details={'actual_k': 2, 'was_impossible': False}),\n",
       " Prediction(uid='A1L64KDYO5BOJA', iid='B00006I53S', r_ui=5.0, est=4.671448663853727, details={'actual_k': 1, 'was_impossible': False}),\n",
       " Prediction(uid='AT53ZTTO707MB', iid='B00KW2W6B2', r_ui=5.0, est=4.558139534883721, details={'actual_k': 0, 'was_impossible': False}),\n",
       " Prediction(uid='A27ADCSD15F3GL', iid='B007B6YPAW', r_ui=3.0, est=3.211094564408042, details={'actual_k': 1, 'was_impossible': False}),\n",
       " Prediction(uid='A3PDWA32BAMB2Y', iid='B0002Y5WZC', r_ui=4.0, est=4.218181818181818, details={'actual_k': 0, 'was_impossible': False}),\n",
       " Prediction(uid='A2XU6J41ZQOJ2V', iid='B0018M256G', r_ui=5.0, est=4.461538461538462, details={'actual_k': 0, 'was_impossible': False}),\n",
       " Prediction(uid='A3LQUEB84IR3VO', iid='B0000AHO9L', r_ui=5.0, est=4.265800582326734, details={'was_impossible': True, 'reason': 'User and/or item is unknown.'}),\n",
       " Prediction(uid='A3W4D8XOGLWUN5', iid='B000Q8UAWY', r_ui=4.0, est=3.5407359829039615, details={'actual_k': 3, 'was_impossible': False}),\n",
       " Prediction(uid='A5JLAU2ARJ0BO', iid='B0006FRXI6', r_ui=5.0, est=4.265800582326734, details={'was_impossible': True, 'reason': 'User and/or item is unknown.'}),\n",
       " Prediction(uid='AFHYEO3Y1IIDD', iid='B008X9Z7N0', r_ui=4.0, est=3.7756731553794145, details={'actual_k': 1, 'was_impossible': False}),\n",
       " Prediction(uid='A2NYK9KWFMJV4Y', iid='B00HR3J65I', r_ui=5.0, est=4.850911946430058, details={'actual_k': 5, 'was_impossible': False}),\n",
       " Prediction(uid='A10ZBR6O8S8OCY', iid='B001GEVUQC', r_ui=4.0, est=4.265800582326734, details={'was_impossible': True, 'reason': 'User and/or item is unknown.'}),\n",
       " Prediction(uid='A18FLOC8YQY0P8', iid='B003LJ94K4', r_ui=3.0, est=4.265800582326734, details={'was_impossible': True, 'reason': 'User and/or item is unknown.'}),\n",
       " Prediction(uid='A11YOTONCPRQ9S', iid='B00GB0D3V6', r_ui=2.0, est=4.265800582326734, details={'was_impossible': True, 'reason': 'User and/or item is unknown.'}),\n",
       " Prediction(uid='A3HRDRQ5VAFPQS', iid='B002VPE1Q6', r_ui=5.0, est=3.6578947368421053, details={'actual_k': 0, 'was_impossible': False}),\n",
       " Prediction(uid='AT28RL25Q2OLK', iid='B00BI4JXGO', r_ui=1.0, est=4.328, details={'actual_k': 0, 'was_impossible': False}),\n",
       " Prediction(uid='A1MBXP3NZM2BUO', iid='B002SZEOLG', r_ui=5.0, est=4.6924476127556405, details={'actual_k': 5, 'was_impossible': False}),\n",
       " Prediction(uid='AQM0K7MBBT4AY', iid='B007PZYBTY', r_ui=2.0, est=4.404761904761905, details={'actual_k': 0, 'was_impossible': False}),\n",
       " Prediction(uid='AMWL7XIWIPXEZ', iid='B00IOVUXL8', r_ui=3.0, est=4.265800582326734, details={'was_impossible': True, 'reason': 'User and/or item is unknown.'}),\n",
       " Prediction(uid='A1ODOGXEYECQQ8', iid='B001S0PWWC', r_ui=5.0, est=4.330644549230295, details={'actual_k': 2, 'was_impossible': False}),\n",
       " Prediction(uid='A2I18AO597DSDI', iid='B003A4H2LI', r_ui=4.0, est=3.42, details={'actual_k': 0, 'was_impossible': False}),\n",
       " Prediction(uid='A1JWSDDIH5Z7DV', iid='B00008GT9Y', r_ui=5.0, est=4.964285714285714, details={'actual_k': 0, 'was_impossible': False}),\n",
       " Prediction(uid='A2OKRGHIYTBQ6P', iid='B00ISFNSBW', r_ui=5.0, est=5, details={'actual_k': 1, 'was_impossible': False}),\n",
       " Prediction(uid='A36K2N527TXXJN', iid='B001EZRJZE', r_ui=5.0, est=4.236048699571177, details={'actual_k': 5, 'was_impossible': False}),\n",
       " Prediction(uid='A3FEGTOLCWXSV4', iid='B002OEBILK', r_ui=5.0, est=3.8023831169485938, details={'actual_k': 3, 'was_impossible': False}),\n",
       " Prediction(uid='A1RDHBBZE1NPS3', iid='B000RLAK7A', r_ui=1.0, est=4.265800582326734, details={'was_impossible': True, 'reason': 'User and/or item is unknown.'}),\n",
       " Prediction(uid='A1QQA7Y92L4F9R', iid='B000HDJT4S', r_ui=4.0, est=4.8950039032006245, details={'actual_k': 1, 'was_impossible': False}),\n",
       " Prediction(uid='AVU1ILDDYW301', iid='B0079TOET8', r_ui=4.0, est=2.879761300152362, details={'actual_k': 1, 'was_impossible': False}),\n",
       " Prediction(uid='AHS6PX6H22WW1', iid='B00009VS6P', r_ui=5.0, est=3.979591836734694, details={'actual_k': 0, 'was_impossible': False}),\n",
       " Prediction(uid='A17HMM1M7T9PJ1', iid='B0012S7GRY', r_ui=4.0, est=4.265800582326734, details={'was_impossible': True, 'reason': 'User and/or item is unknown.'}),\n",
       " Prediction(uid='A3AZI828WJN1CD', iid='B004HO58SO', r_ui=5.0, est=4.315789473684211, details={'actual_k': 0, 'was_impossible': False}),\n",
       " Prediction(uid='A3MMR2WDKAK0PA', iid='B006ZH0KVG', r_ui=4.0, est=3.5, details={'actual_k': 0, 'was_impossible': False}),\n",
       " Prediction(uid='A3T7V207KRDE2O', iid='B000I9643K', r_ui=5.0, est=4.265800582326734, details={'was_impossible': True, 'reason': 'User and/or item is unknown.'}),\n",
       " Prediction(uid='A2DIQTZPF26T1L', iid='B006EKIQYM', r_ui=5.0, est=4.606060606060606, details={'actual_k': 0, 'was_impossible': False}),\n",
       " Prediction(uid='A1JZFGZEZVWQPY', iid='B000N99BBC', r_ui=4.0, est=4.511666755739446, details={'actual_k': 5, 'was_impossible': False}),\n",
       " Prediction(uid='A1F1A0QQP2XVH5', iid='B002LLK5CO', r_ui=3.0, est=3.8113826560104127, details={'actual_k': 3, 'was_impossible': False}),\n",
       " Prediction(uid='A32NEDX6UVV8DE', iid='B001BX5XDO', r_ui=5.0, est=4.265800582326734, details={'was_impossible': True, 'reason': 'User and/or item is unknown.'}),\n",
       " Prediction(uid='A24QFMD1RXLJMB', iid='B00006B8EX', r_ui=4.0, est=4.265800582326734, details={'was_impossible': True, 'reason': 'User and/or item is unknown.'}),\n",
       " Prediction(uid='A2NOW4U7W3F7RI', iid='B007B2QDFQ', r_ui=5.0, est=4.8201058201058204, details={'actual_k': 0, 'was_impossible': False}),\n",
       " Prediction(uid='A2WYF4POBUXL2O', iid='B000EOJI6Y', r_ui=4.0, est=4.265800582326734, details={'was_impossible': True, 'reason': 'User and/or item is unknown.'}),\n",
       " Prediction(uid='A28X0LT2100RL1', iid='B00004WCID', r_ui=4.0, est=1.7312673450508793, details={'actual_k': 1, 'was_impossible': False}),\n",
       " Prediction(uid='A145B8OHVNNFAJ', iid='B0007WZLDC', r_ui=4.0, est=4.254901960784314, details={'actual_k': 0, 'was_impossible': False}),\n",
       " Prediction(uid='A3J3ZHGDUDPCFL', iid='B008DWCRQW', r_ui=5.0, est=4.452278843864435, details={'actual_k': 5, 'was_impossible': False}),\n",
       " Prediction(uid='A3SU7JSTPH9CC9', iid='B003ZTKFEE', r_ui=5.0, est=4.483870967741935, details={'actual_k': 0, 'was_impossible': False}),\n",
       " Prediction(uid='A1Y4EWMUTW73GD', iid='B001415ENM', r_ui=4.0, est=4.265800582326734, details={'was_impossible': True, 'reason': 'User and/or item is unknown.'}),\n",
       " Prediction(uid='AQSV34W54L0VO', iid='B007WTAJTO', r_ui=5.0, est=4.589743589743589, details={'actual_k': 0, 'was_impossible': False}),\n",
       " Prediction(uid='A1ZTR0FR5AW9B4', iid='B005C5HX7Q', r_ui=2.0, est=4.265800582326734, details={'was_impossible': True, 'reason': 'User and/or item is unknown.'}),\n",
       " Prediction(uid='A3AYSYSLHU26U9', iid='B00ETH7ERM', r_ui=4.0, est=3.7594709678784124, details={'actual_k': 4, 'was_impossible': False}),\n",
       " Prediction(uid='A3F3B6HY9RJI04', iid='B002J9HCV0', r_ui=5.0, est=4.33736056709075, details={'actual_k': 2, 'was_impossible': False}),\n",
       " Prediction(uid='A2GYV87WW0DMSN', iid='B00803N2AY', r_ui=4.0, est=4.611111111111111, details={'actual_k': 0, 'was_impossible': False}),\n",
       " Prediction(uid='AUCIFMWP3DU8R', iid='B004AK154Q', r_ui=3.0, est=4.722766217870257, details={'actual_k': 1, 'was_impossible': False}),\n",
       " Prediction(uid='A18EA7MNLXP9H5', iid='B00005T3EM', r_ui=5.0, est=4.101694915254237, details={'actual_k': 0, 'was_impossible': False}),\n",
       " Prediction(uid='A11YOTONCPRQ9S', iid='B003QUNYQI', r_ui=3.0, est=3.954545454545454, details={'actual_k': 1, 'was_impossible': False}),\n",
       " Prediction(uid='A20DZX38KRBIT8', iid='B001D1R7E2', r_ui=5.0, est=4.265800582326734, details={'was_impossible': True, 'reason': 'User and/or item is unknown.'}),\n",
       " Prediction(uid='AA95DWUI3ODU', iid='B003TVO0N0', r_ui=4.0, est=4.045454545454546, details={'actual_k': 0, 'was_impossible': False}),\n",
       " Prediction(uid='AEL6CQNQXONBX', iid='B000HWNGX4', r_ui=3.0, est=4.265800582326734, details={'was_impossible': True, 'reason': 'User and/or item is unknown.'}),\n",
       " Prediction(uid='A17BUUBOU0598B', iid='B0097CZHAU', r_ui=4.0, est=3.086292572118253, details={'actual_k': 5, 'was_impossible': False}),\n",
       " Prediction(uid='A1EXGL6L0QQ0M5', iid='B007WLQNUQ', r_ui=5.0, est=4.265800582326734, details={'was_impossible': True, 'reason': 'User and/or item is unknown.'}),\n",
       " Prediction(uid='A19X4BF861LQST', iid='B00007EDZG', r_ui=4.0, est=3.857373086220789, details={'actual_k': 1, 'was_impossible': False}),\n",
       " Prediction(uid='ATS2855497V0I', iid='B002TOJXK8', r_ui=4.0, est=3.795918367346939, details={'actual_k': 0, 'was_impossible': False}),\n",
       " Prediction(uid='A1U11IP6K6NHAK', iid='B00GQOZFNQ', r_ui=5.0, est=4.609756097560975, details={'actual_k': 0, 'was_impossible': False}),\n",
       " Prediction(uid='A3CW0ZLUO5X2B1', iid='B001H0GEVG', r_ui=4.0, est=4.265800582326734, details={'was_impossible': True, 'reason': 'User and/or item is unknown.'}),\n",
       " Prediction(uid='A386LG0LRWKJZP', iid='B00518M74I', r_ui=3.0, est=2.4545454545454546, details={'actual_k': 0, 'was_impossible': False}),\n",
       " Prediction(uid='A19NP8YYADOOSF', iid='B00EH5UGR6', r_ui=5.0, est=4.056603773584905, details={'actual_k': 0, 'was_impossible': False}),\n",
       " Prediction(uid='A87CILADRIZW0', iid='B001XURP7W', r_ui=4.0, est=4.6346660552558445, details={'actual_k': 5, 'was_impossible': False}),\n",
       " Prediction(uid='A324X7RVDAV3FT', iid='B001CR63K6', r_ui=5.0, est=4.265800582326734, details={'was_impossible': True, 'reason': 'User and/or item is unknown.'}),\n",
       " Prediction(uid='A1V5TRJXTI6F01', iid='B004QZB1DA', r_ui=5.0, est=4.265800582326734, details={'was_impossible': True, 'reason': 'User and/or item is unknown.'}),\n",
       " Prediction(uid='A3GVXKCTFN3YDN', iid='B000BSY3UY', r_ui=5.0, est=4.265800582326734, details={'was_impossible': True, 'reason': 'User and/or item is unknown.'}),\n",
       " Prediction(uid='A3N0P5AAMP6XD2', iid='B00001W0DH', r_ui=4.0, est=3.537313432835821, details={'actual_k': 0, 'was_impossible': False}),\n",
       " Prediction(uid='AWPODHOB4GFWL', iid='B004N627KS', r_ui=5.0, est=4.248823152438202, details={'actual_k': 2, 'was_impossible': False}),\n",
       " Prediction(uid='A1R76R4E6A8S3B', iid='B00CD1PTF0', r_ui=3.0, est=4.32378961116703, details={'actual_k': 2, 'was_impossible': False}),\n",
       " Prediction(uid='AUBEFRFHJR64Y', iid='B0081TXIXI', r_ui=1.0, est=4.0588235294117645, details={'actual_k': 0, 'was_impossible': False}),\n",
       " Prediction(uid='A3Q1J68QY1MZQ9', iid='B0055CAR7Y', r_ui=5.0, est=4.0, details={'actual_k': 0, 'was_impossible': False}),\n",
       " Prediction(uid='A2ZFBTGPDP6PH6', iid='B001FWXDZQ', r_ui=4.0, est=4.421052631578948, details={'actual_k': 0, 'was_impossible': False}),\n",
       " Prediction(uid='ALNE7Q71JFC0F', iid='B004WYA852', r_ui=1.0, est=5, details={'actual_k': 1, 'was_impossible': False}),\n",
       " Prediction(uid='A3BNMHRW2R35LK', iid='B00CAAJDP6', r_ui=5.0, est=5, details={'actual_k': 1, 'was_impossible': False}),\n",
       " Prediction(uid='A11YIHB6IW352W', iid='B0081GUXYI', r_ui=5.0, est=4.265800582326734, details={'was_impossible': True, 'reason': 'User and/or item is unknown.'}),\n",
       " Prediction(uid='A3TCMJ6GKZJFBQ', iid='B000M17AVO', r_ui=5.0, est=4.04, details={'actual_k': 0, 'was_impossible': False}),\n",
       " Prediction(uid='A2L90SGUP36KGA', iid='B00029U1DK', r_ui=5.0, est=4.887096774193548, details={'actual_k': 1, 'was_impossible': False}),\n",
       " Prediction(uid='A1QQA7Y92L4F9R', iid='B001C271MA', r_ui=5.0, est=5, details={'actual_k': 1, 'was_impossible': False}),\n",
       " Prediction(uid='AVBLGXSWRN666', iid='B002CWZ29S', r_ui=4.0, est=3.911111111111111, details={'actual_k': 0, 'was_impossible': False}),\n",
       " Prediction(uid='A4WEZJOIZIV4U', iid='B00008XPAR', r_ui=3.0, est=4.56687898089172, details={'actual_k': 0, 'was_impossible': False}),\n",
       " Prediction(uid='A3S3VSXEFXBMRC', iid='B001D7REIK', r_ui=5.0, est=5, details={'actual_k': 1, 'was_impossible': False}),\n",
       " Prediction(uid='AVBLGXSWRN666', iid='B002M3SOBU', r_ui=4.0, est=3.911111111111111, details={'actual_k': 0, 'was_impossible': False}),\n",
       " Prediction(uid='A3OZA8HNJM26DC', iid='B004TPPWT6', r_ui=5.0, est=3.7096774193548385, details={'actual_k': 0, 'was_impossible': False}),\n",
       " Prediction(uid='A3DWO5RJDA430F', iid='B002TTITJY', r_ui=5.0, est=4.751573491299519, details={'actual_k': 1, 'was_impossible': False}),\n",
       " Prediction(uid='A18NDN2CIG2TKR', iid='B0056043VQ', r_ui=5.0, est=4.265800582326734, details={'was_impossible': True, 'reason': 'User and/or item is unknown.'}),\n",
       " Prediction(uid='A38RMU1Y5TDP9', iid='B002JSQ96K', r_ui=3.0, est=4.298342541436464, details={'actual_k': 0, 'was_impossible': False}),\n",
       " Prediction(uid='A3LGT6UZL99IW1', iid='B00008ZGSO', r_ui=4.0, est=4.143589743589744, details={'actual_k': 0, 'was_impossible': False}),\n",
       " Prediction(uid='A3F7F7QKQP2FKT', iid='B008LYU2K0', r_ui=5.0, est=4.265800582326734, details={'was_impossible': True, 'reason': 'User and/or item is unknown.'}),\n",
       " Prediction(uid='A377LPVLLAI42D', iid='B005EVVHOS', r_ui=5.0, est=4.265800582326734, details={'was_impossible': True, 'reason': 'User and/or item is unknown.'}),\n",
       " Prediction(uid='A10PEXB6XAQ5XF', iid='B007R5YDYA', r_ui=5.0, est=4.036672412566443, details={'actual_k': 4, 'was_impossible': False}),\n",
       " Prediction(uid='A20DZX38KRBIT8', iid='B002HIAB98', r_ui=1.0, est=4.265800582326734, details={'was_impossible': True, 'reason': 'User and/or item is unknown.'}),\n",
       " Prediction(uid='AGEWOMQ90BV8R', iid='B002C76W4C', r_ui=4.0, est=4.416666666666667, details={'actual_k': 0, 'was_impossible': False}),\n",
       " Prediction(uid='A105S56ODHGJEK', iid='B002LLK5CO', r_ui=2.0, est=3.829356574716606, details={'actual_k': 2, 'was_impossible': False}),\n",
       " Prediction(uid='A213J54E63SYOP', iid='B0002VO8GE', r_ui=3.0, est=4.265800582326734, details={'was_impossible': True, 'reason': 'User and/or item is unknown.'}),\n",
       " Prediction(uid='A2PL06HW6KZH2', iid='B00007FGU7', r_ui=5.0, est=4.212765957446808, details={'actual_k': 0, 'was_impossible': False}),\n",
       " Prediction(uid='A1MNN0ZMHYPJDU', iid='B00749PLXQ', r_ui=5.0, est=4.265800582326734, details={'was_impossible': True, 'reason': 'User and/or item is unknown.'}),\n",
       " Prediction(uid='A3T7V207KRDE2O', iid='B001GS8FZ2', r_ui=5.0, est=3.651710395238238, details={'actual_k': 5, 'was_impossible': False}),\n",
       " Prediction(uid='A11KZ906QD08C5', iid='B000652SOK', r_ui=5.0, est=4.430463576158941, details={'actual_k': 0, 'was_impossible': False}),\n",
       " Prediction(uid='A2BLFCOPSMBOZ9', iid='B0000AZK4G', r_ui=4.0, est=5, details={'actual_k': 1, 'was_impossible': False}),\n",
       " Prediction(uid='A33HIV8RXRDM88', iid='B000MX48VM', r_ui=5.0, est=3.7087077218799163, details={'actual_k': 2, 'was_impossible': False}),\n",
       " Prediction(uid='ATS2855497V0I', iid='B00111TP58', r_ui=4.0, est=4.265800582326734, details={'was_impossible': True, 'reason': 'User and/or item is unknown.'}),\n",
       " Prediction(uid='AVJORH3ACR2A5', iid='B0002J2MTQ', r_ui=5.0, est=4.265800582326734, details={'was_impossible': True, 'reason': 'User and/or item is unknown.'}),\n",
       " Prediction(uid='A3MFORLOKIOEQY', iid='B004LSUQZQ', r_ui=4.0, est=4.225514922236234, details={'actual_k': 1, 'was_impossible': False}),\n",
       " Prediction(uid='A2SKEQT0WTB954', iid='B000QU10R6', r_ui=5.0, est=4.265800582326734, details={'was_impossible': True, 'reason': 'User and/or item is unknown.'}),\n",
       " Prediction(uid='AS269J1OGZT1V', iid='B004BQTSKC', r_ui=4.0, est=3.7719298245614037, details={'actual_k': 0, 'was_impossible': False}),\n",
       " Prediction(uid='A3V7D0LH8L7BG0', iid='B007KZQM9G', r_ui=4.0, est=4.046754417168019, details={'actual_k': 5, 'was_impossible': False}),\n",
       " Prediction(uid='A2DIQTZPF26T1L', iid='B000QFKDJ2', r_ui=5.0, est=4.265800582326734, details={'was_impossible': True, 'reason': 'User and/or item is unknown.'}),\n",
       " Prediction(uid='AW6FQE5QRF2LM', iid='B00AQGGKV6', r_ui=5.0, est=4.84375, details={'actual_k': 0, 'was_impossible': False}),\n",
       " Prediction(uid='A3J029KBNG5MNP', iid='B005VTGB0S', r_ui=3.0, est=4.108108108108108, details={'actual_k': 0, 'was_impossible': False}),\n",
       " Prediction(uid='ABH9D1TEOJ56E', iid='B000093UU4', r_ui=5.0, est=4.265800582326734, details={'was_impossible': True, 'reason': 'User and/or item is unknown.'}),\n",
       " Prediction(uid='A3OXHLG6DIBRW8', iid='B001H9NR2Q', r_ui=4.0, est=5, details={'actual_k': 1, 'was_impossible': False}),\n",
       " Prediction(uid='AVSMRPI23DQI2', iid='B0009U7XH4', r_ui=5.0, est=4.491525423728813, details={'actual_k': 0, 'was_impossible': False}),\n",
       " Prediction(uid='A17BUUBOU0598B', iid='B0039BPG1U', r_ui=4.0, est=3.407608695652174, details={'actual_k': 0, 'was_impossible': False}),\n",
       " Prediction(uid='A1JZFGZEZVWQPY', iid='B00EOYW5RE', r_ui=2.0, est=4.265800582326734, details={'was_impossible': True, 'reason': 'User and/or item is unknown.'}),\n",
       " Prediction(uid='A2K5RRMPICZ606', iid='B002NWTEUK', r_ui=4.0, est=4.265800582326734, details={'was_impossible': True, 'reason': 'User and/or item is unknown.'}),\n",
       " Prediction(uid='A267FU71Z01CIH', iid='B004YAYM06', r_ui=3.0, est=4.4, details={'actual_k': 0, 'was_impossible': False}),\n",
       " Prediction(uid='A2Q204DY2L7YRP', iid='B003GMNPEC', r_ui=5.0, est=4.265800582326734, details={'was_impossible': True, 'reason': 'User and/or item is unknown.'}),\n",
       " Prediction(uid='A28LUOEY0ECT9G', iid='B0045DNX48', r_ui=5.0, est=4.265800582326734, details={'was_impossible': True, 'reason': 'User and/or item is unknown.'}),\n",
       " Prediction(uid='A680RUE1FDO8B', iid='B0009I96LM', r_ui=5.0, est=4.265800582326734, details={'was_impossible': True, 'reason': 'User and/or item is unknown.'}),\n",
       " Prediction(uid='A19HT7YC1UW3D6', iid='B0080BV3B6', r_ui=5.0, est=4.265800582326734, details={'was_impossible': True, 'reason': 'User and/or item is unknown.'}),\n",
       " Prediction(uid='A3O5ASFUXC32UA', iid='B0000BZLBA', r_ui=5.0, est=4.35, details={'actual_k': 0, 'was_impossible': False}),\n",
       " Prediction(uid='ATDE9JYCPI0L1', iid='B0012EAUZI', r_ui=4.0, est=4.265800582326734, details={'was_impossible': True, 'reason': 'User and/or item is unknown.'}),\n",
       " Prediction(uid='A2ZY49IDE6TY5I', iid='B0041OQKIC', r_ui=4.0, est=4.491764705882353, details={'actual_k': 1, 'was_impossible': False}),\n",
       " Prediction(uid='ARXU3FESTWMJJ', iid='B00FRMAOIO', r_ui=5.0, est=4.262838871647329, details={'actual_k': 3, 'was_impossible': False}),\n",
       " Prediction(uid='A1GBT4UN2RW7XY', iid='B005NHTG6O', r_ui=3.0, est=4.292307692307692, details={'actual_k': 0, 'was_impossible': False}),\n",
       " Prediction(uid='A2294LS59GC5K7', iid='B009U5D8HI', r_ui=5.0, est=4.265800582326734, details={'was_impossible': True, 'reason': 'User and/or item is unknown.'}),\n",
       " Prediction(uid='A1FOSIV4TWZFR7', iid='B0017S37IG', r_ui=5.0, est=4.265800582326734, details={'was_impossible': True, 'reason': 'User and/or item is unknown.'}),\n",
       " Prediction(uid='A2DG63DN704LOI', iid='B00D1GYNT4', r_ui=5.0, est=5, details={'actual_k': 5, 'was_impossible': False}),\n",
       " Prediction(uid='AETQIN7OH0RL9', iid='B002V88HFE', r_ui=5.0, est=3.816160072384538, details={'actual_k': 4, 'was_impossible': False}),\n",
       " Prediction(uid='A25HBO5V8S8SEA', iid='B00006HGW0', r_ui=5.0, est=4.265800582326734, details={'was_impossible': True, 'reason': 'User and/or item is unknown.'}),\n",
       " Prediction(uid='A16WP8NTPYB0ZM', iid='B002UL4A30', r_ui=1.0, est=4.265800582326734, details={'was_impossible': True, 'reason': 'User and/or item is unknown.'}),\n",
       " Prediction(uid='ABMF4UC4Z00NT', iid='B002BH3I9U', r_ui=3.0, est=2.3353063453406744, details={'actual_k': 3, 'was_impossible': False}),\n",
       " Prediction(uid='A240FRPD4MEXND', iid='B000WGHY38', r_ui=5.0, est=4.265800582326734, details={'was_impossible': True, 'reason': 'User and/or item is unknown.'}),\n",
       " Prediction(uid='A2294LS59GC5K7', iid='B0008GP880', r_ui=5.0, est=4.170212765957447, details={'actual_k': 0, 'was_impossible': False}),\n",
       " Prediction(uid='A25C2M3QF9G7OQ', iid='B00JEGLLEA', r_ui=5.0, est=4.265800582326734, details={'was_impossible': True, 'reason': 'User and/or item is unknown.'}),\n",
       " Prediction(uid='AC6Z7DP1Z5GHD', iid='B004KIGK52', r_ui=4.0, est=4.265800582326734, details={'was_impossible': True, 'reason': 'User and/or item is unknown.'}),\n",
       " Prediction(uid='A1O229NVVDJUX2', iid='B00026HZ1E', r_ui=5.0, est=4.265800582326734, details={'was_impossible': True, 'reason': 'User and/or item is unknown.'}),\n",
       " Prediction(uid='A1MZL91Z44RN06', iid='B00766BF1E', r_ui=4.0, est=4.588235294117647, details={'actual_k': 0, 'was_impossible': False}),\n",
       " Prediction(uid='A2L4ZGN7GZJ95T', iid='B00511PS3C', r_ui=5.0, est=4.036912842117536, details={'actual_k': 2, 'was_impossible': False}),\n",
       " Prediction(uid='A1QOIHVQC5XWCJ', iid='B004MMEI8W', r_ui=5.0, est=4.513513513513513, details={'actual_k': 0, 'was_impossible': False}),\n",
       " Prediction(uid='A3NYBI5VMVEEIK', iid='B000VL6N0O', r_ui=4.0, est=4.265800582326734, details={'was_impossible': True, 'reason': 'User and/or item is unknown.'}),\n",
       " Prediction(uid='A36K2N527TXXJN', iid='B0082E9K7U', r_ui=4.0, est=4.834606899584178, details={'actual_k': 5, 'was_impossible': False}),\n",
       " Prediction(uid='A1X3DA7C61WZLQ', iid='B0030D3T16', r_ui=3.0, est=4.265800582326734, details={'was_impossible': True, 'reason': 'User and/or item is unknown.'}),\n",
       " Prediction(uid='A28BX3MM90A6FI', iid='B0041MY32Y', r_ui=5.0, est=4.392857142857143, details={'actual_k': 0, 'was_impossible': False}),\n",
       " Prediction(uid='A2UWPPU5GZLMQZ', iid='B0010Z294O', r_ui=4.0, est=4.395348837209302, details={'actual_k': 0, 'was_impossible': False}),\n",
       " Prediction(uid='A31HE83MU98GBV', iid='B0037TRWTI', r_ui=5.0, est=4.583333333333333, details={'actual_k': 0, 'was_impossible': False}),\n",
       " Prediction(uid='A1Y4EWMUTW73GD', iid='B005979I1Q', r_ui=5.0, est=4.265800582326734, details={'was_impossible': True, 'reason': 'User and/or item is unknown.'}),\n",
       " Prediction(uid='A2AF0NOCM71J0B', iid='B00E38TVWI', r_ui=3.0, est=4.265800582326734, details={'was_impossible': True, 'reason': 'User and/or item is unknown.'}),\n",
       " Prediction(uid='A2UCDLO7V7DG6', iid='B0054P1S70', r_ui=5.0, est=4.265800582326734, details={'was_impossible': True, 'reason': 'User and/or item is unknown.'}),\n",
       " Prediction(uid='A2MJ8OL2FYN7CW', iid='B000M3GODW', r_ui=5.0, est=4.454545454545454, details={'actual_k': 0, 'was_impossible': False}),\n",
       " Prediction(uid='A3JU16JTNLVK1J', iid='B001C1V4OM', r_ui=5.0, est=4.265800582326734, details={'was_impossible': True, 'reason': 'User and/or item is unknown.'}),\n",
       " Prediction(uid='A3G007LQX6KGOD', iid='B0037TRWTI', r_ui=5.0, est=4.181818181818182, details={'actual_k': 0, 'was_impossible': False}),\n",
       " Prediction(uid='A2RU4U1JZ3DMP5', iid='B00005NPWJ', r_ui=3.0, est=4.60351966873706, details={'actual_k': 1, 'was_impossible': False}),\n",
       " Prediction(uid='AR74YY08IP2WE', iid='B000EWHH7I', r_ui=4.0, est=3.55, details={'actual_k': 0, 'was_impossible': False}),\n",
       " Prediction(uid='A8X8D4BUY5DFU', iid='B005TNNHI0', r_ui=5.0, est=4.265800582326734, details={'was_impossible': True, 'reason': 'User and/or item is unknown.'}),\n",
       " Prediction(uid='A11KZ906QD08C5', iid='B000H472G4', r_ui=5.0, est=4.265800582326734, details={'was_impossible': True, 'reason': 'User and/or item is unknown.'}),\n",
       " Prediction(uid='A2ZRMCRLDSUX6R', iid='B002GEA4U4', r_ui=3.0, est=4.633333333333334, details={'actual_k': 0, 'was_impossible': False}),\n",
       " Prediction(uid='AROQO2VDODT7', iid='B000VY2BC0', r_ui=2.0, est=4.0490204610256, details={'actual_k': 2, 'was_impossible': False}),\n",
       " Prediction(uid='A16CVJUQOB6GIB', iid='B0044221MK', r_ui=4.0, est=4.265800582326734, details={'was_impossible': True, 'reason': 'User and/or item is unknown.'}),\n",
       " Prediction(uid='A2D0CO1OA6DSWY', iid='B00295RAMA', r_ui=4.0, est=4.265800582326734, details={'was_impossible': True, 'reason': 'User and/or item is unknown.'}),\n",
       " Prediction(uid='A3MU9G6YWKTGTA', iid='B000ZH98LU', r_ui=3.0, est=4.414634146341464, details={'actual_k': 0, 'was_impossible': False}),\n",
       " Prediction(uid='ARTA78TP6H73D', iid='B00EVIBN26', r_ui=3.0, est=1, details={'actual_k': 1, 'was_impossible': False}),\n",
       " Prediction(uid='A2NVQZ4Y7Y0J1R', iid='B00CL8F98W', r_ui=3.0, est=3.331397849462366, details={'actual_k': 1, 'was_impossible': False}),\n",
       " Prediction(uid='A18U49406IPPIJ', iid='B00HEB0VPW', r_ui=5.0, est=4.265800582326734, details={'was_impossible': True, 'reason': 'User and/or item is unknown.'}),\n",
       " Prediction(uid='AI8EMB0HUC6Z5', iid='B0052SCU8U', r_ui=5.0, est=4.937740170229647, details={'actual_k': 4, 'was_impossible': False}),\n",
       " Prediction(uid='A3094EPI56GKZ6', iid='B008HK3YOO', r_ui=4.0, est=5, details={'actual_k': 1, 'was_impossible': False}),\n",
       " Prediction(uid='ATS2855497V0I', iid='B009T0NFTA', r_ui=4.0, est=3.9265761275378392, details={'actual_k': 4, 'was_impossible': False}),\n",
       " Prediction(uid='ABDR6IJ93HFIO', iid='B000J6Z79E', r_ui=5.0, est=4.265800582326734, details={'was_impossible': True, 'reason': 'User and/or item is unknown.'}),\n",
       " Prediction(uid='A3G7BEJJCPD6DS', iid='B004J4VYEY', r_ui=3.0, est=3.9804360755396204, details={'actual_k': 3, 'was_impossible': False}),\n",
       " Prediction(uid='A34LQ791ACZ0JC', iid='B00005ATMB', r_ui=5.0, est=4.8545454545454545, details={'actual_k': 0, 'was_impossible': False}),\n",
       " Prediction(uid='A267FU71Z01CIH', iid='B00DQZPM72', r_ui=4.0, est=4.265800582326734, details={'was_impossible': True, 'reason': 'User and/or item is unknown.'}),\n",
       " Prediction(uid='A32HSNCNPRUMTR', iid='B00427ZLRO', r_ui=1.0, est=3.6666666666666665, details={'actual_k': 0, 'was_impossible': False}),\n",
       " Prediction(uid='A2NJQF2UI60VGT', iid='B003BIFOLI', r_ui=5.0, est=4.5, details={'actual_k': 0, 'was_impossible': False}),\n",
       " Prediction(uid='A1Z4GII5CHCDG7', iid='B003NSBF32', r_ui=3.0, est=4.669767441860465, details={'actual_k': 1, 'was_impossible': False}),\n",
       " Prediction(uid='A506HOOCVL8GW', iid='B003Z4G3I6', r_ui=5.0, est=4.838690476190477, details={'actual_k': 1, 'was_impossible': False}),\n",
       " Prediction(uid='A3H4S6YO9VNGDZ', iid='B0012X43P2', r_ui=5.0, est=4.527027027027027, details={'actual_k': 0, 'was_impossible': False}),\n",
       " Prediction(uid='A214W7SK2DJQ99', iid='B0093AMVEG', r_ui=5.0, est=4.265800582326734, details={'was_impossible': True, 'reason': 'User and/or item is unknown.'}),\n",
       " Prediction(uid='A1CSRR7FCKBL9M', iid='B005CT56F8', r_ui=3.0, est=4.264150943396227, details={'actual_k': 0, 'was_impossible': False}),\n",
       " Prediction(uid='A3G007LQX6KGOD', iid='B0031ESKJA', r_ui=5.0, est=4.970053475935829, details={'actual_k': 1, 'was_impossible': False}),\n",
       " Prediction(uid='ARBKYIVNYWK3C', iid='B0046W5EQI', r_ui=4.0, est=4.674556612293065, details={'actual_k': 2, 'was_impossible': False}),\n",
       " Prediction(uid='A2B7BUH8834Y6M', iid='B0083T1KDG', r_ui=5.0, est=4.542635658914729, details={'actual_k': 0, 'was_impossible': False}),\n",
       " Prediction(uid='A2KYRPDKVBI2R4', iid='B002PXLQSK', r_ui=5.0, est=4.265800582326734, details={'was_impossible': True, 'reason': 'User and/or item is unknown.'}),\n",
       " Prediction(uid='AE88D7OM7YU99', iid='B004HYGU18', r_ui=3.0, est=2.868162463150999, details={'actual_k': 1, 'was_impossible': False}),\n",
       " Prediction(uid='A2T3S3VTW65VO5', iid='B007NKOC2W', r_ui=5.0, est=4.571428571428571, details={'actual_k': 0, 'was_impossible': False}),\n",
       " Prediction(uid='A17NVM7IAPF2NS', iid='B007C81JL2', r_ui=5.0, est=4.404255319148936, details={'actual_k': 0, 'was_impossible': False}),\n",
       " Prediction(uid='A25C2M3QF9G7OQ', iid='B004IK2EAW', r_ui=5.0, est=4.8112918446031125, details={'actual_k': 3, 'was_impossible': False}),\n",
       " Prediction(uid='A2VCXIAWCPQ13P', iid='B004W2JKWG', r_ui=5.0, est=3.619047619047619, details={'actual_k': 0, 'was_impossible': False}),\n",
       " Prediction(uid='A3J8A5L5AF5TX9', iid='B004OF9XGO', r_ui=2.0, est=3.9098360655737703, details={'actual_k': 0, 'was_impossible': False}),\n",
       " Prediction(uid='AEJAGHLC675A7', iid='B000ZNRBK4', r_ui=5.0, est=4.786585365853658, details={'actual_k': 0, 'was_impossible': False}),\n",
       " Prediction(uid='A9Y5O2R4D6EH5', iid='B0002YE6EU', r_ui=3.0, est=4.142857142857143, details={'actual_k': 0, 'was_impossible': False}),\n",
       " Prediction(uid='A2HMF8ZR67BNZS', iid='B000ZMCILW', r_ui=5.0, est=5, details={'actual_k': 2, 'was_impossible': False}),\n",
       " Prediction(uid='A19X4BF861LQST', iid='B0050QJUP0', r_ui=4.0, est=3.73972602739726, details={'actual_k': 0, 'was_impossible': False}),\n",
       " Prediction(uid='A20DDH4NT6Q1E8', iid='B002QEBMAK', r_ui=5.0, est=5, details={'actual_k': 4, 'was_impossible': False}),\n",
       " Prediction(uid='AZAC8O310IK4E', iid='B004WK3U9W', r_ui=5.0, est=4.501736136599203, details={'actual_k': 2, 'was_impossible': False}),\n",
       " Prediction(uid='A3BACUOZV1M0WM', iid='B000Y25ZFY', r_ui=5.0, est=4.265800582326734, details={'was_impossible': True, 'reason': 'User and/or item is unknown.'}),\n",
       " Prediction(uid='A33HIV8RXRDM88', iid='B000M3ILF6', r_ui=5.0, est=4.304347826086956, details={'actual_k': 0, 'was_impossible': False}),\n",
       " Prediction(uid='A14X244VGHWPSX', iid='B00DQZQG3G', r_ui=5.0, est=4.388888888888889, details={'actual_k': 0, 'was_impossible': False}),\n",
       " Prediction(uid='A3LGT6UZL99IW1', iid='B00HFW1E6K', r_ui=5.0, est=4.143589743589744, details={'actual_k': 0, 'was_impossible': False}),\n",
       " Prediction(uid='AWSK1ZAEU1KFL', iid='B002MKS95O', r_ui=5.0, est=4.428571428571429, details={'actual_k': 0, 'was_impossible': False}),\n",
       " Prediction(uid='A2JOPUWVV0XQJ3', iid='B003MYLJ0Q', r_ui=2.0, est=4.265800582326734, details={'was_impossible': True, 'reason': 'User and/or item is unknown.'}),\n",
       " Prediction(uid='A3E049PVKG7NDK', iid='B009NQLT0M', r_ui=5.0, est=4.315789473684211, details={'actual_k': 0, 'was_impossible': False}),\n",
       " Prediction(uid='A1CM4HI4S5P0WO', iid='B008S7AVTC', r_ui=5.0, est=3.709090909090909, details={'actual_k': 0, 'was_impossible': False}),\n",
       " Prediction(uid='A23ZXHFLC6TBLD', iid='B002Q2M8KK', r_ui=4.0, est=4.5777777777777775, details={'actual_k': 0, 'was_impossible': False}),\n",
       " Prediction(uid='A3IOQ7NVVLAUEE', iid='B00C99MUHQ', r_ui=5.0, est=4.265800582326734, details={'was_impossible': True, 'reason': 'User and/or item is unknown.'}),\n",
       " Prediction(uid='A1RDHBBZE1NPS3', iid='B005CRQLSG', r_ui=4.0, est=4.265800582326734, details={'was_impossible': True, 'reason': 'User and/or item is unknown.'}),\n",
       " Prediction(uid='A1LAGS8H4A2DR7', iid='B0009GYR9K', r_ui=4.0, est=4.265800582326734, details={'was_impossible': True, 'reason': 'User and/or item is unknown.'}),\n",
       " Prediction(uid='A1LD5SE8IZ1H70', iid='B004HH1MR2', r_ui=4.0, est=4.265800582326734, details={'was_impossible': True, 'reason': 'User and/or item is unknown.'}),\n",
       " Prediction(uid='A1L64KDYO5BOJA', iid='B000OHA4KK', r_ui=2.0, est=4.265800582326734, details={'was_impossible': True, 'reason': 'User and/or item is unknown.'}),\n",
       " Prediction(uid='A3SVYWA9O1KUQV', iid='B0007Y79AI', r_ui=4.0, est=4.615384615384615, details={'actual_k': 0, 'was_impossible': False}),\n",
       " Prediction(uid='A3TP31S61PPE3G', iid='B00B8PRRTI', r_ui=5.0, est=3.925, details={'actual_k': 0, 'was_impossible': False}),\n",
       " Prediction(uid='AYO1146CBIV5C', iid='B0088CJT4U', r_ui=5.0, est=3.9867916276487025, details={'actual_k': 5, 'was_impossible': False}),\n",
       " Prediction(uid='A1PI8VBCXXSGC7', iid='B00KVNY2KA', r_ui=5.0, est=4.572286646315962, details={'actual_k': 2, 'was_impossible': False}),\n",
       " Prediction(uid='AOVTLYTHVDNUX', iid='B00HPM1G8Q', r_ui=4.0, est=4.785428482978366, details={'actual_k': 2, 'was_impossible': False}),\n",
       " Prediction(uid='A1X1CEGHTHMBL1', iid='B00005V619', r_ui=5.0, est=5, details={'actual_k': 1, 'was_impossible': False}),\n",
       " Prediction(uid='A111WCUF5KA2I6', iid='B00310GEEC', r_ui=5.0, est=4.265800582326734, details={'was_impossible': True, 'reason': 'User and/or item is unknown.'}),\n",
       " Prediction(uid='A2VJ5ALN1BIV3B', iid='B004Q0PT3I', r_ui=5.0, est=4.551020408163265, details={'actual_k': 0, 'was_impossible': False}),\n",
       " Prediction(uid='A2DS9DLMSU2M2Z', iid='B004G8QERU', r_ui=4.0, est=4.265800582326734, details={'was_impossible': True, 'reason': 'User and/or item is unknown.'}),\n",
       " Prediction(uid='A2LEIANN1UZTHP', iid='B00004WFWH', r_ui=5.0, est=4.265800582326734, details={'was_impossible': True, 'reason': 'User and/or item is unknown.'}),\n",
       " Prediction(uid='ATDE9JYCPI0L1', iid='B00JKM0EQE', r_ui=3.0, est=4.162790697674419, details={'actual_k': 0, 'was_impossible': False}),\n",
       " Prediction(uid='A2UTZ4O5E2W4DK', iid='B00814CAS2', r_ui=5.0, est=4.618099547511313, details={'actual_k': 1, 'was_impossible': False}),\n",
       " Prediction(uid='A2X695AM08AIN1', iid='B004TLH7C0', r_ui=1.0, est=4.116279069767442, details={'actual_k': 0, 'was_impossible': False}),\n",
       " Prediction(uid='A7EU2BWLLCJY2', iid='B00H7HDQIC', r_ui=5.0, est=4.93433222345542, details={'actual_k': 1, 'was_impossible': False}),\n",
       " Prediction(uid='A3VBZDYGHF4NK8', iid='B005YR0X4W', r_ui=5.0, est=4.382978723404255, details={'actual_k': 0, 'was_impossible': False}),\n",
       " Prediction(uid='A34BZM6S9L7QI4', iid='B004CLYEFK', r_ui=4.0, est=4.8900999197973185, details={'actual_k': 5, 'was_impossible': False}),\n",
       " Prediction(uid='AR3EVUQF0AC7R', iid='B005EWB37S', r_ui=3.0, est=3.399258561096489, details={'actual_k': 4, 'was_impossible': False}),\n",
       " Prediction(uid='A3HR0ZZOFKQ97N', iid='B00AO1L1RG', r_ui=4.0, est=4.498624105668684, details={'actual_k': 1, 'was_impossible': False}),\n",
       " Prediction(uid='A3CW0ZLUO5X2B1', iid='B001L7UL50', r_ui=4.0, est=4.265800582326734, details={'was_impossible': True, 'reason': 'User and/or item is unknown.'}),\n",
       " Prediction(uid='ADLVFFE4VBT8', iid='B008HK3WK0', r_ui=1.0, est=3.8788123364011353, details={'actual_k': 2, 'was_impossible': False}),\n",
       " Prediction(uid='A3RGJ1FXOB1ZLL', iid='B00B2X0SME', r_ui=5.0, est=5, details={'actual_k': 1, 'was_impossible': False}),\n",
       " Prediction(uid='A3639Z6O5JBLIZ', iid='B00081A2KY', r_ui=5.0, est=4.816326530612245, details={'actual_k': 0, 'was_impossible': False}),\n",
       " Prediction(uid='AM3XNQU9TZBD8', iid='B005JLQL26', r_ui=5.0, est=4.352561279444781, details={'actual_k': 2, 'was_impossible': False}),\n",
       " Prediction(uid='A1JWSDDIH5Z7DV', iid='B0001XLS4S', r_ui=5.0, est=4.265800582326734, details={'was_impossible': True, 'reason': 'User and/or item is unknown.'}),\n",
       " Prediction(uid='A2AF0NOCM71J0B', iid='B001KBZ3TG', r_ui=5.0, est=4.265800582326734, details={'was_impossible': True, 'reason': 'User and/or item is unknown.'}),\n",
       " Prediction(uid='A2TKWMX4563NR6', iid='B00BKXWESW', r_ui=5.0, est=4.265800582326734, details={'was_impossible': True, 'reason': 'User and/or item is unknown.'}),\n",
       " Prediction(uid='A3CW0ZLUO5X2B1', iid='B008N06I2I', r_ui=4.0, est=3.2622958670561752, details={'actual_k': 1, 'was_impossible': False}),\n",
       " Prediction(uid='A204K1OFE8OB9Y', iid='B008KT6KZM', r_ui=2.0, est=4.265800582326734, details={'was_impossible': True, 'reason': 'User and/or item is unknown.'}),\n",
       " Prediction(uid='A11I1I9QLMAM1A', iid='B002JP6K7Q', r_ui=5.0, est=4.265800582326734, details={'was_impossible': True, 'reason': 'User and/or item is unknown.'}),\n",
       " Prediction(uid='A1YE1IK0JYSIIE', iid='B002IL8XRQ', r_ui=5.0, est=4.294117647058823, details={'actual_k': 0, 'was_impossible': False}),\n",
       " Prediction(uid='A231WM2Z2JL0U3', iid='B000050AQ7', r_ui=5.0, est=4.374269005847953, details={'actual_k': 0, 'was_impossible': False}),\n",
       " Prediction(uid='A1PAGHECG401K1', iid='B0097CZHAU', r_ui=4.0, est=3.0633969405456547, details={'actual_k': 1, 'was_impossible': False}),\n",
       " Prediction(uid='A6FIAB28IS79', iid='B000OV4W3Q', r_ui=4.0, est=2.7688618925831205, details={'actual_k': 1, 'was_impossible': False}),\n",
       " Prediction(uid='A16RI68PS6T5CA', iid='B00006BAXM', r_ui=4.0, est=4.265800582326734, details={'was_impossible': True, 'reason': 'User and/or item is unknown.'}),\n",
       " Prediction(uid='A18HE80910BTZI', iid='B001WYIJL0', r_ui=4.0, est=3.798449612403101, details={'actual_k': 0, 'was_impossible': False}),\n",
       " Prediction(uid='A292TRC6DX2GKK', iid='B001C3N18C', r_ui=1.0, est=4.265800582326734, details={'was_impossible': True, 'reason': 'User and/or item is unknown.'}),\n",
       " Prediction(uid='A19RGDJPNZ7NZ', iid='B000AM3U2I', r_ui=5.0, est=4.253521126760563, details={'actual_k': 0, 'was_impossible': False}),\n",
       " Prediction(uid='A3L1VJMHFWONCB', iid='B0008IW78W', r_ui=3.0, est=4.265800582326734, details={'was_impossible': True, 'reason': 'User and/or item is unknown.'}),\n",
       " Prediction(uid='A3HQAPXAJV7PRX', iid='B009WZRCO6', r_ui=3.0, est=3.904309763442693, details={'actual_k': 5, 'was_impossible': False}),\n",
       " Prediction(uid='A1J5HIF41ENSMZ', iid='B007477COO', r_ui=4.0, est=4.9300955590026305, details={'actual_k': 2, 'was_impossible': False}),\n",
       " Prediction(uid='A680RUE1FDO8B', iid='B00CA66YGQ', r_ui=5.0, est=4.441780821917808, details={'actual_k': 0, 'was_impossible': False}),\n",
       " Prediction(uid='A3IJL9A50KVVZ1', iid='B000S35TAU', r_ui=5.0, est=4.265800582326734, details={'was_impossible': True, 'reason': 'User and/or item is unknown.'}),\n",
       " Prediction(uid='A3P1508PZ0UADD', iid='B000ZH98LU', r_ui=1.0, est=3.8444444444444446, details={'actual_k': 0, 'was_impossible': False}),\n",
       " Prediction(uid='A3CEUT263RNUDO', iid='B000089GN3', r_ui=4.0, est=3.1330158730158724, details={'actual_k': 1, 'was_impossible': False}),\n",
       " Prediction(uid='A3V0YR50F1XSKP', iid='B005587N48', r_ui=5.0, est=4.265800582326734, details={'was_impossible': True, 'reason': 'User and/or item is unknown.'}),\n",
       " Prediction(uid='ACY9QYNDFLVBI', iid='B004CRSM4S', r_ui=5.0, est=4.265800582326734, details={'was_impossible': True, 'reason': 'User and/or item is unknown.'}),\n",
       " Prediction(uid='A2AY4YUOX2N1BQ', iid='B0007KQLBK', r_ui=5.0, est=4.265800582326734, details={'was_impossible': True, 'reason': 'User and/or item is unknown.'}),\n",
       " Prediction(uid='A1KKE6VX8VPWZK', iid='B003NREDHS', r_ui=3.0, est=4.548387096774194, details={'actual_k': 0, 'was_impossible': False}),\n",
       " Prediction(uid='A3R4794K2RVU1S', iid='B0041OSQ9I', r_ui=5.0, est=4.402039513130772, details={'actual_k': 3, 'was_impossible': False}),\n",
       " Prediction(uid='A27QXQQOLAMRRR', iid='B00EVIBN8U', r_ui=3.0, est=4.431453770111646, details={'actual_k': 5, 'was_impossible': False}),\n",
       " Prediction(uid='A2LFWJ8X817QGX', iid='B002WE4HE2', r_ui=5.0, est=4.636021505376345, details={'actual_k': 1, 'was_impossible': False}),\n",
       " Prediction(uid='AYO1146CBIV5C', iid='B004L9M4C8', r_ui=5.0, est=5, details={'actual_k': 1, 'was_impossible': False}),\n",
       " Prediction(uid='A33XMCG1UFDSY2', iid='B0087NZ31S', r_ui=5.0, est=3.33835005574136, details={'actual_k': 1, 'was_impossible': False}),\n",
       " Prediction(uid='A3SVYWA9O1KUQV', iid='B000QAY028', r_ui=5.0, est=4.265800582326734, details={'was_impossible': True, 'reason': 'User and/or item is unknown.'}),\n",
       " Prediction(uid='AR8LWDT6TUKNZ', iid='B007X4A4RA', r_ui=4.0, est=4.265800582326734, details={'was_impossible': True, 'reason': 'User and/or item is unknown.'}),\n",
       " Prediction(uid='A3BKNXX8QFIXIV', iid='B00A0UWZGW', r_ui=5.0, est=4.265800582326734, details={'was_impossible': True, 'reason': 'User and/or item is unknown.'}),\n",
       " Prediction(uid='A87CILADRIZW0', iid='B001QUA6RA', r_ui=5.0, est=5, details={'actual_k': 1, 'was_impossible': False}),\n",
       " Prediction(uid='A30C8WHQ2CYFO4', iid='B0000501T1', r_ui=4.0, est=3.7941176470588234, details={'actual_k': 0, 'was_impossible': False}),\n",
       " Prediction(uid='A34BZM6S9L7QI4', iid='B002S53LJ2', r_ui=5.0, est=4.622950819672131, details={'actual_k': 0, 'was_impossible': False}),\n",
       " Prediction(uid='A27GITTN6AVW5I', iid='B006Z0Q2SI', r_ui=5.0, est=4.081081081081081, details={'actual_k': 0, 'was_impossible': False}),\n",
       " Prediction(uid='A27M75LRSJ788H', iid='B000JMJWV2', r_ui=5.0, est=5, details={'actual_k': 5, 'was_impossible': False}),\n",
       " Prediction(uid='A2GMZZ6TDYOHY7', iid='B00358MP02', r_ui=5.0, est=4.265800582326734, details={'was_impossible': True, 'reason': 'User and/or item is unknown.'}),\n",
       " Prediction(uid='ARXU3FESTWMJJ', iid='B0011000R6', r_ui=4.0, est=3.6923076923076925, details={'actual_k': 0, 'was_impossible': False}),\n",
       " Prediction(uid='AR8LWDT6TUKNZ', iid='B003VCW6G0', r_ui=5.0, est=4.621621621621622, details={'actual_k': 0, 'was_impossible': False}),\n",
       " Prediction(uid='AR8LWDT6TUKNZ', iid='B005C95NM4', r_ui=5.0, est=4.265800582326734, details={'was_impossible': True, 'reason': 'User and/or item is unknown.'}),\n",
       " Prediction(uid='ACYZXQ2JKPZKT', iid='B000063XJB', r_ui=5.0, est=4.265800582326734, details={'was_impossible': True, 'reason': 'User and/or item is unknown.'}),\n",
       " Prediction(uid='A3F7F7QKQP2FKT', iid='B001CRQZ72', r_ui=4.0, est=4.265800582326734, details={'was_impossible': True, 'reason': 'User and/or item is unknown.'}),\n",
       " Prediction(uid='ADLVFFE4VBT8', iid='B001D8GR00', r_ui=5.0, est=4.289544235924933, details={'actual_k': 0, 'was_impossible': False}),\n",
       " Prediction(uid='A1EQ5D5JRSW23K', iid='B003BIOITM', r_ui=5.0, est=4.265800582326734, details={'was_impossible': True, 'reason': 'User and/or item is unknown.'}),\n",
       " Prediction(uid='AY6A8KPYCE6B0', iid='B00CDGSNKS', r_ui=4.0, est=4.15, details={'actual_k': 0, 'was_impossible': False}),\n",
       " Prediction(uid='A3OXHLG6DIBRW8', iid='B000C8TSCQ', r_ui=4.0, est=4.265800582326734, details={'was_impossible': True, 'reason': 'User and/or item is unknown.'}),\n",
       " Prediction(uid='A2BCDZO1XQLDH', iid='B004CLYEB4', r_ui=5.0, est=3.61620082815735, details={'actual_k': 1, 'was_impossible': False}),\n",
       " Prediction(uid='ADLVFFE4VBT8', iid='B004U78J1G', r_ui=5.0, est=5, details={'actual_k': 3, 'was_impossible': False}),\n",
       " Prediction(uid='A2PZXXPGLXXKZU', iid='B004N85YB0', r_ui=2.0, est=4.265800582326734, details={'was_impossible': True, 'reason': 'User and/or item is unknown.'}),\n",
       " Prediction(uid='AR3EVUQF0AC7R', iid='B0079TOI8K', r_ui=4.0, est=3.681165723762652, details={'actual_k': 5, 'was_impossible': False}),\n",
       " Prediction(uid='A2NJQF2UI60VGT', iid='B004RORMF6', r_ui=5.0, est=4.5, details={'actual_k': 0, 'was_impossible': False}),\n",
       " Prediction(uid='A34VRVI4CSI5RQ', iid='B00BM1PWY0', r_ui=4.0, est=4.224137931034483, details={'actual_k': 0, 'was_impossible': False}),\n",
       " Prediction(uid='A2SGAJWXG65464', iid='B00495XLYO', r_ui=5.0, est=4.265800582326734, details={'was_impossible': True, 'reason': 'User and/or item is unknown.'}),\n",
       " Prediction(uid='A209G57KXCBF4C', iid='B00AQUO5RI', r_ui=4.0, est=4.2781921895568225, details={'actual_k': 1, 'was_impossible': False}),\n",
       " Prediction(uid='A1VOFY3QFT9WCG', iid='B0030DL37I', r_ui=5.0, est=4.828571428571428, details={'actual_k': 0, 'was_impossible': False}),\n",
       " Prediction(uid='AMKNPIDFLRFMP', iid='B00024ENES', r_ui=5.0, est=3.6595744680851063, details={'actual_k': 0, 'was_impossible': False}),\n",
       " Prediction(uid='A2YHXGPCTENZY3', iid='B001FS1LLI', r_ui=3.0, est=2.3962264150943398, details={'actual_k': 0, 'was_impossible': False}),\n",
       " Prediction(uid='AWH2AY17ZU7W2', iid='B00AQDG96K', r_ui=3.0, est=3.5215503875968994, details={'actual_k': 1, 'was_impossible': False}),\n",
       " Prediction(uid='A3284KYDZ00BZA', iid='B001LXMF80', r_ui=3.0, est=4.014084507042254, details={'actual_k': 0, 'was_impossible': False}),\n",
       " Prediction(uid='A1A535TCGNMVPI', iid='B000VI2HT8', r_ui=5.0, est=4.568965517241379, details={'actual_k': 0, 'was_impossible': False}),\n",
       " Prediction(uid='A2KZOIOFXXMC1H', iid='B000ZH98LU', r_ui=5.0, est=3.9411764705882355, details={'actual_k': 0, 'was_impossible': False}),\n",
       " Prediction(uid='AJEOFP6ZWY0MK', iid='B002SQK2F2', r_ui=5.0, est=3.924150571763512, details={'actual_k': 2, 'was_impossible': False}),\n",
       " Prediction(uid='A2L0F2T1DLTNT8', iid='B0027VT6V4', r_ui=3.0, est=4.4523809523809526, details={'actual_k': 0, 'was_impossible': False}),\n",
       " Prediction(uid='A1C5WS021EL3WO', iid='B007FH1KX2', r_ui=5.0, est=4.640625, details={'actual_k': 0, 'was_impossible': False}),\n",
       " Prediction(uid='A2WW57XX2UVLM6', iid='B004EBUXHQ', r_ui=5.0, est=4.184615384615385, details={'actual_k': 0, 'was_impossible': False}),\n",
       " Prediction(uid='A3EPJSPH03AS29', iid='B00013MSUQ', r_ui=4.0, est=4.604651162790698, details={'actual_k': 0, 'was_impossible': False}),\n",
       " Prediction(uid='A11T807LX2EF00', iid='B00AVST4GM', r_ui=5.0, est=4.897567221510884, details={'actual_k': 1, 'was_impossible': False}),\n",
       " Prediction(uid='AWPODHOB4GFWL', iid='B004VTHKZE', r_ui=3.0, est=4.265800582326734, details={'was_impossible': True, 'reason': 'User and/or item is unknown.'}),\n",
       " Prediction(uid='AEAFHD09X8044', iid='B001JQ4PY6', r_ui=4.0, est=4.265800582326734, details={'was_impossible': True, 'reason': 'User and/or item is unknown.'}),\n",
       " Prediction(uid='A2ARDVMUGDFED6', iid='B001SVJUPG', r_ui=4.0, est=1.2143049932523615, details={'actual_k': 1, 'was_impossible': False}),\n",
       " Prediction(uid='A2MJ8OL2FYN7CW', iid='B000CKVOOY', r_ui=3.0, est=4.054545454545454, details={'actual_k': 1, 'was_impossible': False}),\n",
       " Prediction(uid='A1P4XD7IORSEFN', iid='B003LPTAYI', r_ui=4.0, est=3.69811320754717, details={'actual_k': 0, 'was_impossible': False}),\n",
       " Prediction(uid='AL5CUWBFBMWYQ', iid='B009HQCAPQ', r_ui=5.0, est=3.9767362245342435, details={'actual_k': 5, 'was_impossible': False}),\n",
       " Prediction(uid='A2DKQQIZ793AV5', iid='B00AHBKW2S', r_ui=5.0, est=5, details={'actual_k': 0, 'was_impossible': False}),\n",
       " Prediction(uid='A18NDN2CIG2TKR', iid='B008UC69J6', r_ui=4.0, est=4.8, details={'actual_k': 0, 'was_impossible': False}),\n",
       " Prediction(uid='A2XA8CW5DF4MNZ', iid='B008DWCRQW', r_ui=5.0, est=4.9618980579414576, details={'actual_k': 5, 'was_impossible': False}),\n",
       " Prediction(uid='A3D01HLSUFEZQY', iid='B00004WCFY', r_ui=5.0, est=4.489795918367347, details={'actual_k': 0, 'was_impossible': False}),\n",
       " Prediction(uid='A28UMA3GW9L124', iid='B00JP12170', r_ui=4.0, est=3.8141383077181636, details={'actual_k': 2, 'was_impossible': False}),\n",
       " Prediction(uid='A20UU20K7M9ZPF', iid='B008GFVF3M', r_ui=1.0, est=4.265800582326734, details={'was_impossible': True, 'reason': 'User and/or item is unknown.'}),\n",
       " Prediction(uid='A1J87SYB3JPQWH', iid='B000MUP69I', r_ui=5.0, est=4.717948717948718, details={'actual_k': 0, 'was_impossible': False}),\n",
       " Prediction(uid='AY6A8KPYCE6B0', iid='B00DQZO3JK', r_ui=4.0, est=2.7582474226804123, details={'actual_k': 1, 'was_impossible': False}),\n",
       " Prediction(uid='AC6Z7DP1Z5GHD', iid='B0095PMPDG', r_ui=5.0, est=4.265800582326734, details={'was_impossible': True, 'reason': 'User and/or item is unknown.'}),\n",
       " Prediction(uid='A23GFTVIETX7DS', iid='B002OL2NT4', r_ui=5.0, est=4.381720430107527, details={'actual_k': 0, 'was_impossible': False}),\n",
       " Prediction(uid='A3SL0HA6422W4M', iid='B001EUE6AK', r_ui=5.0, est=4.265800582326734, details={'was_impossible': True, 'reason': 'User and/or item is unknown.'}),\n",
       " Prediction(uid='A2HMF8ZR67BNZS', iid='B0075SUEOM', r_ui=5.0, est=4.265800582326734, details={'was_impossible': True, 'reason': 'User and/or item is unknown.'}),\n",
       " Prediction(uid='A2ARDVMUGDFED6', iid='B0012JNQYK', r_ui=3.0, est=4.3578947368421055, details={'actual_k': 0, 'was_impossible': False}),\n",
       " Prediction(uid='A1F7YU6O5RU432', iid='B000UO6C5S', r_ui=5.0, est=4.663716814159292, details={'actual_k': 0, 'was_impossible': False}),\n",
       " Prediction(uid='A3D1TZH619NKHN', iid='B0063705PE', r_ui=5.0, est=3.393075288199558, details={'actual_k': 2, 'was_impossible': False}),\n",
       " Prediction(uid='A2HNH4PKE5DPSI', iid='B0007TJ5AK', r_ui=5.0, est=4.614035087719298, details={'actual_k': 0, 'was_impossible': False}),\n",
       " Prediction(uid='A1ZCSSCAGBCD49', iid='B001TH7GVE', r_ui=5.0, est=4.382138519469476, details={'actual_k': 4, 'was_impossible': False}),\n",
       " Prediction(uid='A2VJ5ALN1BIV3B', iid='B00081A2KY', r_ui=5.0, est=5, details={'actual_k': 1, 'was_impossible': False}),\n",
       " Prediction(uid='A1GQRGB8FGSLIZ', iid='B001OC6DCW', r_ui=5.0, est=4.8706852637094205, details={'actual_k': 2, 'was_impossible': False}),\n",
       " Prediction(uid='A8P6GIIQ6YQV8', iid='B00DYOQ51C', r_ui=4.0, est=4.265800582326734, details={'was_impossible': True, 'reason': 'User and/or item is unknown.'}),\n",
       " Prediction(uid='A1J87SYB3JPQWH', iid='B0018N380W', r_ui=5.0, est=4.265800582326734, details={'was_impossible': True, 'reason': 'User and/or item is unknown.'}),\n",
       " Prediction(uid='ADZF3QDGSZE7K', iid='B00139W0XM', r_ui=4.0, est=4.080645161290323, details={'actual_k': 0, 'was_impossible': False}),\n",
       " Prediction(uid='A1ITRGMT80D5TK', iid='B00BDRX7ZE', r_ui=3.0, est=4.0, details={'actual_k': 0, 'was_impossible': False}),\n",
       " Prediction(uid='A11FX8HL2ANK6T', iid='B007DL79FS', r_ui=5.0, est=4.333333333333333, details={'actual_k': 0, 'was_impossible': False}),\n",
       " Prediction(uid='A10ZBR6O8S8OCY', iid='B0015AARJI', r_ui=5.0, est=5, details={'actual_k': 3, 'was_impossible': False}),\n",
       " Prediction(uid='A2WW57XX2UVLM6', iid='B004CLYEBY', r_ui=4.0, est=4.184615384615385, details={'actual_k': 0, 'was_impossible': False}),\n",
       " Prediction(uid='A105TOJ6LTVMBG', iid='B003LPUUDS', r_ui=5.0, est=3.8043478260869565, details={'actual_k': 0, 'was_impossible': False}),\n",
       " Prediction(uid='A1Z16630QMH8Q6', iid='B002K9IHGI', r_ui=5.0, est=5, details={'actual_k': 3, 'was_impossible': False}),\n",
       " Prediction(uid='ARBKYIVNYWK3C', iid='B0058N1U12', r_ui=3.0, est=4.383084577114428, details={'actual_k': 0, 'was_impossible': False}),\n",
       " Prediction(uid='A313H6238N589', iid='B0016OEV7C', r_ui=5.0, est=3.806451612903226, details={'actual_k': 0, 'was_impossible': False}),\n",
       " Prediction(uid='A30UP2KKD5IQEP', iid='B004T9RR6I', r_ui=4.0, est=3.7566416966678418, details={'actual_k': 5, 'was_impossible': False}),\n",
       " Prediction(uid='A15QYHQH80W30L', iid='B0014Z5XMK', r_ui=3.0, est=4.2272727272727275, details={'actual_k': 0, 'was_impossible': False}),\n",
       " Prediction(uid='A3LDLV1GWQJLEQ', iid='B00DQEB1V4', r_ui=3.0, est=3.251650485436893, details={'actual_k': 1, 'was_impossible': False}),\n",
       " Prediction(uid='A1TR1R2QKWRSRA', iid='B00DQZTJKI', r_ui=4.0, est=3.16004965552205, details={'actual_k': 2, 'was_impossible': False}),\n",
       " Prediction(uid='AN0JK8OQLUC55', iid='B000J6FWT4', r_ui=5.0, est=3.657142857142857, details={'actual_k': 0, 'was_impossible': False}),\n",
       " Prediction(uid='A1EKSETIBS9ETQ', iid='B0006G34ZQ', r_ui=5.0, est=4.265800582326734, details={'was_impossible': True, 'reason': 'User and/or item is unknown.'}),\n",
       " Prediction(uid='AR3EVUQF0AC7R', iid='B00IVPU7DG', r_ui=5.0, est=4.946282345234196, details={'actual_k': 1, 'was_impossible': False}),\n",
       " Prediction(uid='A2XHOLOLKGV1FE', iid='B006U1YUJ0', r_ui=1.0, est=4.265800582326734, details={'was_impossible': True, 'reason': 'User and/or item is unknown.'}),\n",
       " Prediction(uid='AGYH5U11ZKPFB', iid='B0069RXHQW', r_ui=4.0, est=4.265800582326734, details={'was_impossible': True, 'reason': 'User and/or item is unknown.'}),\n",
       " Prediction(uid='A32LX4XJ2LU740', iid='B009LL9VDG', r_ui=5.0, est=4.116666666666666, details={'actual_k': 0, 'was_impossible': False}),\n",
       " Prediction(uid='A2LLSFQO8O8XNW', iid='B005INYP7I', r_ui=5.0, est=4.470588235294118, details={'actual_k': 0, 'was_impossible': False}),\n",
       " Prediction(uid='AKSFZ4G1AXYFC', iid='B002W4RPD2', r_ui=5.0, est=4.258064516129032, details={'actual_k': 0, 'was_impossible': False}),\n",
       " Prediction(uid='A1G3DKT38DNZJP', iid='B00BWF5U0M', r_ui=5.0, est=4.138888888888889, details={'actual_k': 0, 'was_impossible': False}),\n",
       " Prediction(uid='A2LW5AL0KQ9P1M', iid='B0044UHMOO', r_ui=5.0, est=2.818847818847819, details={'actual_k': 1, 'was_impossible': False}),\n",
       " Prediction(uid='A2ZR3YTMEEIIZ4', iid='B0001D3K3A', r_ui=2.0, est=3.9285714285714284, details={'actual_k': 0, 'was_impossible': False}),\n",
       " Prediction(uid='A11I1I9QLMAM1A', iid='B00JZC972Q', r_ui=5.0, est=2.849499056192827, details={'actual_k': 1, 'was_impossible': False}),\n",
       " Prediction(uid='A2BCDZO1XQLDH', iid='B0001G6UAW', r_ui=5.0, est=4.023809523809524, details={'actual_k': 0, 'was_impossible': False}),\n",
       " Prediction(uid='APG2BHOAXPNEQ', iid='B004Y9OPC2', r_ui=1.0, est=3.951219512195122, details={'actual_k': 0, 'was_impossible': False}),\n",
       " Prediction(uid='AGVWTYW0ULXHT', iid='B00966PFHW', r_ui=3.0, est=4.581419036018314, details={'actual_k': 3, 'was_impossible': False}),\n",
       " Prediction(uid='A3N0P5AAMP6XD2', iid='B002KOME7G', r_ui=3.0, est=4.265800582326734, details={'was_impossible': True, 'reason': 'User and/or item is unknown.'}),\n",
       " Prediction(uid='AWNJAY0M5UI70', iid='B00A7KYH8E', r_ui=5.0, est=4.265800582326734, details={'was_impossible': True, 'reason': 'User and/or item is unknown.'}),\n",
       " Prediction(uid='A1EXGL6L0QQ0M5', iid='B0019RBJOE', r_ui=5.0, est=4.36875, details={'actual_k': 0, 'was_impossible': False}),\n",
       " Prediction(uid='A1W415JP5WEAJK', iid='B00AVE54JW', r_ui=4.0, est=4.117889747191011, details={'actual_k': 1, 'was_impossible': False}),\n",
       " Prediction(uid='A35HUT8MQMT21L', iid='B004FMF5OU', r_ui=5.0, est=4.265800582326734, details={'was_impossible': True, 'reason': 'User and/or item is unknown.'}),\n",
       " Prediction(uid='A1J75JJ0Q2OEJN', iid='B004GCJEZU', r_ui=5.0, est=4.1057461798201045, details={'actual_k': 5, 'was_impossible': False}),\n",
       " Prediction(uid='A1MJMYLRTZ76ZX', iid='B00E7MOAKI', r_ui=5.0, est=4.265800582326734, details={'was_impossible': True, 'reason': 'User and/or item is unknown.'}),\n",
       " Prediction(uid='A32T2H8150OJLU', iid='B00CD8ADKO', r_ui=5.0, est=5, details={'actual_k': 3, 'was_impossible': False}),\n",
       " Prediction(uid='A1NNMOD9H36Q8E', iid='B0002E3WKO', r_ui=5.0, est=3.984848484848485, details={'actual_k': 0, 'was_impossible': False}),\n",
       " Prediction(uid='A3V5F050GVZ56Q', iid='B00AKONZ3U', r_ui=5.0, est=5, details={'actual_k': 2, 'was_impossible': False}),\n",
       " Prediction(uid='A19XMHRB3G4DIR', iid='B004MF11MU', r_ui=5.0, est=4.813292884721456, details={'actual_k': 1, 'was_impossible': False}),\n",
       " Prediction(uid='A3F7USIDJBR8WU', iid='B000UCAQ1G', r_ui=5.0, est=4.566666666666666, details={'actual_k': 0, 'was_impossible': False}),\n",
       " Prediction(uid='A203OCQQ12MAVT', iid='B005DKZP6G', r_ui=4.0, est=4.1347383720930235, details={'actual_k': 1, 'was_impossible': False}),\n",
       " Prediction(uid='AZNUHQSHZHSUE', iid='B000BP8GQO', r_ui=2.0, est=4.265800582326734, details={'was_impossible': True, 'reason': 'User and/or item is unknown.'}),\n",
       " Prediction(uid='A2L42QEWR77PKZ', iid='B008ALA6DW', r_ui=5.0, est=4.799346805470504, details={'actual_k': 1, 'was_impossible': False}),\n",
       " Prediction(uid='A1QOIHVQC5XWCJ', iid='B002VFFA5M', r_ui=5.0, est=4.513513513513513, details={'actual_k': 0, 'was_impossible': False}),\n",
       " Prediction(uid='A1ODOGXEYECQQ8', iid='B001BJLKFS', r_ui=4.0, est=4.265800582326734, details={'was_impossible': True, 'reason': 'User and/or item is unknown.'}),\n",
       " Prediction(uid='ATDQ9CGCWTT8D', iid='B00752R5Z4', r_ui=3.0, est=4.265800582326734, details={'was_impossible': True, 'reason': 'User and/or item is unknown.'}),\n",
       " Prediction(uid='AZAC8O310IK4E', iid='B001RB1XVQ', r_ui=5.0, est=4.265800582326734, details={'was_impossible': True, 'reason': 'User and/or item is unknown.'}),\n",
       " Prediction(uid='A1MJMYLRTZ76ZX', iid='B000071A7U', r_ui=4.0, est=4.483333333333333, details={'actual_k': 0, 'was_impossible': False}),\n",
       " Prediction(uid='A2WLNSZ9U0T1S3', iid='B0000B3ALD', r_ui=5.0, est=4.343283582089552, details={'actual_k': 0, 'was_impossible': False}),\n",
       " Prediction(uid='A3S3R88HA0HZG3', iid='B000J47W12', r_ui=5.0, est=4.74468085106383, details={'actual_k': 0, 'was_impossible': False}),\n",
       " Prediction(uid='A2SGAJWXG65464', iid='B00C94GTJQ', r_ui=5.0, est=3.8461538461538463, details={'actual_k': 0, 'was_impossible': False}),\n",
       " Prediction(uid='A3W4D8XOGLWUN5', iid='B000A3WS16', r_ui=4.0, est=3.740740740740741, details={'actual_k': 0, 'was_impossible': False}),\n",
       " Prediction(uid='A3TBMAWIIHKHFN', iid='B001FWBUUG', r_ui=4.0, est=2.8621052631578947, details={'actual_k': 1, 'was_impossible': False}),\n",
       " Prediction(uid='A25QJBK33C4O0R', iid='B00BOHNYU6', r_ui=4.0, est=4.122559631900819, details={'actual_k': 5, 'was_impossible': False}),\n",
       " Prediction(uid='A1VHCO8RQFIGQJ', iid='B002YOVF90', r_ui=5.0, est=4.265800582326734, details={'was_impossible': True, 'reason': 'User and/or item is unknown.'}),\n",
       " Prediction(uid='AOMEH9W6LHC4S', iid='B005IHAIC0', r_ui=5.0, est=3.989130434782609, details={'actual_k': 0, 'was_impossible': False}),\n",
       " Prediction(uid='AO09RWV40IX78', iid='B007PRHNHO', r_ui=5.0, est=4.257985257985259, details={'actual_k': 1, 'was_impossible': False}),\n",
       " Prediction(uid='AT28RL25Q2OLK', iid='B00009R7ZL', r_ui=5.0, est=4.328, details={'actual_k': 0, 'was_impossible': False}),\n",
       " Prediction(uid='A1NZLRAZJGD99W', iid='B000MVJ1M0', r_ui=5.0, est=3.8157894736842106, details={'actual_k': 0, 'was_impossible': False}),\n",
       " Prediction(uid='A2DKQQIZ793AV5', iid='B0011UB9CQ', r_ui=5.0, est=5, details={'actual_k': 0, 'was_impossible': False}),\n",
       " Prediction(uid='AOJA1LC8PN7K1', iid='B0064X5Q5Q', r_ui=5.0, est=3.575, details={'actual_k': 0, 'was_impossible': False}),\n",
       " Prediction(uid='A3D2VIUT2HWP0Z', iid='B001O83XR4', r_ui=5.0, est=5, details={'actual_k': 2, 'was_impossible': False}),\n",
       " Prediction(uid='A1CMWB7AWQUQH4', iid='B000KKFIQ6', r_ui=5.0, est=3.95, details={'actual_k': 0, 'was_impossible': False}),\n",
       " Prediction(uid='A2VJ5ALN1BIV3B', iid='B003R4XSG4', r_ui=5.0, est=4.265800582326734, details={'was_impossible': True, 'reason': 'User and/or item is unknown.'}),\n",
       " Prediction(uid='A2NT3W1F1XYBFZ', iid='B005K8AUNE', r_ui=5.0, est=4.265800582326734, details={'was_impossible': True, 'reason': 'User and/or item is unknown.'}),\n",
       " Prediction(uid='AUITG1DJ3QUGK', iid='B003LSTD38', r_ui=5.0, est=4.428780304105164, details={'actual_k': 3, 'was_impossible': False}),\n",
       " Prediction(uid='A2M14CFAMF8J7I', iid='B00871SR68', r_ui=5.0, est=4.991819008318696, details={'actual_k': 2, 'was_impossible': False}),\n",
       " Prediction(uid='A1BT6TL7UCIC5Y', iid='B00061IYFQ', r_ui=4.0, est=4.327272727272727, details={'actual_k': 0, 'was_impossible': False}),\n",
       " Prediction(uid='AWPODHOB4GFWL', iid='B000JMJWV2', r_ui=5.0, est=4.895686393089846, details={'actual_k': 5, 'was_impossible': False}),\n",
       " Prediction(uid='A20VG5W98SX99L', iid='B000N99BBC', r_ui=5.0, est=4.503359964307283, details={'actual_k': 5, 'was_impossible': False}),\n",
       " Prediction(uid='A1VYFEJM12ZP11', iid='B005J799XI', r_ui=5.0, est=4.265800582326734, details={'was_impossible': True, 'reason': 'User and/or item is unknown.'}),\n",
       " Prediction(uid='A9ELHLPXF7JKD', iid='B009WZRCO6', r_ui=4.0, est=5, details={'actual_k': 1, 'was_impossible': False}),\n",
       " Prediction(uid='A1SC5OXLQNGPLN', iid='B000KJQ1DG', r_ui=5.0, est=4.67741935483871, details={'actual_k': 0, 'was_impossible': False}),\n",
       " Prediction(uid='A186697K4XKXQL', iid='B00E0HITQ6', r_ui=4.0, est=4.464808852262466, details={'actual_k': 4, 'was_impossible': False}),\n",
       " Prediction(uid='A33YZNZIRA3H97', iid='B000EVLS4C', r_ui=5.0, est=4.4025471893234025, details={'actual_k': 3, 'was_impossible': False}),\n",
       " Prediction(uid='A1E1LEVQ9VQNK', iid='B003ES5ZR8', r_ui=5.0, est=5, details={'actual_k': 3, 'was_impossible': False}),\n",
       " Prediction(uid='A2EZTM9WY5B5IL', iid='B004RQ048Q', r_ui=5.0, est=4.265800582326734, details={'was_impossible': True, 'reason': 'User and/or item is unknown.'}),\n",
       " Prediction(uid='A2WW57XX2UVLM6', iid='B002NU5UW8', r_ui=4.0, est=4.403970223325063, details={'actual_k': 1, 'was_impossible': False}),\n",
       " Prediction(uid='AGGAQLXPVGM5D', iid='B007XOQI4S', r_ui=5.0, est=4.52, details={'actual_k': 0, 'was_impossible': False}),\n",
       " Prediction(uid='A3W4D8XOGLWUN5', iid='B001QXDN4K', r_ui=5.0, est=3.740740740740741, details={'actual_k': 0, 'was_impossible': False}),\n",
       " Prediction(uid='A15Q2L6DYRTFIU', iid='B001HJTK5Y', r_ui=4.0, est=4.634146341463414, details={'actual_k': 0, 'was_impossible': False}),\n",
       " Prediction(uid='A11OTLEDSW8ZXD', iid='B005LW580O', r_ui=5.0, est=4.258064516129032, details={'actual_k': 0, 'was_impossible': False}),\n",
       " Prediction(uid='ARX0KOX5Q01BJ', iid='B00F25Z0FS', r_ui=5.0, est=4.265800582326734, details={'was_impossible': True, 'reason': 'User and/or item is unknown.'}),\n",
       " Prediction(uid='A2X695AM08AIN1', iid='B00AM4DKYC', r_ui=4.0, est=4.265800582326734, details={'was_impossible': True, 'reason': 'User and/or item is unknown.'}),\n",
       " Prediction(uid='AZ515FFZ7I2P7', iid='B004R71D0I', r_ui=3.0, est=3.9396875, details={'actual_k': 1, 'was_impossible': False}),\n",
       " Prediction(uid='AN81JUYW2SL24', iid='B000E65HXA', r_ui=5.0, est=4.615174443043296, details={'actual_k': 1, 'was_impossible': False}),\n",
       " Prediction(uid='A1ILWPH1GHUXE2', iid='B000QAY00K', r_ui=3.0, est=3.857142857142857, details={'actual_k': 0, 'was_impossible': False}),\n",
       " Prediction(uid='A2ARDVMUGDFED6', iid='B001AHALEC', r_ui=5.0, est=4.3578947368421055, details={'actual_k': 0, 'was_impossible': False}),\n",
       " Prediction(uid='A2BLFCOPSMBOZ9', iid='B00CKAQZTS', r_ui=5.0, est=4.752777777777778, details={'actual_k': 1, 'was_impossible': False}),\n",
       " Prediction(uid='A2SL5IW096Z2BL', iid='B00A9YQP8I', r_ui=5.0, est=4.265800582326734, details={'was_impossible': True, 'reason': 'User and/or item is unknown.'}),\n",
       " Prediction(uid='A33GNK4YENACDJ', iid='B0058BUNDU', r_ui=5.0, est=4.265800582326734, details={'was_impossible': True, 'reason': 'User and/or item is unknown.'}),\n",
       " Prediction(uid='A3775OP5VTX5ON', iid='B006K5LBA2', r_ui=3.0, est=4.265800582326734, details={'was_impossible': True, 'reason': 'User and/or item is unknown.'}),\n",
       " Prediction(uid='A2TA40MV2H4O6F', iid='B00BQ4F9ZA', r_ui=5.0, est=4.982914253020391, details={'actual_k': 3, 'was_impossible': False}),\n",
       " Prediction(uid='A4IL0CLL27Q33', iid='B00AVST3GS', r_ui=1.0, est=3.6983662615526587, details={'actual_k': 2, 'was_impossible': False}),\n",
       " Prediction(uid='A3QNQQKJTL76H0', iid='B001TODUXA', r_ui=4.0, est=3.7226900111220718, details={'actual_k': 2, 'was_impossible': False}),\n",
       " Prediction(uid='A33775AIB1A664', iid='B0003QIXBY', r_ui=4.0, est=3.91025641025641, details={'actual_k': 0, 'was_impossible': False}),\n",
       " Prediction(uid='A28N2AWOVO2PB', iid='B007LLYAB6', r_ui=5.0, est=4.490566037735849, details={'actual_k': 0, 'was_impossible': False}),\n",
       " Prediction(uid='A18S2VGUH9SCV5', iid='B003DNS882', r_ui=5.0, est=1, details={'actual_k': 1, 'was_impossible': False}),\n",
       " Prediction(uid='A1EKSETIBS9ETQ', iid='B000Q74102', r_ui=4.0, est=4.01010101010101, details={'actual_k': 0, 'was_impossible': False}),\n",
       " Prediction(uid='A1IBKN1GXYJ3K4', iid='B00006LHF0', r_ui=2.0, est=4.265800582326734, details={'was_impossible': True, 'reason': 'User and/or item is unknown.'}),\n",
       " Prediction(uid='A28N2AWOVO2PB', iid='B007FPIQ0E', r_ui=5.0, est=4.761271802091308, details={'actual_k': 2, 'was_impossible': False}),\n",
       " Prediction(uid='A3DQWFWINN3V5A', iid='B001QUA6R0', r_ui=5.0, est=4.773604773604774, details={'actual_k': 1, 'was_impossible': False}),\n",
       " Prediction(uid='ANW6EGY12V5XS', iid='B001B41X7I', r_ui=5.0, est=4.265800582326734, details={'was_impossible': True, 'reason': 'User and/or item is unknown.'}),\n",
       " Prediction(uid='AOVTLYTHVDNUX', iid='B007ULT422', r_ui=4.0, est=4.195121951219512, details={'actual_k': 0, 'was_impossible': False}),\n",
       " Prediction(uid='A2XAKGRUHIE2ZA', iid='B00176NKPS', r_ui=5.0, est=4.102564102564102, details={'actual_k': 0, 'was_impossible': False}),\n",
       " Prediction(uid='A10ZFE6YE0UHW8', iid='B00IWA1MNE', r_ui=4.0, est=3.903225806451613, details={'actual_k': 0, 'was_impossible': False}),\n",
       " Prediction(uid='A2W2ODLRQ2L8LE', iid='B0031RGGFC', r_ui=4.0, est=4.188679245283019, details={'actual_k': 0, 'was_impossible': False}),\n",
       " Prediction(uid='A1OO9N1MRNQ7K0', iid='B00166EUI0', r_ui=5.0, est=4.7254901960784315, details={'actual_k': 0, 'was_impossible': False}),\n",
       " Prediction(uid='A21GW4L8FO307V', iid='B009X8EB7I', r_ui=4.0, est=4.265800582326734, details={'was_impossible': True, 'reason': 'User and/or item is unknown.'}),\n",
       " Prediction(uid='A38RMU1Y5TDP9', iid='B003ZG9T62', r_ui=5.0, est=4.298342541436464, details={'actual_k': 0, 'was_impossible': False}),\n",
       " Prediction(uid='A2SPV96SGOEO2', iid='B001OC5L0C', r_ui=3.0, est=4.205128205128205, details={'actual_k': 0, 'was_impossible': False}),\n",
       " Prediction(uid='A2VODABWSVHV8E', iid='B000L9OIQC', r_ui=5.0, est=4.925373134328358, details={'actual_k': 0, 'was_impossible': False}),\n",
       " Prediction(uid='A1PSVZBM894R5H', iid='B000CS7U1C', r_ui=3.0, est=3.217391304347826, details={'actual_k': 0, 'was_impossible': False}),\n",
       " Prediction(uid='A32O98PFC3OP7K', iid='B00AQDG96K', r_ui=5.0, est=4.135135135135135, details={'actual_k': 0, 'was_impossible': False}),\n",
       " Prediction(uid='A39K52QDP4C3ZS', iid='B00016W6O6', r_ui=5.0, est=4.265800582326734, details={'was_impossible': True, 'reason': 'User and/or item is unknown.'}),\n",
       " Prediction(uid='AA3FTJYJYX55C', iid='B0060B7NCG', r_ui=4.0, est=4.2368421052631575, details={'actual_k': 0, 'was_impossible': False}),\n",
       " Prediction(uid='A25WJCAP606YMP', iid='B003ZDLATE', r_ui=5.0, est=4.265800582326734, details={'was_impossible': True, 'reason': 'User and/or item is unknown.'}),\n",
       " Prediction(uid='A1HBEQWSMVQEWJ', iid='B00DWGB6CU', r_ui=1.0, est=4.265800582326734, details={'was_impossible': True, 'reason': 'User and/or item is unknown.'}),\n",
       " Prediction(uid='AQB4DH57MSZSC', iid='B0077KMY4G', r_ui=5.0, est=4.613636363636363, details={'actual_k': 0, 'was_impossible': False}),\n",
       " Prediction(uid='AQ55H30MZSV0Q', iid='B00007GRLM', r_ui=3.0, est=4.265800582326734, details={'was_impossible': True, 'reason': 'User and/or item is unknown.'}),\n",
       " Prediction(uid='A9BWUH9XKZ2DQ', iid='B0032HM6HS', r_ui=4.0, est=4.265800582326734, details={'was_impossible': True, 'reason': 'User and/or item is unknown.'}),\n",
       " Prediction(uid='A1CSRR7FCKBL9M', iid='B0092QJRPC', r_ui=5.0, est=4.265800582326734, details={'was_impossible': True, 'reason': 'User and/or item is unknown.'}),\n",
       " Prediction(uid='A6VXZ1EEPRTLV', iid='B00009QP16', r_ui=4.0, est=4.265800582326734, details={'was_impossible': True, 'reason': 'User and/or item is unknown.'}),\n",
       " Prediction(uid='A203OCQQ12MAVT', iid='B0000X0VCY', r_ui=5.0, est=4.931749241658241, details={'actual_k': 1, 'was_impossible': False}),\n",
       " Prediction(uid='A27B1U3OWCU14J', iid='B0018O9JIG', r_ui=5.0, est=4.773905452591996, details={'actual_k': 1, 'was_impossible': False}),\n",
       " Prediction(uid='A3LGT6UZL99IW1', iid='B009BZX340', r_ui=5.0, est=4.680946065428825, details={'actual_k': 1, 'was_impossible': False}),\n",
       " Prediction(uid='A3BKNXX8QFIXIV', iid='B001P05NBA', r_ui=5.0, est=4.564195176555846, details={'actual_k': 2, 'was_impossible': False}),\n",
       " Prediction(uid='A1F7YU6O5RU432', iid='B00AAN1SVM', r_ui=5.0, est=4.86584447373376, details={'actual_k': 1, 'was_impossible': False}),\n",
       " ...]"
      ]
     },
     "execution_count": 33,
     "metadata": {},
     "output_type": "execute_result"
    }
   ],
   "source": [
    "test_pred"
   ]
  },
  {
   "cell_type": "code",
   "execution_count": null,
   "metadata": {},
   "outputs": [],
   "source": []
  },
  {
   "cell_type": "code",
   "execution_count": null,
   "metadata": {},
   "outputs": [],
   "source": []
  },
  {
   "cell_type": "markdown",
   "metadata": {},
   "source": [
    "\n",
    "## 6. Evaluate both the models. ( Once the model is trained on the training data, it can be used to compute the error (RMSE) on predictions made on the test data.)"
   ]
  },
  {
   "cell_type": "code",
   "execution_count": 34,
   "metadata": {},
   "outputs": [
    {
     "name": "stdout",
     "output_type": "stream",
     "text": [
      "User-based Model : Test Set\n",
      "RMSE: 1.0541\n"
     ]
    },
    {
     "data": {
      "text/plain": [
       "1.0541456656887611"
      ]
     },
     "execution_count": 34,
     "metadata": {},
     "output_type": "execute_result"
    }
   ],
   "source": [
    "# get RMSE\n",
    "print(\"User-based Model : Test Set\")\n",
    "accuracy.rmse(test_pred, verbose=True)"
   ]
  },
  {
   "cell_type": "code",
   "execution_count": null,
   "metadata": {},
   "outputs": [],
   "source": []
  },
  {
   "cell_type": "code",
   "execution_count": null,
   "metadata": {},
   "outputs": [],
   "source": []
  },
  {
   "cell_type": "code",
   "execution_count": null,
   "metadata": {},
   "outputs": [],
   "source": []
  },
  {
   "cell_type": "code",
   "execution_count": null,
   "metadata": {},
   "outputs": [],
   "source": []
  },
  {
   "cell_type": "markdown",
   "metadata": {},
   "source": [
    "\n",
    "## 7. Get top - K ( K = 5) recommendations. Since our goal is to recommend new products for each user based on his/her habits, we will recommend 5 new products."
   ]
  },
  {
   "cell_type": "code",
   "execution_count": 35,
   "metadata": {},
   "outputs": [
    {
     "data": {
      "text/plain": [
       "0    118\n",
       "1    177\n",
       "2    178\n",
       "3    492\n",
       "4    631\n",
       "dtype: int64"
      ]
     },
     "execution_count": 35,
     "metadata": {},
     "output_type": "execute_result"
    }
   ],
   "source": [
    "# instantiating and generating the count matrix\n",
    "count = CountVectorizer()\n",
    "count_matrix = count.fit_transform(df_new['product_id'])\n",
    "\n",
    "# creating a Series for the movie titles so they are associated to an ordered numerical\n",
    "# list I will use later to match the indexes\n",
    "indices = pd.Series(df_new.index)\n",
    "indices[:5]"
   ]
  },
  {
   "cell_type": "code",
   "execution_count": 36,
   "metadata": {},
   "outputs": [
    {
     "data": {
      "text/plain": [
       "<122171x47155 sparse matrix of type '<class 'numpy.int64'>'\n",
       "\twith 122171 stored elements in Compressed Sparse Row format>"
      ]
     },
     "execution_count": 36,
     "metadata": {},
     "output_type": "execute_result"
    }
   ],
   "source": [
    "count_matrix "
   ]
  },
  {
   "cell_type": "code",
   "execution_count": 37,
   "metadata": {},
   "outputs": [],
   "source": [
    "c=count_matrix.toarray()"
   ]
  },
  {
   "cell_type": "code",
   "execution_count": 38,
   "metadata": {},
   "outputs": [
    {
     "data": {
      "text/plain": [
       "array([[1, 0, 0, ..., 0, 0, 0],\n",
       "       [0, 1, 0, ..., 0, 0, 0],\n",
       "       [0, 1, 0, ..., 0, 0, 0],\n",
       "       ...,\n",
       "       [0, 0, 0, ..., 0, 1, 0],\n",
       "       [0, 0, 0, ..., 0, 1, 0],\n",
       "       [0, 0, 0, ..., 0, 0, 1]])"
      ]
     },
     "execution_count": 38,
     "metadata": {},
     "output_type": "execute_result"
    }
   ],
   "source": [
    "c"
   ]
  },
  {
   "cell_type": "code",
   "execution_count": 39,
   "metadata": {},
   "outputs": [
    {
     "data": {
      "text/plain": [
       "scipy.sparse.csr.csr_matrix"
      ]
     },
     "execution_count": 39,
     "metadata": {},
     "output_type": "execute_result"
    }
   ],
   "source": [
    "type(count_matrix)"
   ]
  },
  {
   "cell_type": "code",
   "execution_count": 40,
   "metadata": {},
   "outputs": [
    {
     "name": "stdout",
     "output_type": "stream",
     "text": [
      "  (0, 0)\t1\n"
     ]
    }
   ],
   "source": [
    "print(count_matrix[0,:])"
   ]
  },
  {
   "cell_type": "markdown",
   "metadata": {},
   "source": [
    "## 8. Summarise your insights."
   ]
  },
  {
   "cell_type": "markdown",
   "metadata": {},
   "source": [
    "This system can be improved by building a Memory-Based Collaborative Filtering based system.  An alternative is to build a Model-based Collaborative Filtering system. This is based on matrix factorization. Matrix factorization is good at dealing with scalability and sparsity than the former. We can then evaluate your model using techniques such as Root Mean Squared Error(RMSE).\n",
    "Each of our model has some of the issue like cold start, popularity based on only the product and unawareness of the type of electronics item so it would be appropriate to combine and build a Hybrid model recommendation system"
   ]
  },
  {
   "cell_type": "code",
   "execution_count": null,
   "metadata": {},
   "outputs": [],
   "source": []
  }
 ],
 "metadata": {
  "kernelspec": {
   "display_name": "Python 3 (ipykernel)",
   "language": "python",
   "name": "python3"
  },
  "language_info": {
   "codemirror_mode": {
    "name": "ipython",
    "version": 3
   },
   "file_extension": ".py",
   "mimetype": "text/x-python",
   "name": "python",
   "nbconvert_exporter": "python",
   "pygments_lexer": "ipython3",
   "version": "3.8.12"
  }
 },
 "nbformat": 4,
 "nbformat_minor": 2
}
